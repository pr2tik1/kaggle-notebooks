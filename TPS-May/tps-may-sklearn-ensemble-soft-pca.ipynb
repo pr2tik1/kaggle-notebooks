{
 "cells": [
  {
   "cell_type": "markdown",
   "id": "processed-david",
   "metadata": {
    "_cell_guid": "b1076dfc-b9ad-4769-8c92-a6c4dae69d19",
    "_uuid": "8f2839f25d086af736a60e9eeb907d3b93b6e0e5",
    "papermill": {
     "duration": 0.027853,
     "end_time": "2021-05-09T08:10:48.006856",
     "exception": false,
     "start_time": "2021-05-09T08:10:47.979003",
     "status": "completed"
    },
    "tags": []
   },
   "source": [
    "![](https://storage.googleapis.com/kaggle-competitions/kaggle/25225/logos/header.png?t=2021-01-27-17-34-26)\n",
    "\n",
    "# Tabular Playground Series - May 2021\n",
    "---\n",
    "This notebook contains data analysis, data visualization and model development/training. To achieve this I will be importing scikit learn, plotly,, matplotlib, and numpy. I have used following techniques:\n",
    "\n",
    "    1. Dimensionality reduction technique \n",
    "    2. Normalization\n",
    "    3. Ensembling Models with sklearn.ensemble.VotingClassifier\n",
    "    4. Classification models:\n",
    "        \n",
    "        - Logisitc Regression \n",
    "        - Decision Tree\n",
    "        - Random Forest\n",
    "        - k-NN\n",
    "        - XGboost Classifier"
   ]
  },
  {
   "cell_type": "markdown",
   "id": "filled-individual",
   "metadata": {
    "papermill": {
     "duration": 0.026995,
     "end_time": "2021-05-09T08:10:48.061177",
     "exception": false,
     "start_time": "2021-05-09T08:10:48.034182",
     "status": "completed"
    },
    "tags": []
   },
   "source": [
    "# 1. Importing data and libraries 📲\n",
    "---\n",
    "\n",
    "Later in this notebook we will see that dataset is imbalanced. This affects the training of model and needs to be addressed. The plan is to first load data as pandas dataframe then normalize it. Then have some visualizations to understand more about the data. Finally preprocessing the scaled into machine learning section.   "
   ]
  },
  {
   "cell_type": "markdown",
   "id": "atmospheric-africa",
   "metadata": {
    "papermill": {
     "duration": 0.02714,
     "end_time": "2021-05-09T08:10:48.116223",
     "exception": false,
     "start_time": "2021-05-09T08:10:48.089083",
     "status": "completed"
    },
    "tags": []
   },
   "source": [
    "## 1.1. Libraries\n",
    "---"
   ]
  },
  {
   "cell_type": "code",
   "execution_count": 1,
   "id": "bibliographic-worth",
   "metadata": {
    "execution": {
     "iopub.execute_input": "2021-05-09T08:10:48.174604Z",
     "iopub.status.busy": "2021-05-09T08:10:48.173752Z",
     "iopub.status.idle": "2021-05-09T08:10:49.991919Z",
     "shell.execute_reply": "2021-05-09T08:10:49.992310Z"
    },
    "papermill": {
     "duration": 1.848644,
     "end_time": "2021-05-09T08:10:49.992543",
     "exception": false,
     "start_time": "2021-05-09T08:10:48.143899",
     "status": "completed"
    },
    "tags": []
   },
   "outputs": [],
   "source": [
    "import pandas as pd \n",
    "import numpy as np\n",
    "\n",
    "import plotly.express as px\n",
    "import seaborn as sns\n",
    "import matplotlib.pyplot as plt\n",
    "%matplotlib inline\n",
    "\n",
    "plt.rcParams[\"figure.figsize\"] = (10,5)\n",
    "\n",
    "import warnings\n",
    "warnings.filterwarnings('ignore')"
   ]
  },
  {
   "cell_type": "markdown",
   "id": "embedded-house",
   "metadata": {
    "papermill": {
     "duration": 0.026208,
     "end_time": "2021-05-09T08:10:50.045575",
     "exception": false,
     "start_time": "2021-05-09T08:10:50.019367",
     "status": "completed"
    },
    "tags": []
   },
   "source": [
    "## 1.2. Training and Testing data imports\n",
    "---"
   ]
  },
  {
   "cell_type": "code",
   "execution_count": 2,
   "id": "adequate-coordinate",
   "metadata": {
    "execution": {
     "iopub.execute_input": "2021-05-09T08:10:50.100474Z",
     "iopub.status.busy": "2021-05-09T08:10:50.100013Z",
     "iopub.status.idle": "2021-05-09T08:10:50.872152Z",
     "shell.execute_reply": "2021-05-09T08:10:50.872500Z"
    },
    "papermill": {
     "duration": 0.800603,
     "end_time": "2021-05-09T08:10:50.872633",
     "exception": false,
     "start_time": "2021-05-09T08:10:50.072030",
     "status": "completed"
    },
    "tags": []
   },
   "outputs": [
    {
     "data": {
      "text/html": [
       "<div>\n",
       "<style scoped>\n",
       "    .dataframe tbody tr th:only-of-type {\n",
       "        vertical-align: middle;\n",
       "    }\n",
       "\n",
       "    .dataframe tbody tr th {\n",
       "        vertical-align: top;\n",
       "    }\n",
       "\n",
       "    .dataframe thead th {\n",
       "        text-align: right;\n",
       "    }\n",
       "</style>\n",
       "<table border=\"1\" class=\"dataframe\">\n",
       "  <thead>\n",
       "    <tr style=\"text-align: right;\">\n",
       "      <th></th>\n",
       "      <th>id</th>\n",
       "      <th>feature_0</th>\n",
       "      <th>feature_1</th>\n",
       "      <th>feature_2</th>\n",
       "      <th>feature_3</th>\n",
       "      <th>feature_4</th>\n",
       "      <th>feature_5</th>\n",
       "      <th>feature_6</th>\n",
       "      <th>feature_7</th>\n",
       "      <th>feature_8</th>\n",
       "      <th>...</th>\n",
       "      <th>feature_41</th>\n",
       "      <th>feature_42</th>\n",
       "      <th>feature_43</th>\n",
       "      <th>feature_44</th>\n",
       "      <th>feature_45</th>\n",
       "      <th>feature_46</th>\n",
       "      <th>feature_47</th>\n",
       "      <th>feature_48</th>\n",
       "      <th>feature_49</th>\n",
       "      <th>target</th>\n",
       "    </tr>\n",
       "  </thead>\n",
       "  <tbody>\n",
       "    <tr>\n",
       "      <th>0</th>\n",
       "      <td>0</td>\n",
       "      <td>0</td>\n",
       "      <td>0</td>\n",
       "      <td>1</td>\n",
       "      <td>0</td>\n",
       "      <td>1</td>\n",
       "      <td>0</td>\n",
       "      <td>0</td>\n",
       "      <td>0</td>\n",
       "      <td>0</td>\n",
       "      <td>...</td>\n",
       "      <td>0</td>\n",
       "      <td>0</td>\n",
       "      <td>21</td>\n",
       "      <td>0</td>\n",
       "      <td>0</td>\n",
       "      <td>0</td>\n",
       "      <td>0</td>\n",
       "      <td>0</td>\n",
       "      <td>0</td>\n",
       "      <td>Class_2</td>\n",
       "    </tr>\n",
       "    <tr>\n",
       "      <th>1</th>\n",
       "      <td>1</td>\n",
       "      <td>0</td>\n",
       "      <td>0</td>\n",
       "      <td>0</td>\n",
       "      <td>0</td>\n",
       "      <td>2</td>\n",
       "      <td>1</td>\n",
       "      <td>0</td>\n",
       "      <td>0</td>\n",
       "      <td>0</td>\n",
       "      <td>...</td>\n",
       "      <td>0</td>\n",
       "      <td>0</td>\n",
       "      <td>0</td>\n",
       "      <td>0</td>\n",
       "      <td>0</td>\n",
       "      <td>0</td>\n",
       "      <td>0</td>\n",
       "      <td>0</td>\n",
       "      <td>0</td>\n",
       "      <td>Class_1</td>\n",
       "    </tr>\n",
       "    <tr>\n",
       "      <th>2</th>\n",
       "      <td>2</td>\n",
       "      <td>0</td>\n",
       "      <td>0</td>\n",
       "      <td>0</td>\n",
       "      <td>0</td>\n",
       "      <td>0</td>\n",
       "      <td>0</td>\n",
       "      <td>0</td>\n",
       "      <td>0</td>\n",
       "      <td>0</td>\n",
       "      <td>...</td>\n",
       "      <td>0</td>\n",
       "      <td>1</td>\n",
       "      <td>0</td>\n",
       "      <td>0</td>\n",
       "      <td>0</td>\n",
       "      <td>0</td>\n",
       "      <td>13</td>\n",
       "      <td>2</td>\n",
       "      <td>0</td>\n",
       "      <td>Class_1</td>\n",
       "    </tr>\n",
       "    <tr>\n",
       "      <th>3</th>\n",
       "      <td>3</td>\n",
       "      <td>0</td>\n",
       "      <td>0</td>\n",
       "      <td>0</td>\n",
       "      <td>0</td>\n",
       "      <td>0</td>\n",
       "      <td>0</td>\n",
       "      <td>0</td>\n",
       "      <td>3</td>\n",
       "      <td>0</td>\n",
       "      <td>...</td>\n",
       "      <td>0</td>\n",
       "      <td>0</td>\n",
       "      <td>0</td>\n",
       "      <td>0</td>\n",
       "      <td>0</td>\n",
       "      <td>0</td>\n",
       "      <td>0</td>\n",
       "      <td>1</td>\n",
       "      <td>0</td>\n",
       "      <td>Class_4</td>\n",
       "    </tr>\n",
       "    <tr>\n",
       "      <th>4</th>\n",
       "      <td>4</td>\n",
       "      <td>0</td>\n",
       "      <td>0</td>\n",
       "      <td>0</td>\n",
       "      <td>0</td>\n",
       "      <td>0</td>\n",
       "      <td>0</td>\n",
       "      <td>0</td>\n",
       "      <td>0</td>\n",
       "      <td>0</td>\n",
       "      <td>...</td>\n",
       "      <td>0</td>\n",
       "      <td>0</td>\n",
       "      <td>0</td>\n",
       "      <td>0</td>\n",
       "      <td>0</td>\n",
       "      <td>0</td>\n",
       "      <td>0</td>\n",
       "      <td>1</td>\n",
       "      <td>0</td>\n",
       "      <td>Class_2</td>\n",
       "    </tr>\n",
       "  </tbody>\n",
       "</table>\n",
       "<p>5 rows × 52 columns</p>\n",
       "</div>"
      ],
      "text/plain": [
       "   id  feature_0  feature_1  feature_2  feature_3  feature_4  feature_5  \\\n",
       "0   0          0          0          1          0          1          0   \n",
       "1   1          0          0          0          0          2          1   \n",
       "2   2          0          0          0          0          0          0   \n",
       "3   3          0          0          0          0          0          0   \n",
       "4   4          0          0          0          0          0          0   \n",
       "\n",
       "   feature_6  feature_7  feature_8  ...  feature_41  feature_42  feature_43  \\\n",
       "0          0          0          0  ...           0           0          21   \n",
       "1          0          0          0  ...           0           0           0   \n",
       "2          0          0          0  ...           0           1           0   \n",
       "3          0          3          0  ...           0           0           0   \n",
       "4          0          0          0  ...           0           0           0   \n",
       "\n",
       "   feature_44  feature_45  feature_46  feature_47  feature_48  feature_49  \\\n",
       "0           0           0           0           0           0           0   \n",
       "1           0           0           0           0           0           0   \n",
       "2           0           0           0          13           2           0   \n",
       "3           0           0           0           0           1           0   \n",
       "4           0           0           0           0           1           0   \n",
       "\n",
       "    target  \n",
       "0  Class_2  \n",
       "1  Class_1  \n",
       "2  Class_1  \n",
       "3  Class_4  \n",
       "4  Class_2  \n",
       "\n",
       "[5 rows x 52 columns]"
      ]
     },
     "metadata": {},
     "output_type": "display_data"
    },
    {
     "data": {
      "text/html": [
       "<div>\n",
       "<style scoped>\n",
       "    .dataframe tbody tr th:only-of-type {\n",
       "        vertical-align: middle;\n",
       "    }\n",
       "\n",
       "    .dataframe tbody tr th {\n",
       "        vertical-align: top;\n",
       "    }\n",
       "\n",
       "    .dataframe thead th {\n",
       "        text-align: right;\n",
       "    }\n",
       "</style>\n",
       "<table border=\"1\" class=\"dataframe\">\n",
       "  <thead>\n",
       "    <tr style=\"text-align: right;\">\n",
       "      <th></th>\n",
       "      <th>id</th>\n",
       "      <th>feature_0</th>\n",
       "      <th>feature_1</th>\n",
       "      <th>feature_2</th>\n",
       "      <th>feature_3</th>\n",
       "      <th>feature_4</th>\n",
       "      <th>feature_5</th>\n",
       "      <th>feature_6</th>\n",
       "      <th>feature_7</th>\n",
       "      <th>feature_8</th>\n",
       "      <th>...</th>\n",
       "      <th>feature_40</th>\n",
       "      <th>feature_41</th>\n",
       "      <th>feature_42</th>\n",
       "      <th>feature_43</th>\n",
       "      <th>feature_44</th>\n",
       "      <th>feature_45</th>\n",
       "      <th>feature_46</th>\n",
       "      <th>feature_47</th>\n",
       "      <th>feature_48</th>\n",
       "      <th>feature_49</th>\n",
       "    </tr>\n",
       "  </thead>\n",
       "  <tbody>\n",
       "    <tr>\n",
       "      <th>0</th>\n",
       "      <td>100000</td>\n",
       "      <td>0</td>\n",
       "      <td>0</td>\n",
       "      <td>0</td>\n",
       "      <td>0</td>\n",
       "      <td>0</td>\n",
       "      <td>0</td>\n",
       "      <td>4</td>\n",
       "      <td>4</td>\n",
       "      <td>0</td>\n",
       "      <td>...</td>\n",
       "      <td>0</td>\n",
       "      <td>0</td>\n",
       "      <td>0</td>\n",
       "      <td>0</td>\n",
       "      <td>0</td>\n",
       "      <td>0</td>\n",
       "      <td>0</td>\n",
       "      <td>0</td>\n",
       "      <td>0</td>\n",
       "      <td>0</td>\n",
       "    </tr>\n",
       "    <tr>\n",
       "      <th>1</th>\n",
       "      <td>100001</td>\n",
       "      <td>0</td>\n",
       "      <td>0</td>\n",
       "      <td>1</td>\n",
       "      <td>0</td>\n",
       "      <td>0</td>\n",
       "      <td>0</td>\n",
       "      <td>2</td>\n",
       "      <td>0</td>\n",
       "      <td>7</td>\n",
       "      <td>...</td>\n",
       "      <td>3</td>\n",
       "      <td>0</td>\n",
       "      <td>1</td>\n",
       "      <td>0</td>\n",
       "      <td>0</td>\n",
       "      <td>0</td>\n",
       "      <td>1</td>\n",
       "      <td>0</td>\n",
       "      <td>2</td>\n",
       "      <td>1</td>\n",
       "    </tr>\n",
       "    <tr>\n",
       "      <th>2</th>\n",
       "      <td>100002</td>\n",
       "      <td>0</td>\n",
       "      <td>0</td>\n",
       "      <td>0</td>\n",
       "      <td>0</td>\n",
       "      <td>0</td>\n",
       "      <td>0</td>\n",
       "      <td>0</td>\n",
       "      <td>0</td>\n",
       "      <td>1</td>\n",
       "      <td>...</td>\n",
       "      <td>0</td>\n",
       "      <td>0</td>\n",
       "      <td>0</td>\n",
       "      <td>1</td>\n",
       "      <td>0</td>\n",
       "      <td>0</td>\n",
       "      <td>0</td>\n",
       "      <td>0</td>\n",
       "      <td>6</td>\n",
       "      <td>0</td>\n",
       "    </tr>\n",
       "    <tr>\n",
       "      <th>3</th>\n",
       "      <td>100003</td>\n",
       "      <td>0</td>\n",
       "      <td>0</td>\n",
       "      <td>0</td>\n",
       "      <td>0</td>\n",
       "      <td>0</td>\n",
       "      <td>0</td>\n",
       "      <td>0</td>\n",
       "      <td>1</td>\n",
       "      <td>1</td>\n",
       "      <td>...</td>\n",
       "      <td>0</td>\n",
       "      <td>0</td>\n",
       "      <td>0</td>\n",
       "      <td>0</td>\n",
       "      <td>0</td>\n",
       "      <td>0</td>\n",
       "      <td>6</td>\n",
       "      <td>9</td>\n",
       "      <td>14</td>\n",
       "      <td>3</td>\n",
       "    </tr>\n",
       "    <tr>\n",
       "      <th>4</th>\n",
       "      <td>100004</td>\n",
       "      <td>0</td>\n",
       "      <td>0</td>\n",
       "      <td>0</td>\n",
       "      <td>0</td>\n",
       "      <td>0</td>\n",
       "      <td>0</td>\n",
       "      <td>1</td>\n",
       "      <td>0</td>\n",
       "      <td>4</td>\n",
       "      <td>...</td>\n",
       "      <td>1</td>\n",
       "      <td>0</td>\n",
       "      <td>0</td>\n",
       "      <td>0</td>\n",
       "      <td>0</td>\n",
       "      <td>0</td>\n",
       "      <td>0</td>\n",
       "      <td>0</td>\n",
       "      <td>0</td>\n",
       "      <td>0</td>\n",
       "    </tr>\n",
       "  </tbody>\n",
       "</table>\n",
       "<p>5 rows × 51 columns</p>\n",
       "</div>"
      ],
      "text/plain": [
       "       id  feature_0  feature_1  feature_2  feature_3  feature_4  feature_5  \\\n",
       "0  100000          0          0          0          0          0          0   \n",
       "1  100001          0          0          1          0          0          0   \n",
       "2  100002          0          0          0          0          0          0   \n",
       "3  100003          0          0          0          0          0          0   \n",
       "4  100004          0          0          0          0          0          0   \n",
       "\n",
       "   feature_6  feature_7  feature_8  ...  feature_40  feature_41  feature_42  \\\n",
       "0          4          4          0  ...           0           0           0   \n",
       "1          2          0          7  ...           3           0           1   \n",
       "2          0          0          1  ...           0           0           0   \n",
       "3          0          1          1  ...           0           0           0   \n",
       "4          1          0          4  ...           1           0           0   \n",
       "\n",
       "   feature_43  feature_44  feature_45  feature_46  feature_47  feature_48  \\\n",
       "0           0           0           0           0           0           0   \n",
       "1           0           0           0           1           0           2   \n",
       "2           1           0           0           0           0           6   \n",
       "3           0           0           0           6           9          14   \n",
       "4           0           0           0           0           0           0   \n",
       "\n",
       "   feature_49  \n",
       "0           0  \n",
       "1           1  \n",
       "2           0  \n",
       "3           3  \n",
       "4           0  \n",
       "\n",
       "[5 rows x 51 columns]"
      ]
     },
     "metadata": {},
     "output_type": "display_data"
    }
   ],
   "source": [
    "train = pd.read_csv(\"../input/tabular-playground-series-may-2021/train.csv\")\n",
    "test  = pd.read_csv(\"../input/tabular-playground-series-may-2021/test.csv\")\n",
    "display(train.head())\n",
    "display(test.head())"
   ]
  },
  {
   "cell_type": "code",
   "execution_count": 3,
   "id": "incredible-marker",
   "metadata": {
    "execution": {
     "iopub.execute_input": "2021-05-09T08:10:50.934982Z",
     "iopub.status.busy": "2021-05-09T08:10:50.934263Z",
     "iopub.status.idle": "2021-05-09T08:10:50.938816Z",
     "shell.execute_reply": "2021-05-09T08:10:50.938395Z"
    },
    "papermill": {
     "duration": 0.037415,
     "end_time": "2021-05-09T08:10:50.938936",
     "exception": false,
     "start_time": "2021-05-09T08:10:50.901521",
     "status": "completed"
    },
    "tags": []
   },
   "outputs": [
    {
     "name": "stdout",
     "output_type": "stream",
     "text": [
      "Train Shape:  (100000, 52) \n",
      "Test Shape:  (50000, 51)\n"
     ]
    }
   ],
   "source": [
    "print(\"Train Shape: \", train.shape, \"\\nTest Shape: \",test.shape)"
   ]
  },
  {
   "cell_type": "code",
   "execution_count": 4,
   "id": "threatened-hudson",
   "metadata": {
    "execution": {
     "iopub.execute_input": "2021-05-09T08:10:50.999948Z",
     "iopub.status.busy": "2021-05-09T08:10:50.999359Z",
     "iopub.status.idle": "2021-05-09T08:10:51.002759Z",
     "shell.execute_reply": "2021-05-09T08:10:51.002332Z"
    },
    "papermill": {
     "duration": 0.035439,
     "end_time": "2021-05-09T08:10:51.002886",
     "exception": false,
     "start_time": "2021-05-09T08:10:50.967447",
     "status": "completed"
    },
    "tags": []
   },
   "outputs": [],
   "source": [
    "#train.dtypes"
   ]
  },
  {
   "cell_type": "markdown",
   "id": "better-simple",
   "metadata": {
    "papermill": {
     "duration": 0.027706,
     "end_time": "2021-05-09T08:10:51.059182",
     "exception": false,
     "start_time": "2021-05-09T08:10:51.031476",
     "status": "completed"
    },
    "tags": []
   },
   "source": [
    "# 2. Pairwise relationships between continuous variables 🤝 \n",
    "---"
   ]
  },
  {
   "cell_type": "code",
   "execution_count": 5,
   "id": "pediatric-elephant",
   "metadata": {
    "execution": {
     "iopub.execute_input": "2021-05-09T08:10:51.118692Z",
     "iopub.status.busy": "2021-05-09T08:10:51.118231Z",
     "iopub.status.idle": "2021-05-09T08:10:51.120728Z",
     "shell.execute_reply": "2021-05-09T08:10:51.120299Z"
    },
    "papermill": {
     "duration": 0.033581,
     "end_time": "2021-05-09T08:10:51.120815",
     "exception": false,
     "start_time": "2021-05-09T08:10:51.087234",
     "status": "completed"
    },
    "tags": []
   },
   "outputs": [],
   "source": [
    "#corr = train.corr()\n",
    "#corr.style.background_gradient()"
   ]
  },
  {
   "cell_type": "markdown",
   "id": "greenhouse-latter",
   "metadata": {
    "papermill": {
     "duration": 0.028216,
     "end_time": "2021-05-09T08:10:51.177168",
     "exception": false,
     "start_time": "2021-05-09T08:10:51.148952",
     "status": "completed"
    },
    "tags": []
   },
   "source": [
    "We should avoid using variables that have strong correlations with each other -- hence avoiding feature redundancy -- for a few reasons:\n",
    "\n",
    "    - To keep the model simple and improve interpretability (with many features, we run the risk of overfitting).\n",
    "    - When our datasets are very large, using fewer features can drastically speed up our computation time.\n",
    "    \n",
    "But we find no such strong relations here."
   ]
  },
  {
   "cell_type": "markdown",
   "id": "streaming-corporation",
   "metadata": {
    "papermill": {
     "duration": 0.028365,
     "end_time": "2021-05-09T08:10:51.234040",
     "exception": false,
     "start_time": "2021-05-09T08:10:51.205675",
     "status": "completed"
    },
    "tags": []
   },
   "source": [
    "# 3. Normalizing the features 🦾\n",
    "---"
   ]
  },
  {
   "cell_type": "code",
   "execution_count": 6,
   "id": "desirable-hello",
   "metadata": {
    "execution": {
     "iopub.execute_input": "2021-05-09T08:10:51.293583Z",
     "iopub.status.busy": "2021-05-09T08:10:51.292966Z",
     "iopub.status.idle": "2021-05-09T08:10:51.309284Z",
     "shell.execute_reply": "2021-05-09T08:10:51.308730Z"
    },
    "papermill": {
     "duration": 0.046853,
     "end_time": "2021-05-09T08:10:51.309391",
     "exception": false,
     "start_time": "2021-05-09T08:10:51.262538",
     "status": "completed"
    },
    "tags": []
   },
   "outputs": [
    {
     "name": "stdout",
     "output_type": "stream",
     "text": [
      "(100000, 50) (100000,)\n"
     ]
    }
   ],
   "source": [
    "features = train.drop([\"id\", \"target\"], axis = 1)\n",
    "labels = train[\"target\"]\n",
    "print(features.shape, labels.shape)"
   ]
  },
  {
   "cell_type": "code",
   "execution_count": 7,
   "id": "blond-august",
   "metadata": {
    "execution": {
     "iopub.execute_input": "2021-05-09T08:10:51.391286Z",
     "iopub.status.busy": "2021-05-09T08:10:51.390784Z",
     "iopub.status.idle": "2021-05-09T08:10:55.546206Z",
     "shell.execute_reply": "2021-05-09T08:10:55.545799Z"
    },
    "papermill": {
     "duration": 4.203611,
     "end_time": "2021-05-09T08:10:55.546312",
     "exception": false,
     "start_time": "2021-05-09T08:10:51.342701",
     "status": "completed"
    },
    "tags": []
   },
   "outputs": [],
   "source": [
    "from sklearn.preprocessing import StandardScaler\n",
    "from sklearn.preprocessing import PowerTransformer\n",
    "\n",
    "#scaler = StandardScaler()\n",
    "scaler = PowerTransformer()\n",
    "scaled_train = scaler.fit_transform(features)"
   ]
  },
  {
   "cell_type": "code",
   "execution_count": 8,
   "id": "quantitative-limitation",
   "metadata": {
    "execution": {
     "iopub.execute_input": "2021-05-09T08:10:55.609794Z",
     "iopub.status.busy": "2021-05-09T08:10:55.608834Z",
     "iopub.status.idle": "2021-05-09T08:10:55.613206Z",
     "shell.execute_reply": "2021-05-09T08:10:55.613544Z"
    },
    "papermill": {
     "duration": 0.038058,
     "end_time": "2021-05-09T08:10:55.613674",
     "exception": false,
     "start_time": "2021-05-09T08:10:55.575616",
     "status": "completed"
    },
    "tags": []
   },
   "outputs": [
    {
     "data": {
      "text/plain": [
       "((100000, 50), numpy.ndarray)"
      ]
     },
     "execution_count": 8,
     "metadata": {},
     "output_type": "execute_result"
    }
   ],
   "source": [
    "scaled_train.shape, type(scaled_train)"
   ]
  },
  {
   "cell_type": "code",
   "execution_count": 9,
   "id": "wound-conditions",
   "metadata": {
    "execution": {
     "iopub.execute_input": "2021-05-09T08:10:55.678178Z",
     "iopub.status.busy": "2021-05-09T08:10:55.677568Z",
     "iopub.status.idle": "2021-05-09T08:10:55.681783Z",
     "shell.execute_reply": "2021-05-09T08:10:55.682183Z"
    },
    "papermill": {
     "duration": 0.039089,
     "end_time": "2021-05-09T08:10:55.682322",
     "exception": false,
     "start_time": "2021-05-09T08:10:55.643233",
     "status": "completed"
    },
    "tags": []
   },
   "outputs": [
    {
     "data": {
      "text/plain": [
       "array([[-0.36095407, -0.35130683,  3.79019053, ..., -0.41564362,\n",
       "        -0.68249791, -0.49167856],\n",
       "       [-0.36095407, -0.35130683, -0.26383751, ..., -0.41564362,\n",
       "        -0.68249791, -0.49167856],\n",
       "       [-0.36095407, -0.35130683, -0.26383751, ...,  2.43026571,\n",
       "         1.52636639, -0.49167856],\n",
       "       ...,\n",
       "       [-0.36095407, -0.35130683, -0.26383751, ..., -0.41564362,\n",
       "         1.52636639, -0.49167856],\n",
       "       [-0.36095407, -0.35130683, -0.26383751, ..., -0.41564362,\n",
       "         1.71381376, -0.49167856],\n",
       "       [-0.36095407, -0.35130683, -0.26383751, ..., -0.41564362,\n",
       "        -0.68249791,  2.11356523]])"
      ]
     },
     "execution_count": 9,
     "metadata": {},
     "output_type": "execute_result"
    }
   ],
   "source": [
    "scaled_train"
   ]
  },
  {
   "cell_type": "markdown",
   "id": "active-permit",
   "metadata": {
    "papermill": {
     "duration": 0.029472,
     "end_time": "2021-05-09T08:10:55.741801",
     "exception": false,
     "start_time": "2021-05-09T08:10:55.712329",
     "status": "completed"
    },
    "tags": []
   },
   "source": [
    "# 4. Dimenstionality Reduction ⏬\n",
    "---"
   ]
  },
  {
   "cell_type": "code",
   "execution_count": 10,
   "id": "hundred-democracy",
   "metadata": {
    "execution": {
     "iopub.execute_input": "2021-05-09T08:10:55.806537Z",
     "iopub.status.busy": "2021-05-09T08:10:55.806053Z",
     "iopub.status.idle": "2021-05-09T08:10:56.224942Z",
     "shell.execute_reply": "2021-05-09T08:10:56.225501Z"
    },
    "papermill": {
     "duration": 0.453843,
     "end_time": "2021-05-09T08:10:56.225661",
     "exception": false,
     "start_time": "2021-05-09T08:10:55.771818",
     "status": "completed"
    },
    "tags": []
   },
   "outputs": [
    {
     "name": "stdout",
     "output_type": "stream",
     "text": [
      "Explained Variance:  [0.02613253 0.02241237 0.02166372 0.0212666  0.02093062 0.02066408\n",
      " 0.02052806 0.02045398 0.02040138 0.02037468 0.02029107 0.02027311\n",
      " 0.02026582 0.02020479 0.02014235 0.02011373 0.02007436 0.02003609\n",
      " 0.01999691 0.01998595 0.01993461 0.01990316 0.01987614 0.01982206\n",
      " 0.01980031 0.01979751 0.0197809  0.01976327 0.01967747 0.01964803\n",
      " 0.01963339 0.01959306 0.01957227 0.01952754 0.0194928  0.0194489\n",
      " 0.01941641 0.01937729 0.01933202 0.01931426 0.01930637 0.01924458\n",
      " 0.01921568 0.01915032 0.01913102 0.01911231 0.01904419 0.01901017\n",
      " 0.01896773 0.01889403]\n",
      "Components:  50\n"
     ]
    }
   ],
   "source": [
    "from sklearn.decomposition import PCA\n",
    "\n",
    "pca=PCA()\n",
    "pca.fit(scaled_train)\n",
    "exp_var = pca.explained_variance_ratio_\n",
    "print(\"Explained Variance: \",exp_var)\n",
    "print(\"Components: \",pca.n_components_)"
   ]
  },
  {
   "cell_type": "code",
   "execution_count": 11,
   "id": "processed-fence",
   "metadata": {
    "execution": {
     "iopub.execute_input": "2021-05-09T08:10:56.316000Z",
     "iopub.status.busy": "2021-05-09T08:10:56.315309Z",
     "iopub.status.idle": "2021-05-09T08:10:56.519795Z",
     "shell.execute_reply": "2021-05-09T08:10:56.519410Z"
    },
    "papermill": {
     "duration": 0.253946,
     "end_time": "2021-05-09T08:10:56.519920",
     "exception": false,
     "start_time": "2021-05-09T08:10:56.265974",
     "status": "completed"
    },
    "tags": []
   },
   "outputs": [
    {
     "data": {
      "text/plain": [
       "Text(0.5, 0, 'Principal Component #')"
      ]
     },
     "execution_count": 11,
     "metadata": {},
     "output_type": "execute_result"
    },
    {
     "data": {
      "image/png": "[encoded data removed]",
      "text/plain": [
       "<Figure size 720x360 with 1 Axes>"
      ]
     },
     "metadata": {
      "needs_background": "light"
     },
     "output_type": "display_data"
    }
   ],
   "source": [
    "fig, ax = plt.subplots()\n",
    "ax.bar(range(pca.n_components_), exp_var)\n",
    "ax.set_xlabel('Principal Component #')"
   ]
  },
  {
   "cell_type": "code",
   "execution_count": 12,
   "id": "designing-closer",
   "metadata": {
    "execution": {
     "iopub.execute_input": "2021-05-09T08:10:56.586295Z",
     "iopub.status.busy": "2021-05-09T08:10:56.585668Z",
     "iopub.status.idle": "2021-05-09T08:10:57.406696Z",
     "shell.execute_reply": "2021-05-09T08:10:57.406163Z"
    },
    "papermill": {
     "duration": 0.855288,
     "end_time": "2021-05-09T08:10:57.406818",
     "exception": false,
     "start_time": "2021-05-09T08:10:56.551530",
     "status": "completed"
    },
    "tags": []
   },
   "outputs": [
    {
     "data": {
      "text/plain": [
       "(100000, 3)"
      ]
     },
     "execution_count": 12,
     "metadata": {},
     "output_type": "execute_result"
    }
   ],
   "source": [
    "n_components = 3\n",
    "pca = PCA(n_components, random_state=10)\n",
    "pca.fit(scaled_train)\n",
    "pca_projection = pca.transform(scaled_train)\n",
    "pca_projection.shape"
   ]
  },
  {
   "cell_type": "code",
   "execution_count": 13,
   "id": "hollywood-fetish",
   "metadata": {
    "execution": {
     "iopub.execute_input": "2021-05-09T08:10:57.502616Z",
     "iopub.status.busy": "2021-05-09T08:10:57.502055Z",
     "iopub.status.idle": "2021-05-09T08:10:57.508045Z",
     "shell.execute_reply": "2021-05-09T08:10:57.508467Z"
    },
    "papermill": {
     "duration": 0.058896,
     "end_time": "2021-05-09T08:10:57.508618",
     "exception": false,
     "start_time": "2021-05-09T08:10:57.449722",
     "status": "completed"
    },
    "tags": []
   },
   "outputs": [
    {
     "data": {
      "text/html": [
       "<div>\n",
       "<style scoped>\n",
       "    .dataframe tbody tr th:only-of-type {\n",
       "        vertical-align: middle;\n",
       "    }\n",
       "\n",
       "    .dataframe tbody tr th {\n",
       "        vertical-align: top;\n",
       "    }\n",
       "\n",
       "    .dataframe thead th {\n",
       "        text-align: right;\n",
       "    }\n",
       "</style>\n",
       "<table border=\"1\" class=\"dataframe\">\n",
       "  <thead>\n",
       "    <tr style=\"text-align: right;\">\n",
       "      <th></th>\n",
       "      <th>PC1</th>\n",
       "      <th>PC2</th>\n",
       "      <th>PC3</th>\n",
       "    </tr>\n",
       "  </thead>\n",
       "  <tbody>\n",
       "    <tr>\n",
       "      <th>0</th>\n",
       "      <td>0.615251</td>\n",
       "      <td>-2.632123</td>\n",
       "      <td>-1.003052</td>\n",
       "    </tr>\n",
       "    <tr>\n",
       "      <th>1</th>\n",
       "      <td>1.354305</td>\n",
       "      <td>-1.635452</td>\n",
       "      <td>-1.131316</td>\n",
       "    </tr>\n",
       "    <tr>\n",
       "      <th>2</th>\n",
       "      <td>-2.506674</td>\n",
       "      <td>0.671427</td>\n",
       "      <td>1.703367</td>\n",
       "    </tr>\n",
       "    <tr>\n",
       "      <th>3</th>\n",
       "      <td>0.311724</td>\n",
       "      <td>0.706974</td>\n",
       "      <td>-0.688557</td>\n",
       "    </tr>\n",
       "    <tr>\n",
       "      <th>4</th>\n",
       "      <td>1.746801</td>\n",
       "      <td>0.075354</td>\n",
       "      <td>-0.587984</td>\n",
       "    </tr>\n",
       "  </tbody>\n",
       "</table>\n",
       "</div>"
      ],
      "text/plain": [
       "        PC1       PC2       PC3\n",
       "0  0.615251 -2.632123 -1.003052\n",
       "1  1.354305 -1.635452 -1.131316\n",
       "2 -2.506674  0.671427  1.703367\n",
       "3  0.311724  0.706974 -0.688557\n",
       "4  1.746801  0.075354 -0.587984"
      ]
     },
     "execution_count": 13,
     "metadata": {},
     "output_type": "execute_result"
    }
   ],
   "source": [
    "pca_df = pd.DataFrame(pca_projection, columns = [\"PC1\",\"PC2\",\"PC3\"])\n",
    "pca_df.head()"
   ]
  },
  {
   "cell_type": "code",
   "execution_count": 14,
   "id": "moderate-queen",
   "metadata": {
    "execution": {
     "iopub.execute_input": "2021-05-09T08:10:57.578688Z",
     "iopub.status.busy": "2021-05-09T08:10:57.578140Z",
     "iopub.status.idle": "2021-05-09T08:10:57.581127Z",
     "shell.execute_reply": "2021-05-09T08:10:57.580740Z"
    },
    "papermill": {
     "duration": 0.038922,
     "end_time": "2021-05-09T08:10:57.581220",
     "exception": false,
     "start_time": "2021-05-09T08:10:57.542298",
     "status": "completed"
    },
    "tags": []
   },
   "outputs": [],
   "source": [
    "SAMPLE = 1000 #Reduce the total number of points to plot "
   ]
  },
  {
   "cell_type": "code",
   "execution_count": 15,
   "id": "worse-jersey",
   "metadata": {
    "execution": {
     "iopub.execute_input": "2021-05-09T08:10:57.678464Z",
     "iopub.status.busy": "2021-05-09T08:10:57.677815Z",
     "iopub.status.idle": "2021-05-09T08:10:57.797359Z",
     "shell.execute_reply": "2021-05-09T08:10:57.797727Z"
    },
    "papermill": {
     "duration": 0.183812,
     "end_time": "2021-05-09T08:10:57.797879",
     "exception": false,
     "start_time": "2021-05-09T08:10:57.614067",
     "status": "completed"
    },
    "tags": []
   },
   "outputs": [
    {
     "data": {
      "text/plain": [
       "<matplotlib.collections.PathCollection at 0x7f68ab35f250>"
      ]
     },
     "execution_count": 15,
     "metadata": {},
     "output_type": "execute_result"
    },
    {
     "data": {
      "image/png": "[encoded data removed]",
      "text/plain": [
       "<Figure size 720x360 with 1 Axes>"
      ]
     },
     "metadata": {
      "needs_background": "light"
     },
     "output_type": "display_data"
    }
   ],
   "source": [
    "plt.scatter(pca_df.PC1[:SAMPLE], pca_df.PC2[:SAMPLE])"
   ]
  },
  {
   "cell_type": "code",
   "execution_count": 16,
   "id": "minus-plastic",
   "metadata": {
    "execution": {
     "iopub.execute_input": "2021-05-09T08:10:57.895446Z",
     "iopub.status.busy": "2021-05-09T08:10:57.889041Z",
     "iopub.status.idle": "2021-05-09T08:10:58.027677Z",
     "shell.execute_reply": "2021-05-09T08:10:58.028046Z"
    },
    "papermill": {
     "duration": 0.196719,
     "end_time": "2021-05-09T08:10:58.028183",
     "exception": false,
     "start_time": "2021-05-09T08:10:57.831464",
     "status": "completed"
    },
    "tags": []
   },
   "outputs": [
    {
     "data": {
      "text/plain": [
       "<matplotlib.collections.PathCollection at 0x7f68ab352490>"
      ]
     },
     "execution_count": 16,
     "metadata": {},
     "output_type": "execute_result"
    },
    {
     "data": {
      "image/png": "[encoded data removed]",
      "text/plain": [
       "<Figure size 720x360 with 1 Axes>"
      ]
     },
     "metadata": {
      "needs_background": "light"
     },
     "output_type": "display_data"
    }
   ],
   "source": [
    "plt.scatter(pca_df.PC2[:SAMPLE], pca_df.PC3[:SAMPLE])"
   ]
  },
  {
   "cell_type": "code",
   "execution_count": 17,
   "id": "central-squad",
   "metadata": {
    "execution": {
     "iopub.execute_input": "2021-05-09T08:10:58.128691Z",
     "iopub.status.busy": "2021-05-09T08:10:58.128207Z",
     "iopub.status.idle": "2021-05-09T08:10:58.257150Z",
     "shell.execute_reply": "2021-05-09T08:10:58.256644Z"
    },
    "papermill": {
     "duration": 0.193872,
     "end_time": "2021-05-09T08:10:58.257258",
     "exception": false,
     "start_time": "2021-05-09T08:10:58.063386",
     "status": "completed"
    },
    "tags": []
   },
   "outputs": [
    {
     "data": {
      "text/plain": [
       "<matplotlib.collections.PathCollection at 0x7f68ab27d5d0>"
      ]
     },
     "execution_count": 17,
     "metadata": {},
     "output_type": "execute_result"
    },
    {
     "data": {
      "image/png": "[encoded data removed]",
      "text/plain": [
       "<Figure size 720x360 with 1 Axes>"
      ]
     },
     "metadata": {
      "needs_background": "light"
     },
     "output_type": "display_data"
    }
   ],
   "source": [
    "plt.scatter(pca_df.PC1[:SAMPLE], pca_df.PC3[:SAMPLE])"
   ]
  },
  {
   "cell_type": "code",
   "execution_count": 18,
   "id": "allied-melissa",
   "metadata": {
    "execution": {
     "iopub.execute_input": "2021-05-09T08:10:58.336195Z",
     "iopub.status.busy": "2021-05-09T08:10:58.335713Z",
     "iopub.status.idle": "2021-05-09T08:10:59.338551Z",
     "shell.execute_reply": "2021-05-09T08:10:59.338103Z"
    },
    "papermill": {
     "duration": 1.044555,
     "end_time": "2021-05-09T08:10:59.338656",
     "exception": false,
     "start_time": "2021-05-09T08:10:58.294101",
     "status": "completed"
    },
    "tags": []
   },
   "outputs": [
    {
     "data": {
      "text/html": [
       "        <script type=\"text/javascript\">\n",
       "        window.PlotlyConfig = {MathJaxConfig: 'local'};\n",
       "        if (window.MathJax) {MathJax.Hub.Config({SVG: {font: \"STIX-Web\"}});}\n",
       "        if (typeof require !== 'undefined') {\n",
       "        require.undef(\"plotly\");\n",
       "        requirejs.config({\n",
       "            paths: {\n",
       "                'plotly': ['https://cdn.plot.ly/plotly-latest.min']\n",
       "            }\n",
       "        });\n",
       "        require(['plotly'], function(Plotly) {\n",
       "            window._Plotly = Plotly;\n",
       "        });\n",
       "        }\n",
       "        </script>\n",
       "        "
      ]
     },
     "metadata": {},
     "output_type": "display_data"
    },
    {
     "data": {
      "text/html": [
       "<div>                            <div id=\"2e7cdada-7052-45f2-81bd-b9fb20055e35\" class=\"plotly-graph-div\" style=\"height:525px; width:100%;\"></div>            <script type=\"text/javascript\">                require([\"plotly\"], function(Plotly) {                    window.PLOTLYENV=window.PLOTLYENV || {};                                    if (document.getElementById(\"2e7cdada-7052-45f2-81bd-b9fb20055e35\")) {                    Plotly.newPlot(                        \"2e7cdada-7052-45f2-81bd-b9fb20055e35\",                        [{\"hovertemplate\": \"color=Class_2<br>PC 1=%{x}<br>PC 2=%{y}<br>PC 3=%{z}<extra></extra>\", \"legendgroup\": \"Class_2\", \"marker\": {\"color\": \"#636efa\", \"symbol\": \"circle\"}, \"mode\": \"markers\", \"name\": \"Class_2\", \"scene\": \"scene\", \"showlegend\": true, \"type\": \"scatter3d\", \"x\": [0.6152510047127694, 1.7468014214050005, 1.7185265511992764, -0.4698161234039657, -0.2761409302240447, 0.3201021171518229, -1.4115059193023825, 0.44195480342059573, -1.510838664491645, -0.4345380132738914, -0.11966931270004877, -0.26646634723182316, 0.8108281505230774, 0.34022527266777797, -1.1713643313403315, 0.4001516446706453, -0.412538488410759, -0.41709890378126696, 0.7200879028148582, 0.16925332091170747, -1.0828201642306234, -0.5628632972079709, -0.21895342111997704, -1.584060415112155, -0.1296789154725419, 0.6737487764698677, -0.651234609878697, -1.207565610162158, 1.282671054937522, -0.35610366989585357, -0.27072999277225424, 0.12011494067564152, -1.7654946629107755, -0.31872449058132263, 1.089518597874107, -0.49798004128178464, 0.20798597522347306, -0.15865099451458659, 0.08929093586185217, 0.41343654046363476, 1.4353848892618257, -1.2356597091348567, 1.4748982495527476, 0.4346002049284285, 0.3600456045746538, 1.6813189647044393, 1.4531920225786008, 0.2125204113371722, 0.046211491690471306, -0.20109566572721643, 1.1028462495699636, -1.6569494938331404, -0.27361182098444337, -1.3312769861965825, 0.34346815203234465, -0.2660031544781888, -1.566868379101164, 1.48930315373109, -0.5721004176951089, 0.7430511300650646, -0.4917955620944807, -0.5850206301302989, -0.6008187258066757, 1.349618706289332, 2.0245752038025198, 1.8134185733875594, 0.2514434075269569, -1.0449077187730296, 0.16821764981295811, 1.4640646419706393, -0.3622968327207035, 0.9317274343009687, -0.28047504675459295, 0.14749806582299826, -1.3741237291710926, -0.32695292032930884, -0.805091217353536, 1.4355643266776563, 0.44438132305072736, 1.0931563795482635, 0.38750606083612477, -0.3351561143631437, 0.67974127729368, 0.6647545400423749, -0.4513497759643146, 2.285624927834648, 0.3454816062691992, -0.4242835690898402, -0.041367704998167804, 0.24179388773961416, -0.273432426590329, -0.1287474889883851, 1.6776186536511608, 0.6186955156744007, 0.9145594881368523, 0.33853938987669635, 1.9672137007610266, 1.0382362832084266, -0.46747494641011156, 0.49430268115690296, 1.2460503478201799, 1.7187263434703135, -0.9873841318039644, 0.8644194058436321, -0.8642892368870342, 0.8666124777212535, -0.5325207531635401, -1.7871762296293021, -0.5825974059448464, -1.8159252559485008, 1.2052279125673457, 0.09324340693627967, 0.5697464742913101, 0.10556101945805647, 1.4431497976464311, -1.1551603758619582, -0.9994220152777689, 0.24728891443938425, -0.9956891527211178, -1.963886566444284, -0.7422866889231172, -0.07347028167697947, 0.7901282731252935, 0.5802127054140723, 0.7774155711151154, -1.4640613613579423, 0.01684814750129691, -0.4284752669955352, 0.31490550034395126, 0.8648535057249059, -0.09926375306961613, 0.7224511781407639, -0.6094233958304396, -2.6975525796357593, 1.0297532946774146, 1.3439173733675298, 0.879706733341404, 0.30986670376327186, -1.1518588966332652, -0.5988201685170943, -0.33461056644435566, -2.2178362796569293, 1.6966296777875756, -0.6988397451790365, -0.26279070247833414, -0.37165189134440585, 0.20070653709905226, 1.797135329336565, -0.7026480946827339, 1.0058996243539169, -0.548277774330904, 0.7334007490322553, 0.01884398603540961, -1.4386532706403294, -0.9069669010738373, 0.6260069837431531, -0.8011501672750286, -1.2781299958029981, -0.721362748104208, -1.653250928688831, -0.932455186027074, 0.1268550274664683, 0.6604261863792447, 0.9178774933900591, -0.39862415237454424, 1.3242874695819506, -0.5973826084041138, -1.23931330726099, 0.2679411993494644, 0.25879388328401043, -0.7022202270106839, -1.1686706066687964, 1.3666987709659462, -1.1816002882560488, -0.5215694721972974, 1.3215672505760376, -2.8689704800101934, -0.8239512241133482, -0.4191761520407089, 1.7102755497400517, -1.5133276908934938, -0.34841284477526246, -2.410792711310133, 0.2968207615897622, 1.1421919658663482, -0.9746443980877466, 0.24713213980271992, -0.7587322154787641, -0.271655378497023, -0.6975212791574625, -0.055191137925819755, 1.513414330301377, -2.2045109006308947, -0.17269678983181003, 0.6137015459250103, 1.366329664855465, -1.9727855682906592, -0.6511327953293348, 0.346742459313193, -0.2308618413081993, 0.3086771706341846, 0.3572835854972513, 0.7366303005039923, 1.1804273091435438, -1.7606146837689447, -0.36115389204613707, 0.45550850503813495, -0.18343362824352288, -0.9374084429080369, -0.29838008604391564, -0.5804522416497423, -0.48953610382617996, -1.5290404972417424, 0.41291255425231993, 1.844166724210887, 1.6047840135267726, 1.0088705408961385, -0.7082786142382181, 0.2843194573950573, -0.16005547849400192, -0.6870055892744062, 0.11992503055593769, 0.998167020932602, -0.3340816359367063, 0.8951754169463461, 0.22787301066394625, -0.8749951654064737, 1.3329406034853293, -0.7408065960970387, -0.7462472041484585, 0.675947244230916, 0.629751767288523, -0.31887846401701897, -1.7700180748185457, -1.585554823805282, 0.5747781826257371, 0.839245709368392, -2.195413301630227, -1.4289447710765804, -1.2645319513394064, -0.19051879185657716, -1.5922402989291147, 0.360621330795196, 0.6428772835198732, -0.8144546456160456, 1.0909158161410806, 1.252999279486248, -1.9837141854915472, 1.4735523791517129, 0.10262439114851177, 1.2939048035761889, 0.4817126146044905, -0.3658730685703463, 0.28326894956900683, 0.681463548607451, 0.6376465518628537, -1.8037779662730713, -2.375859156353268, 0.2668950445963171, 0.7140820172454119, -0.5018140975749283, -0.14823875809128376, 0.8843411267961303, -0.2870638008377901, 1.6982268314907736, 0.9729480155851536, 0.08447416885354475, 1.3414607274222548, 1.0593778798942814, 0.19729694731103448, 0.621151644155206, -1.9182718577871245, -2.599829980224205, -1.1648633859737136, -1.8483619419877833, -0.44664871169481923, -0.673722241204867, -0.18202508763559272, -0.5397360517516596, -0.13790010446086362, 1.3507039133047507, -1.2352227435526641, 0.7960381919623997, 0.7717070273496552, 0.5927338551494302, -1.163708501787165, -0.6285945874087677, -0.7733644631147677, 0.07996250622568589, -0.08080337644676877, -0.7553797432923975, -0.5559028971412712, -1.1624091847175861, -0.8873663707407248, 0.17146296921144422, 0.7403116198904256, 0.08945781940120891, -0.5897213073239056, 0.7692391433050155, -1.158740255123278, 0.11253808262914189, 1.3773149548928285, 0.9008361204597618, -0.3409568552196431, -3.2302436329912014, 0.6054732166795532, -0.7341165342624103, 0.3549601905072147, 0.16756134600742542, -0.8749369931863268, -0.1576813355358364, 1.1517026158359056, -0.5161531333324565, 0.40927577320468056, 0.37411653550112534, 1.9075631755121722, 0.6232611303230741, 0.03432450798217994, 0.3799561979478873, -0.021629686449552734, 1.31594321569853, 0.446949762695987, -1.577392021019171, -1.3544731627375033, 0.6115584649753256, -1.4471292426223497, -0.9006039288253701, 0.5658293169913784, 0.9201378805393666, -0.4786189263273277, 0.5952599497974833, 1.0260834883015646, 1.1052546446360847, 0.0706100502195851, 1.2485297963400837, 0.2763887951293154, -0.09765502448303351, -0.571567643617265, -0.23775340223037583, 0.5395652541587216, 2.2013178596301897, 1.1514927109028492, 1.6988476628556717, -0.7623557124384432, -0.8431284911554378, 1.7531600988399096, 0.8277538482672138, 0.0203429812381944, 1.0884594347523031, 0.9377907784408241, 2.236536008608539, -0.31956626038354297, 1.0416703369507982, -0.0413264410805195, 0.4843167062552733, -0.25683737597917033, 1.020001414088455, -0.6139545368079772, 0.5669330766202182, -0.01254360662687411, 0.5617069312197734, -0.6360215453880528, -0.19456562470254707, 0.9849334597660099, 0.836247290444062, -0.9540775380330477, 0.5878160530843007, 1.6773866454824047, 1.4594645807946742, 0.7465662873381419, 1.033519073778485, -3.269740789126082, 0.9272322001974457, -0.06989928287860817, 1.0454129687762341, 1.7170419947641145, 0.23574072252165118, -3.1416576692783713, -0.9273098665088406, -0.9958676360751633, 1.0180367501687433, -0.1451900603966873, -0.49868033269168743, -0.6001600478243451, 1.7672230881612223, -0.40740272405249084, 0.14445364747843412, -0.9055362148043664, -1.0195657148583717, 0.5803548841778919, -0.9612369809161646, 2.417275327042837, -1.2634330247405687, -0.16273261770439879, -0.48229112265556784, 0.853782914888828, 1.629477585920234, -0.7064936754349247, 1.1972388754829897, -1.579982393366172, 0.20611346585187812, 1.14568053376131, 0.40945202373380324, 1.8196541655867151, -0.6296400007321625, -0.48921286637677175, -1.3295102923909934, -2.4273237904666884, 0.2651875240064268, -0.8969322773959466, 1.4512689465130615, 0.1357783776479016, 2.5171504097123854, -2.815609809929858, 0.8480954002117405, 0.6749249498976617, 0.938430530256262, -0.315158067190547, 0.05292620885445407, 0.8763737370888135, 1.5590901111026585, 0.22719527125168237, -0.5997928151505418, 0.27107146311691843, -0.8120948038836514, 0.1405346043890278, 1.6825478381036514, -1.3421020179193393, -0.6372261128708422, 0.88242371542178, -0.44839537353325887, -2.824804684911561, 0.4928296788242947, -0.017809449747429942, 0.6178223326366965, -2.8122970759222015, 1.1286252035771405, -0.07148926244444023, 0.7014498703422186, 0.33476734130643754, -0.4792986885025289, -0.39360712562902694, -0.390192901317239, -0.09044141485374849, -3.0594272049219593, 1.518268672917508, -1.7927198788252965, -0.2581279288551075, 2.2595665487748473, 0.6518203325632295, -1.7124875170172893, 1.66178884672792, -0.9339631442055698, -1.1989848454664325, -0.2956764060555505, -0.16812988665929401, -1.1749473124937238, 0.4228946147784812, 1.8413356907447467, 0.6996179221883584, 0.9904818290653702, 0.2824940132063135, -1.6625696346511765, 2.360909788762635, -0.7962328298916578, -0.39582647751490535, -1.026771096475625, -2.2934450225028526, 0.40875928826357993, 0.9281558727246623, 0.8384322102744054, -0.1838136215939537, 0.7495029406118217, -1.4721296211945947, 1.191044834112698, -0.6602187559493943, -0.03979682291291705, 0.6050866198876715, 2.6005460144663526, 0.32338626113332414, -0.6677397784634566, 0.6372156421974037, 1.0110186049088068, 0.16357822769173228, -1.4954887526263267, -0.7732810238843695, 1.6233261732713575, 1.619994334619167, -1.7382197958522354, 0.16474590879889503, -1.6725905930615157, -0.4740167821267811, 0.9844485770843276, 1.2495768038885584, 0.45634673937935244, 0.0955594964499193, 0.41327760097995514, -0.05345670843815312, -0.07806036509073269, 0.2680754934654248, -0.8447951740356503, -1.223577825599594, 0.6005867311979919, 2.5768978152613755, 0.7085876800348639, 1.5759154921023768, 0.73794877397017, 0.5033696147200957, 0.6232224639421194, 1.3608625824140634, 0.06903653987584604, 1.4903460189802595, -2.2560402859181505, -0.5655538477451358, 0.03586265177084349, -1.1350668161688517, 0.11278433845279642, -0.5968165314848795, -2.6600318639166445, 0.010625619336695008, -2.246021769200328, -0.2575634055357006, 1.4862708473571788, -0.10564547908356596, 0.5011689420284641, 0.6600950070059893, 0.2832517730972513, -0.8160240870350789, -0.5204656920607633, -1.496463855576349, 0.35925452354289494, 0.12299327445868068, -0.2957420674395619, -2.3602495161121904, -0.270700905987369, 0.6808259051449529, 1.4041360050720668, 0.45414981267259485, -0.02053095547440222, 1.5007178597333528, -0.0178485850871203, 0.7571298817216684, -1.2795056241343639, 0.4087386407063502, -2.1727663322089725, 0.5479298435313431, -1.3867215677627553, 1.0789128472411138], \"y\": [-2.632123459837781, 0.07535382232798007, -0.6551122335184987, 0.6530560797163601, 1.1389204322874285, -0.603435855124384, 0.27104875314936194, 0.39157333120588467, 0.37697956330088195, 0.2394625361755078, -0.6603094901104701, -1.7153036414174478, -0.591051897271635, -0.9002224003328729, -0.08277696108920474, 0.2729583578624995, 0.49410027983793786, 0.8876394600023694, 1.080291262517684, -0.47109348766289866, 0.006594288102951593, -1.0844017176201153, 2.999821680518227, -0.24580197269379409, 1.1859928922692828, 1.1622857324576996, 1.7179740217718815, 1.9595081281931124, -0.1749653677600738, 0.5384856552985384, -0.6117720368106085, -0.21016933613414926, 0.49077093433109176, -0.33018536010262567, 0.945105307496407, 0.10108776948491101, 1.5226984225303515, 2.8227317678811863, -0.7252055737684585, 1.6041535545640964, 0.23020123734112868, 3.0592933205871717, -0.06176162005995425, 1.2441591300567276, 0.34777351079950836, 1.1619211023487002, -0.013457281744021232, 1.2521248099462183, 1.367390607201908, 1.217806503991614, -0.4862979012861225, -0.7345168786778732, 1.8184414238553746, 0.7443974888051184, -0.05394294715269555, 0.18949782055037867, 2.169567438435394, 0.05903663766767339, -0.2325764314215417, 0.14231338272532718, -0.9287884023063184, -0.5576841561060363, 1.3203754975797701, 0.9023193844742151, 1.1731339164691845, -0.7305572429447366, -0.9539889484497374, 0.19954739814282202, 0.6146520421026131, -1.375840201522513, -1.2752392974360252, 0.9919369380790334, -0.7234489627194826, 0.8208891682448811, -0.4923017985407039, 0.2224688764877078, -0.31223465509295706, -0.6026778368615807, -1.6460702597408159, 1.0512110666273975, 0.9027824222322879, -0.09999077115046104, -1.3034075013496744, 0.7481021221025365, 0.5893261029096277, -0.1896949785557818, 1.1203729068027233, 0.3075839554635121, 2.5814832362769775, 1.004180663917447, 1.1183268543731313, 0.3168840369229749, 0.36719644371493027, 0.5817627495356046, 0.5790113664307479, -1.4415034239869307, -0.12462708413173167, -0.7286713772135835, 0.2378236973600953, -1.181488930712074, 1.3046163412706668, 0.6950838800189899, -1.8418540395187912, -0.12352441116810867, 0.34033589775511336, 1.6932474286619885, -0.4857737786833271, -0.8278434734063742, 0.427101785230395, 0.0714487114189263, 0.045674403352838254, 1.408794796310018, 0.26280002060366536, 0.00808302341263002, 0.8036261039470372, 0.592768442270683, 0.07050782691136583, 1.5920320929505218, 1.3860435937087532, 1.4062786184530038, 0.23076450871771703, -0.11691131814730978, -0.8392092936858947, 1.4651616479111698, 0.889833713958163, 1.050084543633576, -1.505279672801451, 0.03739400706940363, 3.143500480796719, -0.3442831133360282, -1.4132179411966965, 0.6969466575453312, 0.44862291342620514, 0.4035063890767445, -0.14008449393263542, -0.2163330096108745, 0.4662388123473799, -0.5720076013466371, 1.557733085720031, 1.1271889380008402, 1.5765668500426748, 0.48989654866669174, 0.641498613072566, -0.6177539136793136, 1.4419519406488452, 1.915204705110254, -0.5013642407387633, 0.15339545364344087, -1.7749594947065217, 0.27108840133623724, 0.26545070359754097, 0.8417931855349471, -0.8728462670454569, 1.4654636393938123, -2.203375051816254, 0.5633898921446219, 0.308635375527152, -1.4286032653894212, -0.8581249443285198, -0.27458184270830366, -0.5295241428407317, 0.1840972797875957, 1.0354488761813707, -1.1339076791180467, 0.34772683658747, 0.3440750923427485, 0.8942573903566869, -0.34748632956551906, 1.1951287023424326, -0.9875737205234854, 0.3236860332181641, 2.2193617115723656, -1.073516704314431, 0.3128220582015255, -0.10085965724763815, -0.7043235348973134, -0.45880956857341976, -0.48784763105329804, -0.014873423527905199, -0.4302150484039437, 1.7606524419871115, 0.38262321669911914, -1.5645463612122859, -0.7585609299796684, -0.05090228893314274, 0.2096267602310945, 0.8801321777796268, 0.5388903617725689, 0.3465269650590585, -0.7831188091882989, 0.40619838378255446, -0.3057638736822456, 0.02623370147498189, 0.9935565347350005, -1.057990851470088, 0.36248210406778153, 0.46199040896628, 0.2693697179836067, -0.5674872999408166, 1.3334580818190465, -0.4905225062006737, -0.8587511854259773, 0.9925852155674667, -0.5446919215426265, -1.3986480829598376, 1.1977659375581626, -0.12946162373212622, 2.5983456494813595, 0.6549706648518758, -0.14533448771667765, 0.6147422330202371, 1.8128383519375282, -0.23231116055451642, 0.9399523021911698, -0.6590084122546097, 0.30395385155582555, -0.5275831163184806, -0.547226941606693, -0.25244420989476174, -0.11036410034018533, 1.60815874541473, 0.507210758883533, 0.6392922024363474, -1.045193388829685, -0.44452690501192665, 0.29713007642678546, 1.394803204622671, 0.673958648694912, -0.5784161924073109, -0.18058039389685474, -0.5171746611128154, 0.1989986998789148, -0.6431292354113477, 1.8111683583255973, 1.7818373204636349, -0.033924049553351314, 0.7917084164810863, -0.5912672805316296, 1.2954822072470062, -0.2164735009593112, -0.2904851779115079, 0.9163249290993661, 0.9269013085145074, -0.14658455636589662, -1.2667646202652074, -0.7976401605675513, -0.11551441799113699, -1.5372272327854508, 0.4546758951472282, -0.7834926219679745, 1.3638832246732533, 0.5898113935224576, 0.011512011172390927, -0.7667610552404314, 0.5601571572822264, 0.12967859375966556, -0.8024366955107892, 0.3293480966918158, 2.0937085832504505, -0.2018680494068925, -0.3679253415423413, 1.56744568230315, 0.3337476758197276, -0.39943888255760673, -0.18355066823861194, -1.4996383780801645, 1.8244993640612226, -1.8724155772108584, 1.1926778414173145, -0.2918052569689964, -0.823795077271079, 0.44310169831253915, 0.07868463607173574, -1.103489590488345, -0.3391300061415733, -0.8221219725620472, -0.8177754417020491, 1.0818335808571502, 0.4146056798303378, -0.058046103339250844, -1.398140564213789, 0.4662402552649862, 0.5576488622707506, -0.6809810901236998, 1.3305823570523396, -0.8995248483832625, 0.4996137351664161, 1.8135411496265066, -1.4836081441753435, 1.803249849737126, -1.1785415212735004, 0.3778291597186882, 1.0342264220614412, 2.5957814939117587, 1.6329554623914275, 1.4974541979279568, -0.25377422867588184, -1.7478277373202926, 2.7948268011370008, -0.6346782668009189, -0.24111695521847046, 0.6322210673502654, 1.7362763627583166, 0.9198442602294309, -1.8885353396433995, -1.1157454200123558, 0.945539457542809, 0.09976870950709817, -0.5759380129052002, -0.7406937242107876, -1.7623822101547075, 1.0131988545136295, 2.355573175539982, 1.001487850982508, -0.27253294107349657, -0.6845560291290581, -1.1944136459861512, 0.7395895183684086, -0.4170833353808087, -0.8731123617120952, -0.548473512860888, 0.4291759904001593, -1.9257620376408762, -0.12239079678484723, 0.5110087468947538, 1.000762371763345, 0.6973501048271049, -0.10441096495402694, 1.769113807992105, 1.6081234226338954, -0.5125480580317143, -0.9664890135236068, 0.31517310370599905, 0.6997369054901493, 0.16302778532428117, 0.17849449167526138, -0.5988536675189797, 0.4667218159391557, 2.189263820406164, -0.3780845954380587, -0.2776939735320278, -0.4577859066336553, -0.2403797069389417, 0.423268710391826, -0.22747214831655266, -0.8231012378667093, -0.945240528141169, -0.1604137747624917, 0.26165288516670226, -0.6939859010744817, -0.19460491530200177, -0.14472505383991688, -1.3862343884994193, -0.22961920115737727, -0.9730577366846307, 1.5108269159093386, -0.6576935486881368, 0.45201787327109505, -0.7474282818466156, 0.3559723919352444, 0.6022869621685464, 2.838464564640565, 0.1888244758072683, -0.7385042472752348, -1.519021595869837, 1.6758000676178462, 0.2390530501031395, 0.03525867316618364, 0.22359325252620676, -0.6014237959665866, -0.5760378470235709, -1.1279907130010052, 2.106680557924591, -0.17826102600694393, 1.739608534060869, -0.06303675391031492, -0.935783926275431, 0.6200098781814236, -1.7702070351870598, -0.8482978710603492, -0.7131797493038098, 2.0296022142877295, -0.1286008111702235, 0.344696036686486, 0.5148735257431092, -0.9165539720119344, -1.4505248842159473, 2.591847860449997, 1.0208525053255229, -0.8779038183427175, 1.8320620960987422, 0.8268453557488215, 1.1642945787292052, -0.7667765114583335, -0.8667539419751223, 1.0636851288446907, -0.6677972802473051, 0.42400820413239043, 1.7220995937741674, -0.4072072170475261, 0.4830727752736604, 1.8211825353503508, -0.29148096506134724, -0.3665770082388826, 1.1056738791105547, 1.5202338317205806, -1.7641286561112104, 0.3121652705177257, -1.4902807218906793, 0.47936358474468843, -0.5793180318672035, 1.3459994354067315, -0.23384553850718107, -1.6120490300357018, -0.17535465554140567, 1.4684934307314415, -0.744638001240039, -0.22512934117982908, 0.6371898079750555, 1.8493247655606926, 0.7574434626404503, -0.10376099950971256, 1.1978644761354202, 0.9471695123073085, 0.31305962594744485, 0.20703721757622523, 0.7904840202802533, -0.40128636392465544, -1.1445504651646006, -1.6293986708502304, -1.055035661043797, 0.16140869799030177, -0.2880598400431638, -0.9458995317068285, 0.11428140230906327, 1.3064138845317295, 0.33126227619735954, 1.0930271106925118, 0.6259007423136997, 0.10119450881266545, -0.5325890879202636, -1.5768731929652868, 0.6530059901114742, -1.3482711994049594, -0.6314405262369049, -0.9928899393429622, 1.4354483601585448, -0.5335368541049108, -0.7265788949281862, 2.073831015204998, -1.2331379683401857, 0.28277102721414127, -0.4002795318877125, -1.7029903294884408, -0.46215147582996363, -0.5217174408652135, 0.9034732273431559, 1.914942669468113, 1.073757727514246, 1.4366527698066405, 0.7159653869884467, -1.0482855943705, -0.530843385369682, 0.4596004664591823, 1.967835642686327, -1.1109660393792509, 0.08600791258230982, 0.7565314376216637, -0.10443754439173467, 0.15344025154346475, -1.7450043292760482, 0.5688880365172988, -0.1782382060394156, -0.37354098865823454, 1.3834551931739525, -1.2143863585171502, -0.06776144723633366, -0.5774900546546632, 0.07168512428948585, -1.117152752776683, -1.4909870964465324, -0.38137351616751963, 0.8358016848287155, -0.11404567615767142, 0.7608321202780673, 0.8950557041726914, 0.10954106227864481, -0.18746727827929227, 1.1283907850759285, -0.34243367563026167, 2.5480495367167464, 1.2297458470947344, 1.0777249648537859, -0.5391885306175558, 1.0460388931057938, -0.9929691885580001, 0.24662981695268915, -1.883007517669779, -0.15632580877706367, 0.10798361716224837, 2.6256297059303897, -0.9869849214641481, -0.3787978623664499, -0.22225071182024492, -0.8243846459013859, -0.559964396519064, -0.4362031024017455, 1.7078248939503597, -0.9330992549422259, 0.30716791929906107, -0.9916526825552383, -0.16469917850141544, 0.5760216974913692, 1.5233926717115183, -0.9996820535109509, 0.05637492682743539, -0.7837926844445513, 0.7420631627583554, 0.5564786419032578, 0.8871564802195704, 0.21674928172674554, -0.22580194987375304, 1.8005056194996167, 1.5268814381448912, -0.8940666123282849, -0.7755635250597976, 1.0425549995931345, -1.385549132593079, 0.37113738376678357, 0.17840104958314482, -0.3992571540189322, -1.1062635652403385, 1.978101207616222, -2.384181582030271, -0.9348136008892376, 0.3440480193028545, -0.011911281159771147, 0.535268102010714, -0.5563567426712179, -0.44313594027817554, 1.1222150490321232, 1.6927803096759915, -1.3193585868603412, -1.115737700058206, 1.0560546413841132, -0.13622606717689198, -1.2696395907575868, 0.2941654843862472], \"z\": [-1.0030522013449041, -0.5879841245024799, 0.4784813391354437, 0.795495221274014, 0.4595574087208803, -0.49937662569511, -0.09925381243451573, -0.9137991550966532, -1.7121454443888935, 1.0122773836725862, 0.920741194219632, 0.009408445137383058, -0.3288569457080376, -0.6017498282948204, -0.3209719718860552, -0.29301847016277915, 1.3430864518425083, 0.6335823929179181, -0.6780268435528852, -0.6491513153543818, -1.4502223819570037, -0.8111481984918245, -0.12244797677906652, 0.6611466646795667, -1.641009039989408, -0.19556826639379685, -1.5619703040987039, -0.8413001192316548, -0.37681927457080794, 0.9680122322178477, 0.456113322628968, -0.4599193311214459, 0.7289368410018247, 0.8919703994713201, -0.5701316058363337, -1.6731171764144277, 2.439560606600871, -0.10066685495141961, -0.058728150574468445, -1.3655347774507365, 0.039409695041609204, -0.033894720370812974, -0.17712258807188122, -1.057768417417795, 0.42041290490343985, 0.4325348348486967, -0.33903211228679625, 0.14444754189163406, -0.1488191516155672, -0.1239530539517537, -0.06822027944901789, 0.02782574347648328, 0.6606813677582082, -0.09072573711181182, -0.5433959747188623, 2.1906327851249707, -0.2950858802856083, 0.3618589830715014, -0.43245941000614446, 0.45376477364831075, 0.06030253256315391, 2.1187594376007577, -1.7330570730649366, -0.07063942573573222, 0.29455225779163025, -1.0958717532217737, -1.390756103353081, -0.48415493478701943, 0.4783583373423338, -1.5508991264207983, -0.6573887808875897, -0.6186633275105088, -1.6792382908468049, 1.1457618784745816, 1.130746983475486, 0.04377416650168158, 0.27941133974723015, -1.4531003513998535, 0.11902386238463218, 0.09820299271408456, -0.5391783914135091, -1.51072776505904, 0.7837087809156494, 0.7910431667059197, -1.4487484313653483, 0.06688492802524405, -0.4094298949863661, 1.6879652853162141, 0.7947985497237945, 0.5415457041881513, -0.551587851520809, -0.7536005767459385, -0.5536715719300566, -0.8549530102269749, -0.029952839822985418, 0.018314251150785468, -0.27022503323862695, 0.513613100208631, 0.4052301663832637, -1.0499918427248887, 0.20711153487696585, 0.1336140623108239, 1.3335907540646663, -0.5931112163592586, -0.05680625444604639, 0.25309146727890025, -1.2037590738472053, 0.61879745639336, -0.5332024586948794, -0.7887729862381947, -0.22490706572030478, -0.7340669214492784, 1.1080698426392046, 0.6943325031377298, 0.36883518497201767, 1.3192620803970767, -0.5050578575613351, 0.6529141477505916, 0.6944496008425145, 0.6120896822416848, 0.8108330270404542, -1.0951858214258674, 2.059683048439053, 0.9436362797488475, -0.837489354982458, 0.1410510095264059, -0.18213735701279088, 0.19209160328427344, -0.9521747749748133, 0.3096202368821337, -2.0092348495506083, -0.7866703831038256, 0.4834652103505162, 0.10373941536828317, 2.707291932678358, 0.050393891074904794, 0.12659236992136222, -0.3009258462545017, -0.024105401654920904, -0.46613015371431393, -0.2817372321775823, -0.5262029917970276, -0.3823164453370455, -0.05793032103098054, 1.2850226685009971, 1.0662976241061612, 0.7999115583189376, 1.0987027649260612, 2.176419919168134, -0.83614770693451, -1.3173346015218887, 0.01725961730891204, 1.7180032680455817, 1.3234653274570691, -2.2906092050061666, 0.16575513281567508, -0.44506799936043306, 1.2580676451836876, 2.666758503742888, 0.7001381298891917, -0.19912072426800367, 0.30025087082220325, -0.3858385981599902, 0.39408405756257747, -2.273152600333375, -0.32175586064851136, 2.0813223369365996, -0.7745826906660185, 1.1015035747353499, 0.4152207839448814, 0.06724941989291854, 0.8122043767887697, 0.36172847902504596, -0.8909703195454654, -1.1979945133516008, -1.5057940533498577, 0.43552880433155, 0.7680315038175397, 0.23772383900029848, -0.5944870949334347, -1.7595729292943303, 0.2321712943205047, -0.2128707298620204, 0.07821455886416703, -0.0207771219063098, -1.4160456885868535, 0.15552210157561763, -0.842427159674084, 0.35779098606716037, 0.2310308628530912, -0.5722167988410982, 0.5604155851607857, 0.06110992572330399, -0.7240514358621989, 1.6579967980103192, -1.0413048565942757, -0.8806816322600205, 2.441548141805375, -0.5397756171494766, 1.6043812785426592, 0.0601033267934229, -1.0628188532620317, -0.2476745272083825, -1.3856328690227078, 1.3038756472317776, 1.0243703123472545, -0.8820154664340748, -1.178244994490002, 1.5329520360290465, 1.448504372543682, 0.32964277761175953, -1.7575216638946949, 2.5942687229230676, -0.5530592067718645, -0.3609173478103023, -0.6125520139969316, 0.8754679279134787, -0.46513490358568244, 0.5700911389602548, -0.579362262809173, 1.3597566483832615, 1.2622857149431783, -0.4314183949087271, 0.9192073725971707, -0.4872765412802258, -0.8405578640159419, -1.3615584668735639, 0.2271481241073115, -1.4312877006694105, -0.3557761175589346, -0.5631060486407343, -0.02676573830196686, -1.4941514487040648, 2.195037402729699, -0.6494331562665805, 1.2868105779789316, 0.3100274126357001, -1.072086272637243, -1.075601396160975, -1.2159615068405587, 0.6773324414277768, -1.0405235670230022, -0.8045072708746626, -1.2840866123657575, -1.7123344308052246, 0.4599576696007405, 0.12104378214534964, 1.308091773329629, 0.5967661223759332, -1.9434085318058754, -0.08035880648464379, 0.6212650149640984, 1.5340765316178875, -0.7566351744182889, 0.04390289780265399, 0.06567012642977357, 2.4493156666272733, 1.9919373175364217, 0.3161269677643974, 1.5795910332491752, 0.8915227401724337, 0.9287701154292508, 0.30217218203695456, -0.8516332808766626, 0.40140443244089613, 0.3968858809649725, -0.3100568945435759, 0.5509735880748173, -0.45446017421619944, -0.6296047749692814, 1.1746424955053416, 1.3507382268875252, -1.6605327992545702, -1.0880868641991612, 0.7434216664309056, -0.9242162873945187, 1.6904055698340672, 1.6369612385743306, -0.3560601401311433, -0.49296823455680144, 1.4307697323514914, -0.9525050548295403, -1.0118148419718258, -0.6050720000983432, 0.0162667316159, -1.2031788808390613, -0.353638115866733, -2.1577939154128587, -0.37538352500160144, -0.7170765469568531, 0.5383759343376776, -0.3462703333118295, -0.025041999365035837, 0.09262031995540074, -0.6563914600720531, 0.3282000112748607, 0.23341599151687475, 1.577801362440042, -1.768113499495892, -0.0664353585021517, 1.4894489291199693, -0.8165247277831867, 0.9211323232653353, -0.47709915214354404, 2.2443662221958025, -0.5213627954149229, -0.3351616890149368, 0.8451137055516679, -0.22366695406516668, -0.08908966582993971, 0.7050860176485492, 0.3592968503205317, 1.1285005089310884, 0.7217505289370166, -0.6571119290714902, -0.11766183973756418, -1.365856865706351, 0.4415064601279973, 0.2815621488844485, -1.43731357680534, 0.13023550110739185, 0.000701738306218267, 0.1677048204725647, -0.0753353194653555, -1.420696543976169, 0.6754188365626257, 1.04152136596538, -0.3885592676511137, 0.34204487981868426, 0.5844781077672395, -0.6208556895180269, -0.5378793367200649, -0.14695487078077896, -0.4010077378527393, 0.11499873446619224, -0.7687846304092752, 0.5392360859804632, 1.640325574524179, -2.0527239771094177, 1.3278193793495385, 0.653151330922375, -1.1462298677519163, 0.6741612665807721, -0.04004276738906857, -0.5780583674846733, -0.7353954480645982, -0.4919851484294194, -2.031843192240918, 1.5661018769462158, -1.1874208728174012, -0.33088339504723085, -0.7241545568994241, -0.24864865402548791, 0.15237136162359716, -1.0509813055403538, 1.2925355156990819, -0.1690596845074772, -1.1735518613678444, 0.9933557410511715, -0.47863136783651117, -1.1992900706740746, -1.8279726302990003, -0.18547602218325795, 1.7520632284401814, -0.8622830983355896, -1.0650183958191608, -0.3678587731297648, 1.027365452562789, 0.03299496731754908, -0.04616721997623825, 0.9088521940792204, 1.1352004344091753, -1.2972855762098452, -0.11191528740844577, -0.24179333532894756, -0.8622972946155739, -1.834927431239553, -0.3948764316566824, -0.19535850422854112, -1.1115825213028299, 0.32543942607097337, -1.8391587292838332, -2.033735918393152, -0.6301392249677731, -1.2076112715415448, 1.0750721173070903, -1.258352421009, -0.6335639946687058, 1.2044134611381097, 0.8698939447229227, 1.3225734244479987, -0.22600753746005778, 0.7751180020076431, 0.7262658529100335, -0.15234968916330158, 0.7843709054723805, 1.1769599453368245, -0.9738574489205973, 0.5707261204711753, -1.3046926196563762, 0.4403883175079326, 0.24735253278110036, 0.25487146697675067, 0.8833209673805731, -2.226451393882113, -0.14821312535700004, 0.5805687847386575, -2.466660318244732, 0.4493769663834403, 1.8635335367734165, 0.27384713530411414, 2.5218417295822166, -0.4458712236082506, -1.335544483241307, 0.5074288943377748, -1.2378409937085801, -1.2266419141099774, -0.20869005957337045, -0.9966836391103829, 0.14815993591765605, -1.8267853659824809, 0.89104164717732, -0.018213666983867425, 0.7250646311175601, -0.33998810797678075, -0.28540500703209365, -0.16848092274844476, 0.8938026697858539, -0.5283410020429988, 0.16858227669020323, 0.445834940721813, 0.21490589061483215, -1.3181272599587726, -0.8344267715318069, 1.0720798059383425, -1.12642978596963, 0.031147216708995267, -0.6398706049662185, 0.33566289427770696, 1.282875817699293, -1.1111287697608718, 1.5270567851703858, -0.38155730664162596, -0.8086990108109333, 1.9737386603143077, -0.3162907987653462, 0.3748359816215018, 0.41005933488059176, 0.6263614218115733, -0.23037442193695679, -0.48112099234819106, -0.7822764288510549, 0.6212932435255123, -0.58590340457604, -1.2374652918286848, -0.7531202908345748, -0.7501655638800334, -0.08709005695788537, 1.4252586239990126, 0.5238165492096273, -0.3784119471130477, -1.583758715745225, -1.048330817794795, -0.08546607911327067, 0.03649962101971758, 0.039310013749841576, -0.689142721956757, -1.6761078395629194, -0.7846933362661477, 0.7503272289189838, -0.40827927395806796, -0.7137508671154423, 1.1162653471303883, 1.819214377879897, -0.9587710816850259, -1.1809432509768742, -1.5531628096862389, 0.22007349460863967, -0.03841413813722725, -0.13475566939347536, -1.9271750349548897, -0.5450716524535719, 0.24307754705150098, -0.5789606047460789, 2.1570924166947836, 1.4099765742543773, -0.7983244048188666, 1.8177497114281376, -1.2606857233714268, 0.7008027305158345, 1.7968686553293516, -0.11559923602971782, 0.8941294583215755, -0.7972386822980642, 1.3518851106719485, -0.6399027088529021, -1.0257092627500153, 0.5500526685765534, -0.9515213437564701, -0.6605644172394565, 0.014214329080206378, -0.23207396537011826, -0.5480272570104269, -0.38676630827576486, -0.8954286617688716, 0.5497141584664788, -0.5584218085806923, 0.5691070454366569, 1.4001737334245614, 0.9714741679890255, 0.16130657552285307, 1.312448110049725, -0.9870258226222409, 0.5325745466434996, 0.5090174876410694, -0.15623109460062304, 0.4158926170886705, 0.7064093920445598, -2.2322714005395565, 0.08356448632416677, 2.3788205960533064, -1.6906113349865544, -0.13637267397711741, -0.07431137682673267, -0.42543406985269766, -1.5361061778926932, -1.3657790443856541, -0.6893938457550878, -0.6088053009312782, 0.25770615706138045, 1.4310305599148727, -0.9902834088220079, 0.32984398409093424, 0.652963273109058, 0.14023102099057674, 1.8319630267637026, -0.6383331630059205, -0.29523556898995923, 0.8279341788857509, 0.664316929633515, 0.6401953438905994, 0.7477634513732292, 0.07449612575012468, 0.07717303548594288, -0.05620742364065855, -0.7540359533636354, -0.8684549239788615, 0.09972146889778044]}, {\"hovertemplate\": \"color=Class_1<br>PC 1=%{x}<br>PC 2=%{y}<br>PC 3=%{z}<extra></extra>\", \"legendgroup\": \"Class_1\", \"marker\": {\"color\": \"#EF553B\", \"symbol\": \"circle\"}, \"mode\": \"markers\", \"name\": \"Class_1\", \"scene\": \"scene\", \"showlegend\": true, \"type\": \"scatter3d\", \"x\": [1.3543053506164784, -2.506673547464584, -0.10124907850085693, 1.4703810057144566, 0.2372579482620197, -1.003553510295381, 0.45890255563807025, 0.518177679849871, -0.09826474511238116, 1.6445880052324893, 0.5672535478925053, 1.4157094331046356, -1.237660574843899, -2.023887746324355, 0.486248938665843, -1.5885180592633006, -1.5262942968885267, 1.2302642565424105, 0.23772180578378907, 1.4945600043761196, 2.1005468541178023, 0.44234031673339796, 2.1530519867313336, 0.96277736548086, 0.3404811409998135, 1.4125760138385146, 2.2362716496240695, -0.11339127105661376, 1.7813605568935538, 0.2415961016511552, -0.19077109896978386, 2.4572861690422347, -0.01667340242050715, 0.5722008679054251, -0.0034809141237908854, 1.7838448467202104, 1.0333476709244813, 0.4837781636705857, 0.7857981854681676, 1.7158882516632101, 1.5049604781000065, -0.17744975295549126, -0.9732354816330988, -0.006982995314651689, -0.40866236507080245, 0.853938052549336, -1.433380380801694, -1.089396406867818, -0.6439383271066272, -3.041826774429454, 0.4199539060010078, 2.3137970557956953, 0.846438989509273, -0.3650051441947405, -2.3750186888691913, 0.24403973916367544, 0.9350053688580446, -0.5442038629436083, 0.8684848754240223, 1.6842144444017313, -1.4720122432867728, 0.4334791655219919, 0.6519355578440842, -0.6219975614119078, -1.0114495712045641, 0.011408011192478067, -1.8930945866213047, 0.6030615870446645, 1.3161693223277968, 0.09119745647296755, -1.9698616425106532, -0.10685457844298585, -0.8476057747161142, -0.2569944287671458, -0.922808157231565, -0.6254586514139702, -0.36887840174238723, -1.1413589611037223, 0.37290564995279935, 0.9775155328389976, 0.5691804190261283, 0.46217368359249805, -1.019185911044477, 0.41714550171699366, 1.712102926301664, -1.2622473748477234, -2.335485335108786, -1.050253522860445, 0.1440625564255763, 0.6345403071587865, 0.11157075039566632, 0.2606920544484609, 0.4091437331824516, 1.0588424456596723, 1.4972599063766652, 1.182880602588172, 1.6122520259367796, -2.4932890512395307, 0.24657249345924245, -0.2644675107760988, 0.18195665550821055, -1.409060827369975, 0.17876560086889837, -2.8375188823068287, -0.574516524550132, 1.6329295016374565], \"y\": [-1.6354524922800915, 0.6714273962089436, -0.11260847425620012, -0.28939508814658454, -2.244653526621824, 0.030730544628486862, 0.32446922881497886, 1.0116431860688013, -0.7657670552648265, -1.503631490580038, -0.6389360368542358, -0.38773452370453826, -2.419083635677412, 0.40299551781017673, 1.3301963970298503, 0.22713199302523351, 1.3140162438791796, -0.7275392190765296, -0.19501172875189948, 0.45891787599981065, 0.04398623049027053, 0.28499337605705244, 0.12187738578406239, -1.21067539338236, 0.038763883284946725, -0.904539254297766, -0.582460979468023, 0.6967854093562906, 1.0446304546001652, 0.19671923809623099, 0.3283508012763593, 0.4083347357843923, 1.5228122960697814, 0.14215459039357203, 2.8878005962960054, 0.6165292030992486, -1.8788358044105284, -0.4178399068806138, -1.0989448551185377, -0.6461878697883386, 1.3502606795834124, 0.16698383983182427, -0.7397665966682409, 0.4277839920527558, 0.05035589646001267, 0.2565910122620587, 0.09782479673755211, 1.1164260541851332, -0.3933468597119968, 2.2534537173709595, -0.5327769395696512, -0.6111072648674352, -2.462195304034748, -0.22014955844306158, -0.7575328046101638, -0.6957348032172797, -0.3405016059169182, -0.23240687773802363, 0.2757077845949916, 0.06569223784386984, -0.6223765099392021, -0.40534106979976925, 0.8099176737025041, 1.6358896120545539, -0.7758943581928873, 1.1726845882864543, 1.7296020824777318, -0.4974269257831233, -1.5219044434592706, 0.9193321674823044, 0.06695600902375011, 1.1084552344194796, -0.18035169147928856, -1.5349154443816078, -0.5827291278887782, 0.4857998976783506, -0.5271546518343376, -1.3538411920978317, 1.363056251419091, 0.7394069091766297, -0.7284630353893025, -1.3580129655704691, 0.3946553121893152, 0.08321954148333156, 1.3698092549489926, -0.5227334143764365, 0.12760433968511276, 0.6567917936620605, -0.3233549299581987, -0.09175941821337999, 1.7329772488172046, 0.21605860431888793, 0.5459123223238129, -0.015665352214209675, 0.06870916446172808, -0.16842741579615259, 0.2867045039982793, -2.0930965185468757, -0.7957712351288834, -0.5883013108907057, -0.6894027617500983, 1.0864337652460174, -1.420808946485578, -2.0107962370090253, -2.4840186301988325, 0.6454261755087819], \"z\": [-1.1313159945784264, 1.7033669667151867, -0.27093734065339076, -0.4293710644998077, -0.901923148312258, -0.3989227618637868, -0.23531284010057685, -1.826654729711671, 0.0915299045205981, 0.14351985784086335, -0.5804694813222262, -0.7600293737868695, 0.2928771399225895, -3.164581748870689, -0.5788562853219527, 0.7247220918812362, 0.18867431511235772, 1.3810362316179803, -0.13276989529498384, -0.24978251979420552, -0.38368252989034096, -0.7878911658845039, 0.20784996817907794, 0.17688129486578646, 1.4326233596039588, -0.06912921680221433, -0.5159556247823142, 0.8012667505271688, 0.43702368673190517, 1.6784147871249255, -0.7471153571263319, -0.06493882598078016, 0.18983598891285844, -1.5777018918313495, 1.1831698485797768, -1.0028353679947328, 0.4853402108929215, -1.3068915282467297, -0.24910763437098157, 0.043211437397477744, 0.985588869454372, 1.3564860424349374, -0.9907797101083777, 0.7925482011646732, 1.5239075818064012, 0.4187292107949642, 0.9278028791049935, -0.23635093192856838, -0.326292014108497, -0.5370370039113203, -1.2085833322904103, 0.05710680288340866, 0.5849299261368572, -0.7130056226364067, 0.7899862000203989, -1.2270596389991384, -0.26752009066241494, 1.4860323115781877, 0.21999900002427408, -0.25466977395604407, 0.33095070139983923, 0.8128987943314288, -0.3551388388503294, -0.16555700027177545, 1.4247934594976894, 1.7209813239551532, 0.014313229173782648, 1.191507256608675, -0.3624247118236336, 0.5692343116569212, -0.4512946756258996, 0.20359981881918598, -1.005174139370453, 2.3176169227731025, -0.6488099889186333, 0.211128798554823, -0.3817576752783667, -0.6372155663914327, 0.6106422220825065, 0.5169749037434496, 0.44266388420049313, 0.3694090060007801, -0.052923249645923806, 0.19303686624936464, 0.47888898084791515, 2.0806390818796507, 1.0944532272928436, -0.6029800566695781, -2.046066929189363, -0.7651087095312301, 0.24011466979519136, 0.8353517230650244, 0.22646219064618023, -1.0456266904845688, 1.525127953648814, -0.6852007706647077, -0.3100530683735706, 0.42845535636810195, -0.2697858939627353, 0.6487450815638062, 0.5535657037522442, 1.3630969609271468, 0.23323094621094098, 1.138223258532432, 0.40933605037143467, -0.1933782957273803]}, {\"hovertemplate\": \"color=Class_4<br>PC 1=%{x}<br>PC 2=%{y}<br>PC 3=%{z}<extra></extra>\", \"legendgroup\": \"Class_4\", \"marker\": {\"color\": \"#00cc96\", \"symbol\": \"circle\"}, \"mode\": \"markers\", \"name\": \"Class_4\", \"scene\": \"scene\", \"showlegend\": true, \"type\": \"scatter3d\", \"x\": [0.3117235567855485, -0.8130922328134251, 0.09406836210335318, 1.1680231498346363, 0.16479248169477606, 0.839756086490288, 0.03084628236683713, -0.9897534545920721, 1.8912815139086694, 0.16181599182018164, 0.4844358448267352, 0.1993090024641202, 0.8561825968576274, 1.7344644104521836, -0.9367596659835236, -0.5000117906578997, 0.4718481775377451, -0.8822714532206583, -0.02072158601349947, 0.30276272471655263, 0.6480973546951267, 0.35825255844079495, -0.6668763607353025, 0.9285739982876068, -0.937019106357735, 0.15512149736165834, 2.372726083690766, 2.1690195586877654, -0.07081370579328314, 0.052656660105566695, 0.1350195791517851, 1.5842467507162497, 0.4754377941055899, 0.9056009610277761, 0.746897219106758, 2.2543036606271154, 1.8945279808108224, 1.21900947723809, 1.3931140348590876, 1.090086142763194, 1.699597633546773, -0.16920600396763735, 0.7066372913413255, 1.7847803382412275, -0.6366174979165814, 1.8926257606099945, -0.011440057659176234, 0.29681695300828825, 0.1719380474517984, 1.3337313937929294, 1.0496448815177386, 0.19401283862595584, -0.14320709527695943, 0.8467824149359561, 0.4679035448309512, 0.22401034177324247, 2.1703169644332343, -0.16894076812225273, 0.7348905647339914, 0.20251220442928303, 0.1962086950313779, 1.8640375039768322, -0.20840475327191338, 1.1133352437168968, -2.891628460884999, 2.6044541407520665, 1.4900233601624315, 0.9207822912753392, 1.539473982612674, 1.3049180301413008, 1.441480910309282, 1.5626296167627367, -2.1926431970280635, 1.3561081279228655, 0.5264937272457645, 1.0084717487756067, 0.1570121344409915, 0.732337695024789, 1.5213069605866316, 0.8154613458098934, -1.279162910564728, -2.092990359915176, 1.1460481265135944, 1.0662041628679784, -1.0511839084053956, 1.6812353508155944, 1.2327816628445432, 0.02895411774540228, -0.29064664468172313, -0.007999895196012147, 0.019270197621298387, -0.9297241575638286, -0.5291435578111632, -0.503425454284593, 1.5539272216540365, 0.6045021773483888, -0.39190445205104524, 1.0105449355117229, 0.4081029988529439, 0.7339436581097804, 1.0525605498167074, -0.13976873513904037, -0.669636307359714, 1.6033906282008066, 0.5653759207030892, 0.6352743420576483, -0.1464869827530075, 1.0033208605272665, -0.1548449844897985, 1.9832441465839707, 0.5610006329807036, -1.3602334228302806, 0.07348900055370715, -0.2621605482758434, 1.192482668986549, -1.8859036423390607, -0.26723310044990883, -0.5965826791841613, 0.996003439148024, -2.0445675011752438, 0.6372781368564907, 1.0608786411531823, 0.8340805113770396, 0.6836839235666327, -0.28940687388196457, 1.1385248546200417, -0.4790146521888099, 1.1489000219207333], \"y\": [0.706974276476131, 0.4914566442912792, -0.7573071808923181, -0.20811815188686386, -1.8998682757049146, 0.14749412362627218, -1.441526459814811, 2.2024387903008593, -1.5052292444786088, -0.9850260673316019, -1.3816438715770678, 0.4144511547878362, 0.25359042131026754, -1.48926959098813, -0.9100993892885563, 1.1155196452454543, 0.21461463762660996, -2.3527588499751952, -0.2399753242190674, 1.052390638952361, -1.0884172143434943, -0.2857247204854794, 0.7177112059605824, -0.17642054371732332, 0.11011216059484195, -0.46642214988874825, -0.10381297086426174, -0.7501809588119437, 0.4288521685384635, -0.7822974861244786, -1.6167250401604838, 0.9778590400757888, 0.5312874772056803, -0.48648454368417243, 0.7116680669749609, -0.23541516194049933, -0.8121537435764774, -2.4129599560845487, 0.904405243391161, 2.6498019597328746, -0.5018763142443472, 2.1095734746711856, 1.897912513911926, 0.6061332510400051, -1.362470063207809, 0.37655511124580815, -0.16788392730937662, -0.2551220045208442, -0.4252909643380613, 0.6040320763325941, -0.44194266382766834, 0.9913740940340078, -0.6279116397623157, -0.5797292015050873, 0.8076289480472779, 1.0239303597831246, -0.7579369931449055, -0.5798001909082592, 2.2627578955433267, -1.4429298170103926, 1.6857097378978678, -0.9894524800596814, -0.04751019386391004, -0.35953918377782024, 0.38593182845170887, -1.791446017129158, 0.20612691553340007, -0.287102472102709, -0.6807871334435441, -1.5805533746556495, 0.07793690336779545, 0.9400293600085591, 0.14311346058668134, 1.141237972757357, 0.6040994501743162, -1.235413266179833, -0.27000578111746554, -0.2762440937769654, 0.3923680329523333, -0.5178305353559967, 1.5939012614567893, 0.9622935656259989, 0.3313067594831928, 0.5559547477625745, 1.0976575526657326, -1.0237219554622343, -0.8012472656367051, -1.2626577273888067, 0.7003553072764365, -0.9997744736877291, 0.9181496584007023, -0.6658585579634124, -0.46461930743035595, 2.6435775310021237, -0.28190472885666296, 0.9893257457955719, -0.20688524841978445, 0.4836157327442641, -0.2511656534271635, -0.11559623316227455, -1.2101124141982453, 0.5426502858424413, 0.6301807390969949, 1.1845983958341835, -0.7390375188167292, -2.2681593780813745, -0.8716088001950972, 0.1425115448654942, 0.7796289531059328, 0.24774977123025316, 0.6043325487525286, -1.662357518014867, -0.8194609551228722, 0.8145636527395257, 0.7666552798988255, 2.222676470075205, 2.269026415756862, -0.06297658643590108, 0.1492504534164021, -1.9363300114343307, -1.7831062201925654, 0.7527516035892281, -0.9400962552492486, 0.1708844046736906, 0.3089577703529423, 0.2711388360049689, 0.00619166089679062, -0.47876114044860213], \"z\": [-0.6885574475524865, 0.9598039074144771, -0.035784736742697915, -1.0189063402995724, 0.08732229133362618, -0.2370986280688591, -0.08799936949300048, 0.5660357892080772, -0.8309726475974852, 0.8714865164259787, -2.0107003768045084, -1.2019445643291824, 0.23505627762178194, -0.42301189147895984, -1.2117641359557882, -1.463036096995408, -0.41980381745847345, 1.3116986667152084, -0.7187048264948257, 0.7134417731311838, -0.5622958801761386, -0.09667183286165644, 0.039773714310654705, -0.5294614506578321, 1.187098750309031, -1.1232513810574383, -0.3010275028201113, -0.8941731413684821, 2.1776772049815563, -0.03704399364889633, 0.2687549147492057, -1.4632475301828294, 0.1507306990976684, -1.4356068775947164, -0.23601398652610533, -0.4780789890175098, 0.3947092769763055, -0.13629185312161676, 0.4730166662169341, -0.34675975647271895, 0.20777558566978424, 1.135692462214185, 0.28766323222897294, -0.43230735104997264, -0.5051772891384199, 0.7559743998998418, 0.32774467245411076, -0.43394962387089897, -1.6237504871713844, -0.3494278411985773, -0.22380143079068718, 1.272583490753246, -0.25979947978643925, -0.6783953217449484, 1.8108925208902409, 0.4325513366151721, -1.0788755274256687, -0.1873659743697698, 1.0399444528080872, -0.4908090113201136, 0.44301667959519986, 0.3565856796834417, -0.08274733889987161, -0.7197734511391872, 1.0054239749585892, 0.2201578659904806, -0.21334624249216277, -1.0296358533658287, 2.1136420430506506, -0.5282529606648854, -0.4427833569246035, 0.008777553368406212, 1.0634196939278304, -0.6893271557119546, 0.14356656051976477, -0.36405840554187086, -1.1424630922711094, -0.8834875174337066, 0.3874760465805262, 1.2494135325652156, -1.4876907118815077, 1.6304405934496755, -0.290776818739272, -0.10121410905282312, -1.4965512604999303, 0.6383836939384689, -0.11274650857051219, -0.45551113445701946, -1.0546974296750888, -0.8867392876620028, -0.8974967003427116, -1.3107511501648195, 1.8126787088516312, 0.2325943640878881, -0.9443175952529358, 0.04469354954923289, 0.3673436223886602, -0.15831287049359227, -0.2479866875851554, 0.15624679675850553, -0.12105916552324587, -0.7284690257531675, -1.2882124397233468, 0.22307195919845463, 0.44191214874892115, 0.6804926946842011, -0.2547014286341814, -0.5885877302407824, -0.781970233378404, 0.23654062455482855, 0.09164973116136826, 1.6006898253936892, -0.49436289818265877, 1.1453902417152577, -0.9861836695578948, 0.4368106837120828, 1.1723403790473863, -1.021305503205689, 0.4087299737629012, -0.3853185964738994, -0.6285711036938239, -0.19596400529362407, -0.18137859487140368, 0.7092138629084, 0.32566520494635876, -0.3473879535505657, 0.25626071487870306, 1.3781348113944094]}, {\"hovertemplate\": \"color=Class_3<br>PC 1=%{x}<br>PC 2=%{y}<br>PC 3=%{z}<extra></extra>\", \"legendgroup\": \"Class_3\", \"marker\": {\"color\": \"#ab63fa\", \"symbol\": \"circle\"}, \"mode\": \"markers\", \"name\": \"Class_3\", \"scene\": \"scene\", \"showlegend\": true, \"type\": \"scatter3d\", \"x\": [-1.8424048144594387, -0.667169558410489, -1.9888132348889072, 0.5518807367741595, -2.0226824843020874, 0.4693267010179286, -1.06064268398597, -0.6751993088208808, 0.1455716889687683, -0.589987693762978, 0.3813815187651009, -2.707449721885209, 0.06845191007788945, -0.5163035819865471, 1.0426241956945643, 0.2784797373226748, 1.0688249653002257, 0.5508195229142716, 0.2959548903496305, 0.5203224426352723, -0.37507105235136234, 0.0382294122114167, -0.49828739116715776, 0.6173485353574876, 1.521388469646936, 0.4501178507958064, -0.5237072320087057, 0.4734125995871034, -1.2060535103983645, 1.3910974319699054, 1.3449704849204374, 0.7882402593682273, -0.8342225627258923, 1.0023674792228932, 0.9590662047894037, 1.4419707091393816, -0.0442257947754853, -0.2731425776948896, -1.3833424725766725, 0.2304365879815093, 1.538698671524716, 0.014549693619403847, -1.0525929028203624, -1.7385285550298801, 0.2117721172093761, -0.21532325766624366, -0.8573106565177883, 0.9124621859096526, -0.09284510315221792, 1.12193849887001, 0.2592245716040386, -0.6489149957884619, -0.29749385211564294, 2.6580448008383497, -0.06947040894313808, 1.637937599822167, 0.5435703720042793, 0.5282471748234479, -0.7022267632463428, 1.0605921349129237, -3.0758250986651317, -2.0524528738394308, 0.44757075411831565, -2.0898887138010784, -0.36511036222121934, 1.2871381641669981, -0.17739839569939736, -0.3344009771222803, 1.1467195636021867, 0.42125592586769167, 2.137867038871456, -0.14963538315752467, 1.799004450451281, 0.4971978113964961, -0.4588324009337088, -0.5619792596276187, 0.5574466325548068, -0.23590927485015747, 0.3738765232691642, 0.0866454772034264, 0.32236397181531723, 0.3185051081176433, -1.507178321337629, 0.24939609799047138, -0.6113180680268687, -0.4815810954091613, -0.6148788222365794, -1.1161355997628628, 1.5769567711999084, 1.7597036302527735, -2.3585065393622124, -2.2192567160426946, -2.057990709618091, -2.1165459230601615, -1.9287829355680184, 0.4284932530664564, 0.9778569117057667, -0.5030534647286219, -0.49799007407952367, -2.2761139548549223, -1.4744588047632807, -2.4278490647388242, -1.7017408878153577, -1.0659783700189727, -0.5545896345220955, 1.5539888584688089, -0.09576360528061056, 0.13021540667143458, -0.2322377684108512, -0.7065934580747923, 1.0090203900383123, 1.0414848516010555, 0.5390206093086854, 1.0079284375049709, -2.0749948455941767, -0.017274903599260334, -2.8514475437075744, 0.1830457370308743, -1.4041592845184472, 0.6151245118926264, 0.6193736735614139, 1.1163852050076541, -0.12189848322459526, -1.5321195050258019, -0.02945476517029845, 0.6864992654742633, 1.1592806652179506, -1.001001172679079, -0.0332037500289625, 0.7815720137098963, -1.2641457598439072, 2.0760766367779735, 0.27937945571649897, -1.2787496468576216, -0.9500627366886507, -2.420502924192641, 1.088263342868103, 0.5326673927056393, -0.38666353775586276, 1.3836519395832307, 0.46459202388544973, 1.2824861710786233, 1.183893814413512, -1.0235516444031272, 0.7937355308995782, 0.9547221262944029, 0.4319179629049651, -0.8128190048093148, -1.547490320114494, -1.0539362334888518, 0.6894266281935494, -0.16917080583815453, -1.3076581242002407, -0.9759468077572249, 0.9371011373931095, -0.19374700562532982, -0.9440576395697935, -1.1178256024821236, 0.1268981430979407, 0.12433851457021657, 0.8111811955880467, 1.4506597986053422, -0.36727916951253864, -0.38272819842946654, -1.2973428091344084, 0.3721674989435695, 1.1604752135986423, -0.1493916095332443, -2.8728049912321896, -2.7265273263414014, 1.0890312269938849, -0.34093032073900403, -1.3626366367447043, -0.9919145133479501, 0.938313114448868, 0.4555797927022597, 1.148876796563477, 0.04407055200751483, 0.08225754101237955, 1.3844863220725783, 0.04720700575107069, -1.1267639924441843, 0.8064037770293573, -1.0720119193855826, -0.9618982830072691, 1.8129902464866263, -0.8585365564709907, 0.729211773547211, 0.6224479765437757, 0.42088241171215274, 0.44532908421781, 0.7803335147397411, -0.3872043177155983, 0.8848440878711284, 0.7233249174907859, -0.6181983116124015, 0.5733181417193078, -0.316175131197261, -1.0542548832392538, -0.2526456780994386, -0.9471445250455255, 0.12542970874237727, -0.09030192838328104, 1.48213282595478, 0.06703360867717698, 0.29740042302721964, -1.0067524331940931, 1.6141128546143562, 0.5242766981023601, 1.4919512207391354, -0.2837306983570161, 0.5901997691032677, -0.1912391411189046, -1.700885879144466, -0.7593265282911182, -1.7928070229043325, -1.4733249578652503, -0.003959067062942429], \"y\": [-1.1689123253044809, -0.7182159440301439, -0.21561503726826337, 0.7854211732073992, -1.1772267343820801, 0.8234788494042022, 0.009097251057560898, -1.2602005953873818, 0.054065671852753426, 0.6990508664482026, 1.094267313809736, 0.6256209606085783, 0.30544363709505046, -0.2917679398585401, 0.45240785321928473, -0.9232644567208351, -1.2802631360005068, 0.06671541142641067, -1.6500435685107409, 0.4529156178321098, -0.7667301185391198, -0.5150125563752055, 0.07070641962982865, -1.2641494412718666, 0.5370363481066882, 0.07045694755499508, -0.6896652422131635, 0.43272409280239743, 1.3397315452106084, 0.006719999150413371, 0.7463814008952581, -0.7332157685646976, 1.1954184411275985, -0.39572347126937163, -1.0185942206587273, 1.281795448535957, -0.14199012130984517, -2.4260400754229807, 1.263557326068799, -2.0841611784292944, 0.7084726735830097, -1.1820027987035804, 0.5241708275343578, -0.24571536079864012, -1.7238288882407515, -0.717812725514128, 1.2576635571454795, -1.6750241052375785, -1.0478617890115094, 0.20186367014551176, 0.5069151776026588, -0.7995639383598626, 1.714443530307377, -1.0635372563489134, -0.08026482230901504, -1.0879453644214991, 0.06126620537926741, -1.0655168436647442, 0.4032798958347777, -1.5692754603967576, -3.881490282749088, -1.9233879788793256, -0.8680458162843616, -0.9124938091043567, 1.895737760985204, -0.6268514927828918, -1.2024867038220126, -1.173115049687897, -0.4185562602966686, -0.589762322034002, -0.49404308517327744, 1.592917097387605, 1.2726303022877443, -1.4288943181525966, -0.6468050350000883, 1.7213302429000812, -0.05117253958985987, 0.21873374588246944, 0.49713311506595054, 0.018048151747220076, -0.7932627659044048, 0.7345538582955573, -0.4476166029324668, -0.6698066833076853, 0.48593311676678225, -0.15374318616354693, 1.2595539023824225, -0.3859486702329493, -1.243737710737887, 0.2711530743252783, -0.14894376054205843, -0.6634160581270819, -0.5566238651300606, -1.4301815079039901, 1.9546326984930609, -0.17981407406093636, -2.133128297254659, -0.3522353430344683, 0.30231713589667747, 3.090254312651571, -1.0577651279946534, -2.440699181615046, -0.26141910719483075, 0.7563326792644606, 0.1654203917361668, -1.1583725963605451, 1.080165288695572, -0.6680002542899037, -0.02035802696762341, -0.21530701407195085, -0.11447221362328348, -1.0607668510801462, 1.9599579756018235, -0.23384604525734423, 1.4582315746166936, -0.38379654675751207, -0.8375702527854959, 0.4610321893099837, 1.1467880987006756, 0.4015392684756773, -0.04728760708249003, -0.617027096365765, -0.18397862524406608, 0.6168213693809261, -0.24932819006391246, 0.6519728934471215, -0.8964665525180288, 0.69080819846323, -2.670910242290186, -0.7318444506768161, 1.241117449734272, 0.423832361390668, -0.8213350605734892, -0.2159901091124938, -1.230423352492016, 1.2920561663336123, -1.3309286112436056, 0.7421361638541598, -1.1264073202633258, -0.0950945432778423, -0.7984904522571633, 0.8463531852442937, 0.20002740848145895, -1.020230093399973, -0.5888274890481039, -0.9037034175791037, 0.24791416432732177, -1.6514897073895864, -1.039285233806683, 0.06414443535405956, -1.2822685994240144, 1.1689543667892177, -0.4921935437840155, 0.6030475010669359, 0.8289859577572911, -1.2881385823212168, 1.8899902783875977, 0.011816312588966527, -0.41647664995786554, -0.557816234544617, -1.8271577762571254, -0.3912058798746039, -0.09720757895687106, 0.7599533446311567, -4.124830847259357, -0.9845978164474041, -0.719640505380583, 0.3362011370155445, -0.07974589275687342, -1.274437423577126, -0.7605505802492124, 0.7217826104176599, -0.8168781909558522, -0.7868513938230652, 0.2681886553214066, -0.7394494885506673, 1.2431461025743429, -0.9922504517886671, 1.2304557475747484, 0.09932793089569399, 0.9141377256596497, 1.4807316692704158, 0.5636966757330759, -0.5034879414037856, 0.7482771292537288, -0.052762370271123495, -0.2483651042698516, 1.6197309965601152, -0.093260721795483, -0.02883232246237433, 1.1833764370071091, -2.6467374645731954, -0.20100589228974344, -1.5199932392950275, -0.19050365786830795, 2.091691471509826, -1.079497891235645, -0.25809967010304036, 0.34832243530252294, -1.0813606409111827, 0.20994084621165193, 0.9963336429191677, 0.7314807341709361, -0.5277303966119252, -0.5315310652019327, -1.8434282379812357, -0.6624789148298817, 0.48475585911710695, 0.22449835277821378, 0.8554219516218229, 0.07042582247948419, 0.48030873739027063, -1.304338422147123, 0.07608463895015594, -0.9375088224164971, 0.1184637680339311, -0.9313902982836114, -1.237366095867688], \"z\": [-1.4613259235189173, -1.59319805972547, 0.990832334402941, 1.7441837891116807, 1.7025595388270278, 0.4154323756747835, 1.6380478790455406, 0.3934407095076765, -0.27865035882851585, 1.6300140201603286, -0.35240413521056146, 0.9888437444566596, -1.5348781155488733, 1.2221984061230413, -0.2173683345813308, 0.9347807464279899, -1.2828615858008516, 0.9390066953168971, -0.09533658751786118, -1.2043392824583028, 0.9668461527098984, 0.7977336596246789, 0.5948689968143556, -0.6445679829993769, 0.3160877176694598, -0.49439936297487963, 2.52883560375234, 0.9077004214833905, -1.315353577664093, 0.5440422018178018, -1.6479069639505879, 0.3688635891190458, 0.15444630718869487, 0.7810196410424999, -0.49407569793584694, -0.804137090866979, -1.3553705114844166, 2.3820418847495923, 1.0230538753201655, -0.9972797257818594, 0.05817126681774228, -0.5097643371328806, -1.1961146399832818, -1.3700561676087561, 1.5151219813044758, -0.7538435995383754, 0.0826032907960607, -0.31517649817077215, 0.24111024486240157, 1.4859712005915053, 2.237722688550189, -0.5957118632652081, -1.4164411503122363, 0.1780031064841532, -0.4745587685788373, -1.0266909229695194, -1.066905205190531, -0.9020858917706436, -0.5371094795068184, 0.2509125680826187, 0.36445117469534094, 0.3122216787708194, 1.4991730024199355, 0.03958036794987469, 1.6653779041542514, 1.236636505421967, 0.1472858387770415, -0.023909590147695652, -0.996058811306903, 0.8409547747666902, 0.586095008477584, 0.13926215790537314, 0.5206465618058844, 0.3226962354386862, -1.2466741425700092, 0.4188295419403495, -0.4129419851300498, 0.22972393516109563, -0.8790379708130326, 0.3140482054857559, -2.422248083830313, -1.5623552586423775, -1.7008011474114566, 0.608324382272656, 1.896269019815762, 1.9157771562937298, -1.5749353717120802, 1.7198927704020741, -0.7819730251407532, -0.05524104868957642, 0.8559713268996921, -1.157297247542341, 0.057501779815544864, -0.8217549473198917, 1.492222151964796, 0.7355323466036218, 0.11979860159680758, 0.7902589639872208, 0.5650906175341492, 0.2627408581171732, 2.283967217006199, -1.5514496185011446, 2.5354572077333146, 1.1129708124032416, -0.3676804319256848, -0.46854448636040325, -0.22534578795437052, -1.073168216106555, 0.8279453915433668, 1.8666070048808734, -0.20583198924528773, -0.9056205693832866, 0.03632820330492371, 0.9192653387464875, -0.851910085141138, 0.1274819193954015, 0.03800025693188876, 0.2655273418691517, -1.3250001744755868, 0.4728466294277199, -0.936131198848841, 1.3380057314501141, -0.07136890693172383, 0.625576496369681, 0.8106639347393111, -1.5858384282108469, 0.327065936396788, 1.1276524714416285, -0.2989607684614851, 0.1842567930927104, -0.325879197877976, -0.6882530927079189, -0.2890962803484356, 0.2405966213741053, -0.46594024361471365, 0.43652598812635773, 0.6074172065244481, -0.8390182983411757, 1.9730566592644223, -0.20459979469020917, 0.9277249462032321, 0.2879591970290477, -0.9447719361193159, -1.2279950277033616, 1.052136569864977, 0.14612150748182873, -0.5149884278605154, 0.6931599180720877, -1.5130111722483215, 1.0185283908648806, 0.08726765581624735, 1.0762662748150746, 0.10788789810518268, 0.13599906525612554, -0.473864659779836, -0.2235496427390956, -0.7719666819235002, 1.853425738589901, -0.9176253512233072, 1.8183196061855629, 1.2901748791743353, -0.18622776864301796, 0.6934089146564383, 0.17906668660527505, 2.1067457999825394, -1.1201398218859744, 0.12569567004668503, 0.500755209723521, -0.678269070077068, -1.3835426113991147, 0.1058605890617986, -2.198657494881065, 3.9792186257022513, 4.408438823691771, -0.3573784288280554, -1.1581844774696195, -1.5327992358623435, 0.09166535374076845, 1.123485596320254, -0.10049151059754187, -0.5707752917838462, 1.4955207811024018, -0.6783824482611933, -1.78947561889689, 0.14335975713476506, -0.21927446511974613, 0.21286296077732705, 0.6526040968132847, -0.6824394285634441, 1.15364245777144, 0.5228528045361459, 1.0378338380191274, 1.0064800495121942, -0.0712267652468454, 0.48583600005546407, 1.0253872608615233, -0.07173186083193424, 1.4103763880444677, -0.33442273698007025, -0.9226721242987467, 0.5420790400454298, 0.7906551342016244, 0.6368866363703323, -0.6750485394649757, 0.12421752124591764, 1.7757787726230376, 1.2469463114823602, -0.2569976674177123, 0.8684677866528684, 0.6066298508594088, -1.4172946164456137, -0.3996445545173995, -1.6829797803410562, -0.8546619353900832, -1.277368071277887, 2.0128119083802036, 0.30060581897118765, -0.45753104942260603]}],                        {\"legend\": {\"title\": {\"text\": \"color\"}, \"tracegroupgap\": 0}, \"margin\": {\"t\": 60}, \"scene\": {\"domain\": {\"x\": [0.0, 1.0], \"y\": [0.0, 1.0]}, \"xaxis\": {\"title\": {\"text\": \"PC 1\"}}, \"yaxis\": {\"title\": {\"text\": \"PC 2\"}}, \"zaxis\": {\"title\": {\"text\": \"PC 3\"}}}, \"template\": {\"data\": {\"bar\": [{\"error_x\": {\"color\": \"#2a3f5f\"}, \"error_y\": {\"color\": \"#2a3f5f\"}, \"marker\": {\"line\": {\"color\": \"#E5ECF6\", \"width\": 0.5}}, \"type\": \"bar\"}], \"barpolar\": [{\"marker\": {\"line\": {\"color\": \"#E5ECF6\", \"width\": 0.5}}, \"type\": \"barpolar\"}], \"carpet\": [{\"aaxis\": {\"endlinecolor\": \"#2a3f5f\", \"gridcolor\": \"white\", \"linecolor\": \"white\", \"minorgridcolor\": \"white\", \"startlinecolor\": \"#2a3f5f\"}, \"baxis\": {\"endlinecolor\": \"#2a3f5f\", \"gridcolor\": \"white\", \"linecolor\": \"white\", \"minorgridcolor\": \"white\", \"startlinecolor\": \"#2a3f5f\"}, \"type\": \"carpet\"}], \"choropleth\": [{\"colorbar\": {\"outlinewidth\": 0, \"ticks\": \"\"}, \"type\": \"choropleth\"}], \"contour\": [{\"colorbar\": {\"outlinewidth\": 0, \"ticks\": \"\"}, \"colorscale\": [[0.0, \"#0d0887\"], [0.1111111111111111, \"#46039f\"], [0.2222222222222222, \"#7201a8\"], [0.3333333333333333, \"#9c179e\"], [0.4444444444444444, \"#bd3786\"], [0.5555555555555556, \"#d8576b\"], [0.6666666666666666, \"#ed7953\"], [0.7777777777777778, \"#fb9f3a\"], [0.8888888888888888, \"#fdca26\"], [1.0, \"#f0f921\"]], \"type\": \"contour\"}], \"contourcarpet\": [{\"colorbar\": {\"outlinewidth\": 0, \"ticks\": \"\"}, \"type\": \"contourcarpet\"}], \"heatmap\": [{\"colorbar\": {\"outlinewidth\": 0, \"ticks\": \"\"}, \"colorscale\": [[0.0, \"#0d0887\"], [0.1111111111111111, \"#46039f\"], [0.2222222222222222, \"#7201a8\"], [0.3333333333333333, \"#9c179e\"], [0.4444444444444444, \"#bd3786\"], [0.5555555555555556, \"#d8576b\"], [0.6666666666666666, \"#ed7953\"], [0.7777777777777778, \"#fb9f3a\"], [0.8888888888888888, \"#fdca26\"], [1.0, \"#f0f921\"]], \"type\": \"heatmap\"}], \"heatmapgl\": [{\"colorbar\": {\"outlinewidth\": 0, \"ticks\": \"\"}, \"colorscale\": [[0.0, \"#0d0887\"], [0.1111111111111111, \"#46039f\"], [0.2222222222222222, \"#7201a8\"], [0.3333333333333333, \"#9c179e\"], [0.4444444444444444, \"#bd3786\"], [0.5555555555555556, \"#d8576b\"], [0.6666666666666666, \"#ed7953\"], [0.7777777777777778, \"#fb9f3a\"], [0.8888888888888888, \"#fdca26\"], [1.0, \"#f0f921\"]], \"type\": \"heatmapgl\"}], \"histogram\": [{\"marker\": {\"colorbar\": {\"outlinewidth\": 0, \"ticks\": \"\"}}, \"type\": \"histogram\"}], \"histogram2d\": [{\"colorbar\": {\"outlinewidth\": 0, \"ticks\": \"\"}, \"colorscale\": [[0.0, \"#0d0887\"], [0.1111111111111111, \"#46039f\"], [0.2222222222222222, \"#7201a8\"], [0.3333333333333333, \"#9c179e\"], [0.4444444444444444, \"#bd3786\"], [0.5555555555555556, \"#d8576b\"], [0.6666666666666666, \"#ed7953\"], [0.7777777777777778, \"#fb9f3a\"], [0.8888888888888888, \"#fdca26\"], [1.0, \"#f0f921\"]], \"type\": \"histogram2d\"}], \"histogram2dcontour\": [{\"colorbar\": {\"outlinewidth\": 0, \"ticks\": \"\"}, \"colorscale\": [[0.0, \"#0d0887\"], [0.1111111111111111, \"#46039f\"], [0.2222222222222222, \"#7201a8\"], [0.3333333333333333, \"#9c179e\"], [0.4444444444444444, \"#bd3786\"], [0.5555555555555556, \"#d8576b\"], [0.6666666666666666, \"#ed7953\"], [0.7777777777777778, \"#fb9f3a\"], [0.8888888888888888, \"#fdca26\"], [1.0, \"#f0f921\"]], \"type\": \"histogram2dcontour\"}], \"mesh3d\": [{\"colorbar\": {\"outlinewidth\": 0, \"ticks\": \"\"}, \"type\": \"mesh3d\"}], \"parcoords\": [{\"line\": {\"colorbar\": {\"outlinewidth\": 0, \"ticks\": \"\"}}, \"type\": \"parcoords\"}], \"pie\": [{\"automargin\": true, \"type\": \"pie\"}], \"scatter\": [{\"marker\": {\"colorbar\": {\"outlinewidth\": 0, \"ticks\": \"\"}}, \"type\": \"scatter\"}], \"scatter3d\": [{\"line\": {\"colorbar\": {\"outlinewidth\": 0, \"ticks\": \"\"}}, \"marker\": {\"colorbar\": {\"outlinewidth\": 0, \"ticks\": \"\"}}, \"type\": \"scatter3d\"}], \"scattercarpet\": [{\"marker\": {\"colorbar\": {\"outlinewidth\": 0, \"ticks\": \"\"}}, \"type\": \"scattercarpet\"}], \"scattergeo\": [{\"marker\": {\"colorbar\": {\"outlinewidth\": 0, \"ticks\": \"\"}}, \"type\": \"scattergeo\"}], \"scattergl\": [{\"marker\": {\"colorbar\": {\"outlinewidth\": 0, \"ticks\": \"\"}}, \"type\": \"scattergl\"}], \"scattermapbox\": [{\"marker\": {\"colorbar\": {\"outlinewidth\": 0, \"ticks\": \"\"}}, \"type\": \"scattermapbox\"}], \"scatterpolar\": [{\"marker\": {\"colorbar\": {\"outlinewidth\": 0, \"ticks\": \"\"}}, \"type\": \"scatterpolar\"}], \"scatterpolargl\": [{\"marker\": {\"colorbar\": {\"outlinewidth\": 0, \"ticks\": \"\"}}, \"type\": \"scatterpolargl\"}], \"scatterternary\": [{\"marker\": {\"colorbar\": {\"outlinewidth\": 0, \"ticks\": \"\"}}, \"type\": \"scatterternary\"}], \"surface\": [{\"colorbar\": {\"outlinewidth\": 0, \"ticks\": \"\"}, \"colorscale\": [[0.0, \"#0d0887\"], [0.1111111111111111, \"#46039f\"], [0.2222222222222222, \"#7201a8\"], [0.3333333333333333, \"#9c179e\"], [0.4444444444444444, \"#bd3786\"], [0.5555555555555556, \"#d8576b\"], [0.6666666666666666, \"#ed7953\"], [0.7777777777777778, \"#fb9f3a\"], [0.8888888888888888, \"#fdca26\"], [1.0, \"#f0f921\"]], \"type\": \"surface\"}], \"table\": [{\"cells\": {\"fill\": {\"color\": \"#EBF0F8\"}, \"line\": {\"color\": \"white\"}}, \"header\": {\"fill\": {\"color\": \"#C8D4E3\"}, \"line\": {\"color\": \"white\"}}, \"type\": \"table\"}]}, \"layout\": {\"annotationdefaults\": {\"arrowcolor\": \"#2a3f5f\", \"arrowhead\": 0, \"arrowwidth\": 1}, \"autotypenumbers\": \"strict\", \"coloraxis\": {\"colorbar\": {\"outlinewidth\": 0, \"ticks\": \"\"}}, \"colorscale\": {\"diverging\": [[0, \"#8e0152\"], [0.1, \"#c51b7d\"], [0.2, \"#de77ae\"], [0.3, \"#f1b6da\"], [0.4, \"#fde0ef\"], [0.5, \"#f7f7f7\"], [0.6, \"#e6f5d0\"], [0.7, \"#b8e186\"], [0.8, \"#7fbc41\"], [0.9, \"#4d9221\"], [1, \"#276419\"]], \"sequential\": [[0.0, \"#0d0887\"], [0.1111111111111111, \"#46039f\"], [0.2222222222222222, \"#7201a8\"], [0.3333333333333333, \"#9c179e\"], [0.4444444444444444, \"#bd3786\"], [0.5555555555555556, \"#d8576b\"], [0.6666666666666666, \"#ed7953\"], [0.7777777777777778, \"#fb9f3a\"], [0.8888888888888888, \"#fdca26\"], [1.0, \"#f0f921\"]], \"sequentialminus\": [[0.0, \"#0d0887\"], [0.1111111111111111, \"#46039f\"], [0.2222222222222222, \"#7201a8\"], [0.3333333333333333, \"#9c179e\"], [0.4444444444444444, \"#bd3786\"], [0.5555555555555556, \"#d8576b\"], [0.6666666666666666, \"#ed7953\"], [0.7777777777777778, \"#fb9f3a\"], [0.8888888888888888, \"#fdca26\"], [1.0, \"#f0f921\"]]}, \"colorway\": [\"#636efa\", \"#EF553B\", \"#00cc96\", \"#ab63fa\", \"#FFA15A\", \"#19d3f3\", \"#FF6692\", \"#B6E880\", \"#FF97FF\", \"#FECB52\"], \"font\": {\"color\": \"#2a3f5f\"}, \"geo\": {\"bgcolor\": \"white\", \"lakecolor\": \"white\", \"landcolor\": \"#E5ECF6\", \"showlakes\": true, \"showland\": true, \"subunitcolor\": \"white\"}, \"hoverlabel\": {\"align\": \"left\"}, \"hovermode\": \"closest\", \"mapbox\": {\"style\": \"light\"}, \"paper_bgcolor\": \"white\", \"plot_bgcolor\": \"#E5ECF6\", \"polar\": {\"angularaxis\": {\"gridcolor\": \"white\", \"linecolor\": \"white\", \"ticks\": \"\"}, \"bgcolor\": \"#E5ECF6\", \"radialaxis\": {\"gridcolor\": \"white\", \"linecolor\": \"white\", \"ticks\": \"\"}}, \"scene\": {\"xaxis\": {\"backgroundcolor\": \"#E5ECF6\", \"gridcolor\": \"white\", \"gridwidth\": 2, \"linecolor\": \"white\", \"showbackground\": true, \"ticks\": \"\", \"zerolinecolor\": \"white\"}, \"yaxis\": {\"backgroundcolor\": \"#E5ECF6\", \"gridcolor\": \"white\", \"gridwidth\": 2, \"linecolor\": \"white\", \"showbackground\": true, \"ticks\": \"\", \"zerolinecolor\": \"white\"}, \"zaxis\": {\"backgroundcolor\": \"#E5ECF6\", \"gridcolor\": \"white\", \"gridwidth\": 2, \"linecolor\": \"white\", \"showbackground\": true, \"ticks\": \"\", \"zerolinecolor\": \"white\"}}, \"shapedefaults\": {\"line\": {\"color\": \"#2a3f5f\"}}, \"ternary\": {\"aaxis\": {\"gridcolor\": \"white\", \"linecolor\": \"white\", \"ticks\": \"\"}, \"baxis\": {\"gridcolor\": \"white\", \"linecolor\": \"white\", \"ticks\": \"\"}, \"bgcolor\": \"#E5ECF6\", \"caxis\": {\"gridcolor\": \"white\", \"linecolor\": \"white\", \"ticks\": \"\"}}, \"title\": {\"x\": 0.05}, \"xaxis\": {\"automargin\": true, \"gridcolor\": \"white\", \"linecolor\": \"white\", \"ticks\": \"\", \"title\": {\"standoff\": 15}, \"zerolinecolor\": \"white\", \"zerolinewidth\": 2}, \"yaxis\": {\"automargin\": true, \"gridcolor\": \"white\", \"linecolor\": \"white\", \"ticks\": \"\", \"title\": {\"standoff\": 15}, \"zerolinecolor\": \"white\", \"zerolinewidth\": 2}}}},                        {\"responsive\": true}                    ).then(function(){\n",
       "                            \n",
       "var gd = document.getElementById('2e7cdada-7052-45f2-81bd-b9fb20055e35');\n",
       "var x = new MutationObserver(function (mutations, observer) {{\n",
       "        var display = window.getComputedStyle(gd).display;\n",
       "        if (!display || display === 'none') {{\n",
       "            console.log([gd, 'removed!']);\n",
       "            Plotly.purge(gd);\n",
       "            observer.disconnect();\n",
       "        }}\n",
       "}});\n",
       "\n",
       "// Listen for the removal of the full notebook cells\n",
       "var notebookContainer = gd.closest('#notebook-container');\n",
       "if (notebookContainer) {{\n",
       "    x.observe(notebookContainer, {childList: true});\n",
       "}}\n",
       "\n",
       "// Listen for the clearing of the current output cell\n",
       "var outputEl = gd.closest('.output');\n",
       "if (outputEl) {{\n",
       "    x.observe(outputEl, {childList: true});\n",
       "}}\n",
       "\n",
       "                        })                };                });            </script>        </div>"
      ]
     },
     "metadata": {},
     "output_type": "display_data"
    }
   ],
   "source": [
    "fig = px.scatter_3d(\n",
    "    pca_projection[:SAMPLE], x=0, y=1, z=2,color =train.target[:SAMPLE],\n",
    "    labels={'0': 'PC 1', '1': 'PC 2', '2': 'PC 3'})\n",
    "fig.show()"
   ]
  },
  {
   "cell_type": "markdown",
   "id": "alternative-academy",
   "metadata": {
    "papermill": {
     "duration": 0.036842,
     "end_time": "2021-05-09T08:10:59.414226",
     "exception": false,
     "start_time": "2021-05-09T08:10:59.377384",
     "status": "completed"
    },
    "tags": []
   },
   "source": [
    "# 5. Model Developement and Training 🛠\n",
    "---"
   ]
  },
  {
   "cell_type": "code",
   "execution_count": 19,
   "id": "painted-douglas",
   "metadata": {
    "execution": {
     "iopub.execute_input": "2021-05-09T08:10:59.501000Z",
     "iopub.status.busy": "2021-05-09T08:10:59.496130Z",
     "iopub.status.idle": "2021-05-09T08:10:59.530662Z",
     "shell.execute_reply": "2021-05-09T08:10:59.530160Z"
    },
    "papermill": {
     "duration": 0.079074,
     "end_time": "2021-05-09T08:10:59.530764",
     "exception": false,
     "start_time": "2021-05-09T08:10:59.451690",
     "status": "completed"
    },
    "tags": []
   },
   "outputs": [],
   "source": [
    "dictionary = {\"Class_1\":1,\"Class_2\":2,\"Class_3\":3,\"Class_4\":4}\n",
    "train['target'].replace(dictionary, inplace = True)"
   ]
  },
  {
   "cell_type": "code",
   "execution_count": 20,
   "id": "engaged-toddler",
   "metadata": {
    "execution": {
     "iopub.execute_input": "2021-05-09T08:10:59.611227Z",
     "iopub.status.busy": "2021-05-09T08:10:59.610718Z",
     "iopub.status.idle": "2021-05-09T08:10:59.620111Z",
     "shell.execute_reply": "2021-05-09T08:10:59.619639Z"
    },
    "papermill": {
     "duration": 0.050746,
     "end_time": "2021-05-09T08:10:59.620227",
     "exception": false,
     "start_time": "2021-05-09T08:10:59.569481",
     "status": "completed"
    },
    "tags": []
   },
   "outputs": [
    {
     "data": {
      "text/plain": [
       "2    57497\n",
       "3    21420\n",
       "4    12593\n",
       "1     8490\n",
       "Name: target, dtype: int64"
      ]
     },
     "execution_count": 20,
     "metadata": {},
     "output_type": "execute_result"
    }
   ],
   "source": [
    "train.target.value_counts()"
   ]
  },
  {
   "cell_type": "markdown",
   "id": "informative-shuttle",
   "metadata": {
    "papermill": {
     "duration": 0.03918,
     "end_time": "2021-05-09T08:10:59.698685",
     "exception": false,
     "start_time": "2021-05-09T08:10:59.659505",
     "status": "completed"
    },
    "tags": []
   },
   "source": [
    "On observing the distribution of classes, from above values. The class 2 is in large number than other classes, whereas Class 1 is very low in number. This suggests that our dataset is imnbalanced."
   ]
  },
  {
   "cell_type": "markdown",
   "id": "eleven-strike",
   "metadata": {
    "papermill": {
     "duration": 0.038058,
     "end_time": "2021-05-09T08:10:59.775646",
     "exception": false,
     "start_time": "2021-05-09T08:10:59.737588",
     "status": "completed"
    },
    "tags": []
   },
   "source": [
    "### Importing Libraries and Models\n",
    "---"
   ]
  },
  {
   "cell_type": "code",
   "execution_count": 21,
   "id": "industrial-carpet",
   "metadata": {
    "execution": {
     "iopub.execute_input": "2021-05-09T08:10:59.856978Z",
     "iopub.status.busy": "2021-05-09T08:10:59.856517Z",
     "iopub.status.idle": "2021-05-09T08:11:00.030338Z",
     "shell.execute_reply": "2021-05-09T08:11:00.030712Z"
    },
    "papermill": {
     "duration": 0.216925,
     "end_time": "2021-05-09T08:11:00.030846",
     "exception": false,
     "start_time": "2021-05-09T08:10:59.813921",
     "status": "completed"
    },
    "tags": []
   },
   "outputs": [],
   "source": [
    "from sklearn.metrics import classification_report\n",
    "from sklearn.model_selection import train_test_split\n",
    "from sklearn.tree import DecisionTreeClassifier\n",
    "from sklearn.linear_model import LogisticRegression\n",
    "from sklearn.ensemble import AdaBoostClassifier, RandomForestClassifier, VotingClassifier\n",
    "from sklearn.neighbors import KNeighborsClassifier\n",
    "from sklearn.svm import SVC\n",
    "import xgboost as xgb\n",
    "\n",
    "from sklearn.model_selection import KFold, cross_val_score"
   ]
  },
  {
   "cell_type": "code",
   "execution_count": 22,
   "id": "union-desperate",
   "metadata": {
    "execution": {
     "iopub.execute_input": "2021-05-09T08:11:00.111723Z",
     "iopub.status.busy": "2021-05-09T08:11:00.111253Z",
     "iopub.status.idle": "2021-05-09T08:11:00.158131Z",
     "shell.execute_reply": "2021-05-09T08:11:00.158484Z"
    },
    "papermill": {
     "duration": 0.088518,
     "end_time": "2021-05-09T08:11:00.158628",
     "exception": false,
     "start_time": "2021-05-09T08:11:00.070110",
     "status": "completed"
    },
    "tags": []
   },
   "outputs": [],
   "source": [
    "X=scaled_train\n",
    "y=train['target'].values\n",
    "\n",
    "train_x, test_x, train_y, test_y = train_test_split( X, y, test_size=0.25, random_state=10)"
   ]
  },
  {
   "cell_type": "markdown",
   "id": "signed-tension",
   "metadata": {
    "papermill": {
     "duration": 0.038621,
     "end_time": "2021-05-09T08:11:00.236193",
     "exception": false,
     "start_time": "2021-05-09T08:11:00.197572",
     "status": "completed"
    },
    "tags": []
   },
   "source": [
    "### 1. Decision Tree\n",
    "---"
   ]
  },
  {
   "cell_type": "code",
   "execution_count": 23,
   "id": "stable-hindu",
   "metadata": {
    "execution": {
     "iopub.execute_input": "2021-05-09T08:11:00.315997Z",
     "iopub.status.busy": "2021-05-09T08:11:00.315541Z",
     "iopub.status.idle": "2021-05-09T08:11:02.122046Z",
     "shell.execute_reply": "2021-05-09T08:11:02.122434Z"
    },
    "papermill": {
     "duration": 1.847747,
     "end_time": "2021-05-09T08:11:02.122571",
     "exception": false,
     "start_time": "2021-05-09T08:11:00.274824",
     "status": "completed"
    },
    "tags": []
   },
   "outputs": [
    {
     "name": "stdout",
     "output_type": "stream",
     "text": [
      "Decision Tree: \n",
      "               precision    recall  f1-score   support\n",
      "\n",
      "           1       0.09      0.10      0.10      2113\n",
      "           2       0.58      0.56      0.57     14393\n",
      "           3       0.23      0.24      0.24      5401\n",
      "           4       0.13      0.14      0.13      3093\n",
      "\n",
      "    accuracy                           0.40     25000\n",
      "   macro avg       0.26      0.26      0.26     25000\n",
      "weighted avg       0.41      0.40      0.40     25000\n",
      "\n"
     ]
    }
   ],
   "source": [
    "tree = DecisionTreeClassifier()\n",
    "tree.fit(train_x, train_y)\n",
    "pred_labels_tree = tree.predict(test_x)\n",
    "print(\"Decision Tree: \\n\", classification_report(test_y, pred_labels_tree))"
   ]
  },
  {
   "cell_type": "markdown",
   "id": "noticed-oakland",
   "metadata": {
    "papermill": {
     "duration": 0.038663,
     "end_time": "2021-05-09T08:11:02.200277",
     "exception": false,
     "start_time": "2021-05-09T08:11:02.161614",
     "status": "completed"
    },
    "tags": []
   },
   "source": [
    "### 2. Logistic Regression\n",
    "---"
   ]
  },
  {
   "cell_type": "code",
   "execution_count": 24,
   "id": "little-excitement",
   "metadata": {
    "execution": {
     "iopub.execute_input": "2021-05-09T08:11:02.284798Z",
     "iopub.status.busy": "2021-05-09T08:11:02.284338Z",
     "iopub.status.idle": "2021-05-09T08:11:02.940926Z",
     "shell.execute_reply": "2021-05-09T08:11:02.941599Z"
    },
    "papermill": {
     "duration": 0.701685,
     "end_time": "2021-05-09T08:11:02.941756",
     "exception": false,
     "start_time": "2021-05-09T08:11:02.240071",
     "status": "completed"
    },
    "tags": []
   },
   "outputs": [
    {
     "name": "stdout",
     "output_type": "stream",
     "text": [
      "Logistic Regression: \n",
      "               precision    recall  f1-score   support\n",
      "\n",
      "           1       0.00      0.00      0.00      2113\n",
      "           2       0.58      0.99      0.73     14393\n",
      "           3       0.45      0.04      0.08      5401\n",
      "           4       0.00      0.00      0.00      3093\n",
      "\n",
      "    accuracy                           0.58     25000\n",
      "   macro avg       0.26      0.26      0.20     25000\n",
      "weighted avg       0.43      0.58      0.44     25000\n",
      "\n"
     ]
    }
   ],
   "source": [
    "logreg = LogisticRegression(random_state=10)\n",
    "logreg.fit(train_x, train_y)\n",
    "pred_labels_logit = logreg.predict(test_x)\n",
    "class_rep_log = classification_report(test_y, pred_labels_logit)\n",
    "print(\"Logistic Regression: \\n\", class_rep_log)"
   ]
  },
  {
   "cell_type": "markdown",
   "id": "simple-adjustment",
   "metadata": {
    "papermill": {
     "duration": 0.045185,
     "end_time": "2021-05-09T08:11:03.040403",
     "exception": false,
     "start_time": "2021-05-09T08:11:02.995218",
     "status": "completed"
    },
    "tags": []
   },
   "source": [
    "### 3. Random Forest\n",
    "---"
   ]
  },
  {
   "cell_type": "code",
   "execution_count": 25,
   "id": "standard-vocabulary",
   "metadata": {
    "execution": {
     "iopub.execute_input": "2021-05-09T08:11:03.122421Z",
     "iopub.status.busy": "2021-05-09T08:11:03.121746Z",
     "iopub.status.idle": "2021-05-09T08:11:07.492209Z",
     "shell.execute_reply": "2021-05-09T08:11:07.491714Z"
    },
    "papermill": {
     "duration": 4.413072,
     "end_time": "2021-05-09T08:11:07.492362",
     "exception": false,
     "start_time": "2021-05-09T08:11:03.079290",
     "status": "completed"
    },
    "tags": []
   },
   "outputs": [
    {
     "name": "stdout",
     "output_type": "stream",
     "text": [
      "Random Forest: \n",
      "               precision    recall  f1-score   support\n",
      "\n",
      "           1       0.00      0.00      0.00      2113\n",
      "           2       0.58      1.00      0.73     14393\n",
      "           3       0.44      0.00      0.00      5401\n",
      "           4       0.00      0.00      0.00      3093\n",
      "\n",
      "    accuracy                           0.58     25000\n",
      "   macro avg       0.26      0.25      0.18     25000\n",
      "weighted avg       0.43      0.58      0.42     25000\n",
      "\n"
     ]
    }
   ],
   "source": [
    "rf = RandomForestClassifier(n_estimators=50, max_depth=10)\n",
    "rf.fit(train_x, train_y)\n",
    "pred_labels_rf = rf.predict(test_x)\n",
    "class_rep_rf = classification_report(test_y, pred_labels_rf)\n",
    "print(\"Random Forest: \\n\", class_rep_rf)"
   ]
  },
  {
   "cell_type": "markdown",
   "id": "addressed-bankruptcy",
   "metadata": {
    "papermill": {
     "duration": 0.039244,
     "end_time": "2021-05-09T08:11:07.573155",
     "exception": false,
     "start_time": "2021-05-09T08:11:07.533911",
     "status": "completed"
    },
    "tags": []
   },
   "source": [
    "### 4. k Nearest Neighbour\n",
    "---"
   ]
  },
  {
   "cell_type": "code",
   "execution_count": 26,
   "id": "wooden-legislation",
   "metadata": {
    "execution": {
     "iopub.execute_input": "2021-05-09T08:11:07.656970Z",
     "iopub.status.busy": "2021-05-09T08:11:07.656222Z",
     "iopub.status.idle": "2021-05-09T08:11:40.937324Z",
     "shell.execute_reply": "2021-05-09T08:11:40.937703Z"
    },
    "papermill": {
     "duration": 33.325346,
     "end_time": "2021-05-09T08:11:40.937823",
     "exception": false,
     "start_time": "2021-05-09T08:11:07.612477",
     "status": "completed"
    },
    "tags": []
   },
   "outputs": [
    {
     "name": "stdout",
     "output_type": "stream",
     "text": [
      "k-Nearest Neighbours: \n",
      "               precision    recall  f1-score   support\n",
      "\n",
      "           1       0.10      0.05      0.06      2113\n",
      "           2       0.58      0.82      0.68     14393\n",
      "           3       0.25      0.12      0.16      5401\n",
      "           4       0.13      0.05      0.07      3093\n",
      "\n",
      "    accuracy                           0.51     25000\n",
      "   macro avg       0.27      0.26      0.24     25000\n",
      "weighted avg       0.41      0.51      0.44     25000\n",
      "\n"
     ]
    }
   ],
   "source": [
    "knn = KNeighborsClassifier()\n",
    "knn.fit(train_x, train_y)\n",
    "pred_labels_knn = knn.predict(test_x)\n",
    "class_rep_knn = classification_report(test_y, pred_labels_knn)\n",
    "print(\"k-Nearest Neighbours: \\n\", class_rep_knn)"
   ]
  },
  {
   "cell_type": "markdown",
   "id": "uniform-heaven",
   "metadata": {
    "papermill": {
     "duration": 0.039773,
     "end_time": "2021-05-09T08:11:41.017273",
     "exception": false,
     "start_time": "2021-05-09T08:11:40.977500",
     "status": "completed"
    },
    "tags": []
   },
   "source": [
    "### 5. XGBoost"
   ]
  },
  {
   "cell_type": "code",
   "execution_count": 27,
   "id": "recognized-filename",
   "metadata": {
    "execution": {
     "iopub.execute_input": "2021-05-09T08:11:41.100816Z",
     "iopub.status.busy": "2021-05-09T08:11:41.100371Z",
     "iopub.status.idle": "2021-05-09T08:12:04.928666Z",
     "shell.execute_reply": "2021-05-09T08:12:04.928264Z"
    },
    "papermill": {
     "duration": 23.87168,
     "end_time": "2021-05-09T08:12:04.928779",
     "exception": false,
     "start_time": "2021-05-09T08:11:41.057099",
     "status": "completed"
    },
    "tags": []
   },
   "outputs": [
    {
     "name": "stdout",
     "output_type": "stream",
     "text": [
      "[08:11:41] WARNING: ../src/learner.cc:1095: Starting in XGBoost 1.3.0, the default evaluation metric used with the objective 'multi:softprob' was changed from 'merror' to 'mlogloss'. Explicitly set eval_metric if you'd like to restore the old behavior.\n",
      "              precision    recall  f1-score   support\n",
      "\n",
      "           1       0.00      0.00      0.00      2113\n",
      "           2       0.58      1.00      0.73     14393\n",
      "           3       0.40      0.01      0.02      5401\n",
      "           4       0.00      0.00      0.00      3093\n",
      "\n",
      "    accuracy                           0.58     25000\n",
      "   macro avg       0.24      0.25      0.19     25000\n",
      "weighted avg       0.42      0.58      0.42     25000\n",
      "\n"
     ]
    }
   ],
   "source": [
    "XGB =xgb.XGBClassifier(random_state=1,learning_rate=0.01)\n",
    "XGB.fit(train_x, train_y)\n",
    "predict_XGB = XGB.predict(test_x)\n",
    "rep_XGB = classification_report(test_y, predict_XGB)\n",
    "print(rep_XGB)"
   ]
  },
  {
   "cell_type": "markdown",
   "id": "transsexual-hudson",
   "metadata": {
    "papermill": {
     "duration": 0.03992,
     "end_time": "2021-05-09T08:12:05.009357",
     "exception": false,
     "start_time": "2021-05-09T08:12:04.969437",
     "status": "completed"
    },
    "tags": []
   },
   "source": [
    "### 6. Adaboost"
   ]
  },
  {
   "cell_type": "code",
   "execution_count": 28,
   "id": "interstate-welding",
   "metadata": {
    "execution": {
     "iopub.execute_input": "2021-05-09T08:12:05.092751Z",
     "iopub.status.busy": "2021-05-09T08:12:05.092308Z",
     "iopub.status.idle": "2021-05-09T08:12:05.095953Z",
     "shell.execute_reply": "2021-05-09T08:12:05.095579Z"
    },
    "papermill": {
     "duration": 0.046996,
     "end_time": "2021-05-09T08:12:05.096055",
     "exception": false,
     "start_time": "2021-05-09T08:12:05.049059",
     "status": "completed"
    },
    "tags": []
   },
   "outputs": [],
   "source": [
    "from sklearn.ensemble import AdaBoostClassifier"
   ]
  },
  {
   "cell_type": "code",
   "execution_count": 29,
   "id": "union-praise",
   "metadata": {
    "execution": {
     "iopub.execute_input": "2021-05-09T08:12:05.181839Z",
     "iopub.status.busy": "2021-05-09T08:12:05.181390Z",
     "iopub.status.idle": "2021-05-09T08:12:19.586792Z",
     "shell.execute_reply": "2021-05-09T08:12:19.586378Z"
    },
    "papermill": {
     "duration": 14.450563,
     "end_time": "2021-05-09T08:12:19.586929",
     "exception": false,
     "start_time": "2021-05-09T08:12:05.136366",
     "status": "completed"
    },
    "tags": []
   },
   "outputs": [
    {
     "name": "stdout",
     "output_type": "stream",
     "text": [
      "              precision    recall  f1-score   support\n",
      "\n",
      "           1       0.00      0.00      0.00      2113\n",
      "           2       0.58      0.98      0.73     14393\n",
      "           3       0.48      0.06      0.11      5401\n",
      "           4       0.50      0.00      0.00      3093\n",
      "\n",
      "    accuracy                           0.58     25000\n",
      "   macro avg       0.39      0.26      0.21     25000\n",
      "weighted avg       0.50      0.58      0.44     25000\n",
      "\n"
     ]
    }
   ],
   "source": [
    "ada = AdaBoostClassifier(n_estimators=100, random_state=0)\n",
    "ada.fit(train_x, train_y)\n",
    "predict_ada = ada.predict(test_x)\n",
    "rep_ada = classification_report(test_y, predict_ada)\n",
    "print(rep_ada)"
   ]
  },
  {
   "cell_type": "code",
   "execution_count": 30,
   "id": "arctic-audit",
   "metadata": {
    "execution": {
     "iopub.execute_input": "2021-05-09T08:12:19.686204Z",
     "iopub.status.busy": "2021-05-09T08:12:19.677125Z",
     "iopub.status.idle": "2021-05-09T08:12:54.494408Z",
     "shell.execute_reply": "2021-05-09T08:12:54.494796Z"
    },
    "papermill": {
     "duration": 34.86617,
     "end_time": "2021-05-09T08:12:54.494950",
     "exception": false,
     "start_time": "2021-05-09T08:12:19.628780",
     "status": "completed"
    },
    "tags": []
   },
   "outputs": [
    {
     "name": "stdout",
     "output_type": "stream",
     "text": [
      " XGB:  0.57552 \n",
      " Logistic Regression:  0.5776 \n",
      " Random Forest:  0.57572 \n",
      " Decision Tree:  0.3982 \n",
      " k-Nearest Neighbours:  0.50624 \n",
      " Adaboost:  0.58008\n"
     ]
    }
   ],
   "source": [
    "print(\" XGB: \", XGB.score(test_x,test_y),\"\\n\",\n",
    "     \"Logistic Regression: \", logreg.score(test_x,test_y),\"\\n\",\n",
    "     \"Random Forest: \", rf.score(test_x,test_y),\"\\n\",\n",
    "     \"Decision Tree: \", tree.score(test_x,test_y),\"\\n\",\n",
    "     \"k-Nearest Neighbours: \", knn.score(test_x,test_y),\"\\n\",\n",
    "      \"Adaboost: \", ada.score(test_x,test_y)\n",
    "     )"
   ]
  },
  {
   "cell_type": "markdown",
   "id": "minimal-snake",
   "metadata": {
    "papermill": {
     "duration": 0.041849,
     "end_time": "2021-05-09T08:12:54.578279",
     "exception": false,
     "start_time": "2021-05-09T08:12:54.536430",
     "status": "completed"
    },
    "tags": []
   },
   "source": [
    "# 6. Voting Classifier 🗡\n",
    "---"
   ]
  },
  {
   "cell_type": "code",
   "execution_count": 31,
   "id": "wrong-marble",
   "metadata": {
    "execution": {
     "iopub.execute_input": "2021-05-09T08:12:54.681697Z",
     "iopub.status.busy": "2021-05-09T08:12:54.681074Z",
     "iopub.status.idle": "2021-05-09T08:12:54.683631Z",
     "shell.execute_reply": "2021-05-09T08:12:54.684138Z"
    },
    "papermill": {
     "duration": 0.063869,
     "end_time": "2021-05-09T08:12:54.684291",
     "exception": false,
     "start_time": "2021-05-09T08:12:54.620422",
     "status": "completed"
    },
    "tags": []
   },
   "outputs": [
    {
     "data": {
      "text/html": [
       "<div>\n",
       "<style scoped>\n",
       "    .dataframe tbody tr th:only-of-type {\n",
       "        vertical-align: middle;\n",
       "    }\n",
       "\n",
       "    .dataframe tbody tr th {\n",
       "        vertical-align: top;\n",
       "    }\n",
       "\n",
       "    .dataframe thead th {\n",
       "        text-align: right;\n",
       "    }\n",
       "</style>\n",
       "<table border=\"1\" class=\"dataframe\">\n",
       "  <thead>\n",
       "    <tr style=\"text-align: right;\">\n",
       "      <th></th>\n",
       "      <th>id</th>\n",
       "      <th>feature_0</th>\n",
       "      <th>feature_1</th>\n",
       "      <th>feature_2</th>\n",
       "      <th>feature_3</th>\n",
       "      <th>feature_4</th>\n",
       "      <th>feature_5</th>\n",
       "      <th>feature_6</th>\n",
       "      <th>feature_7</th>\n",
       "      <th>feature_8</th>\n",
       "      <th>...</th>\n",
       "      <th>feature_40</th>\n",
       "      <th>feature_41</th>\n",
       "      <th>feature_42</th>\n",
       "      <th>feature_43</th>\n",
       "      <th>feature_44</th>\n",
       "      <th>feature_45</th>\n",
       "      <th>feature_46</th>\n",
       "      <th>feature_47</th>\n",
       "      <th>feature_48</th>\n",
       "      <th>feature_49</th>\n",
       "    </tr>\n",
       "  </thead>\n",
       "  <tbody>\n",
       "    <tr>\n",
       "      <th>0</th>\n",
       "      <td>100000</td>\n",
       "      <td>0</td>\n",
       "      <td>0</td>\n",
       "      <td>0</td>\n",
       "      <td>0</td>\n",
       "      <td>0</td>\n",
       "      <td>0</td>\n",
       "      <td>4</td>\n",
       "      <td>4</td>\n",
       "      <td>0</td>\n",
       "      <td>...</td>\n",
       "      <td>0</td>\n",
       "      <td>0</td>\n",
       "      <td>0</td>\n",
       "      <td>0</td>\n",
       "      <td>0</td>\n",
       "      <td>0</td>\n",
       "      <td>0</td>\n",
       "      <td>0</td>\n",
       "      <td>0</td>\n",
       "      <td>0</td>\n",
       "    </tr>\n",
       "    <tr>\n",
       "      <th>1</th>\n",
       "      <td>100001</td>\n",
       "      <td>0</td>\n",
       "      <td>0</td>\n",
       "      <td>1</td>\n",
       "      <td>0</td>\n",
       "      <td>0</td>\n",
       "      <td>0</td>\n",
       "      <td>2</td>\n",
       "      <td>0</td>\n",
       "      <td>7</td>\n",
       "      <td>...</td>\n",
       "      <td>3</td>\n",
       "      <td>0</td>\n",
       "      <td>1</td>\n",
       "      <td>0</td>\n",
       "      <td>0</td>\n",
       "      <td>0</td>\n",
       "      <td>1</td>\n",
       "      <td>0</td>\n",
       "      <td>2</td>\n",
       "      <td>1</td>\n",
       "    </tr>\n",
       "    <tr>\n",
       "      <th>2</th>\n",
       "      <td>100002</td>\n",
       "      <td>0</td>\n",
       "      <td>0</td>\n",
       "      <td>0</td>\n",
       "      <td>0</td>\n",
       "      <td>0</td>\n",
       "      <td>0</td>\n",
       "      <td>0</td>\n",
       "      <td>0</td>\n",
       "      <td>1</td>\n",
       "      <td>...</td>\n",
       "      <td>0</td>\n",
       "      <td>0</td>\n",
       "      <td>0</td>\n",
       "      <td>1</td>\n",
       "      <td>0</td>\n",
       "      <td>0</td>\n",
       "      <td>0</td>\n",
       "      <td>0</td>\n",
       "      <td>6</td>\n",
       "      <td>0</td>\n",
       "    </tr>\n",
       "    <tr>\n",
       "      <th>3</th>\n",
       "      <td>100003</td>\n",
       "      <td>0</td>\n",
       "      <td>0</td>\n",
       "      <td>0</td>\n",
       "      <td>0</td>\n",
       "      <td>0</td>\n",
       "      <td>0</td>\n",
       "      <td>0</td>\n",
       "      <td>1</td>\n",
       "      <td>1</td>\n",
       "      <td>...</td>\n",
       "      <td>0</td>\n",
       "      <td>0</td>\n",
       "      <td>0</td>\n",
       "      <td>0</td>\n",
       "      <td>0</td>\n",
       "      <td>0</td>\n",
       "      <td>6</td>\n",
       "      <td>9</td>\n",
       "      <td>14</td>\n",
       "      <td>3</td>\n",
       "    </tr>\n",
       "    <tr>\n",
       "      <th>4</th>\n",
       "      <td>100004</td>\n",
       "      <td>0</td>\n",
       "      <td>0</td>\n",
       "      <td>0</td>\n",
       "      <td>0</td>\n",
       "      <td>0</td>\n",
       "      <td>0</td>\n",
       "      <td>1</td>\n",
       "      <td>0</td>\n",
       "      <td>4</td>\n",
       "      <td>...</td>\n",
       "      <td>1</td>\n",
       "      <td>0</td>\n",
       "      <td>0</td>\n",
       "      <td>0</td>\n",
       "      <td>0</td>\n",
       "      <td>0</td>\n",
       "      <td>0</td>\n",
       "      <td>0</td>\n",
       "      <td>0</td>\n",
       "      <td>0</td>\n",
       "    </tr>\n",
       "  </tbody>\n",
       "</table>\n",
       "<p>5 rows × 51 columns</p>\n",
       "</div>"
      ],
      "text/plain": [
       "       id  feature_0  feature_1  feature_2  feature_3  feature_4  feature_5  \\\n",
       "0  100000          0          0          0          0          0          0   \n",
       "1  100001          0          0          1          0          0          0   \n",
       "2  100002          0          0          0          0          0          0   \n",
       "3  100003          0          0          0          0          0          0   \n",
       "4  100004          0          0          0          0          0          0   \n",
       "\n",
       "   feature_6  feature_7  feature_8  ...  feature_40  feature_41  feature_42  \\\n",
       "0          4          4          0  ...           0           0           0   \n",
       "1          2          0          7  ...           3           0           1   \n",
       "2          0          0          1  ...           0           0           0   \n",
       "3          0          1          1  ...           0           0           0   \n",
       "4          1          0          4  ...           1           0           0   \n",
       "\n",
       "   feature_43  feature_44  feature_45  feature_46  feature_47  feature_48  \\\n",
       "0           0           0           0           0           0           0   \n",
       "1           0           0           0           1           0           2   \n",
       "2           1           0           0           0           0           6   \n",
       "3           0           0           0           6           9          14   \n",
       "4           0           0           0           0           0           0   \n",
       "\n",
       "   feature_49  \n",
       "0           0  \n",
       "1           1  \n",
       "2           0  \n",
       "3           3  \n",
       "4           0  \n",
       "\n",
       "[5 rows x 51 columns]"
      ]
     },
     "execution_count": 31,
     "metadata": {},
     "output_type": "execute_result"
    }
   ],
   "source": [
    "test.head()"
   ]
  },
  {
   "cell_type": "code",
   "execution_count": 32,
   "id": "entertaining-stable",
   "metadata": {
    "execution": {
     "iopub.execute_input": "2021-05-09T08:12:54.812676Z",
     "iopub.status.busy": "2021-05-09T08:12:54.812089Z",
     "iopub.status.idle": "2021-05-09T08:12:54.820415Z",
     "shell.execute_reply": "2021-05-09T08:12:54.819982Z"
    },
    "papermill": {
     "duration": 0.073133,
     "end_time": "2021-05-09T08:12:54.820529",
     "exception": false,
     "start_time": "2021-05-09T08:12:54.747396",
     "status": "completed"
    },
    "tags": []
   },
   "outputs": [],
   "source": [
    "df_test =  test.drop(['id'],axis=1)"
   ]
  },
  {
   "cell_type": "code",
   "execution_count": 33,
   "id": "durable-rings",
   "metadata": {
    "execution": {
     "iopub.execute_input": "2021-05-09T08:12:54.908591Z",
     "iopub.status.busy": "2021-05-09T08:12:54.908144Z",
     "iopub.status.idle": "2021-05-09T08:12:54.910938Z",
     "shell.execute_reply": "2021-05-09T08:12:54.910422Z"
    },
    "papermill": {
     "duration": 0.048461,
     "end_time": "2021-05-09T08:12:54.911051",
     "exception": false,
     "start_time": "2021-05-09T08:12:54.862590",
     "status": "completed"
    },
    "tags": []
   },
   "outputs": [],
   "source": [
    "eclf = VotingClassifier(estimators=[('lr', logreg), \n",
    "                                    ('rf', rf), \n",
    "                                    #('XGB', XGB),\n",
    "                                    ('ada', ada),\n",
    "                                    #('Decision Tree', tree), \n",
    "                                    #('KNN', knn)\n",
    "                                   ], \n",
    "                        voting='soft')"
   ]
  },
  {
   "cell_type": "code",
   "execution_count": 34,
   "id": "optional-graphic",
   "metadata": {
    "execution": {
     "iopub.execute_input": "2021-05-09T08:12:55.041692Z",
     "iopub.status.busy": "2021-05-09T08:12:55.041067Z",
     "iopub.status.idle": "2021-05-09T08:13:18.125209Z",
     "shell.execute_reply": "2021-05-09T08:13:18.124718Z"
    },
    "papermill": {
     "duration": 23.151678,
     "end_time": "2021-05-09T08:13:18.125316",
     "exception": false,
     "start_time": "2021-05-09T08:12:54.973638",
     "status": "completed"
    },
    "tags": []
   },
   "outputs": [
    {
     "data": {
      "text/plain": [
       "VotingClassifier(estimators=[('lr', LogisticRegression(random_state=10)),\n",
       "                             ('rf',\n",
       "                              RandomForestClassifier(max_depth=10,\n",
       "                                                     n_estimators=50)),\n",
       "                             ('ada',\n",
       "                              AdaBoostClassifier(n_estimators=100,\n",
       "                                                 random_state=0))],\n",
       "                 voting='soft')"
      ]
     },
     "execution_count": 34,
     "metadata": {},
     "output_type": "execute_result"
    }
   ],
   "source": [
    "eclf.fit(X,y)"
   ]
  },
  {
   "cell_type": "code",
   "execution_count": 35,
   "id": "comfortable-traveler",
   "metadata": {
    "execution": {
     "iopub.execute_input": "2021-05-09T08:13:18.217755Z",
     "iopub.status.busy": "2021-05-09T08:13:18.215282Z",
     "iopub.status.idle": "2021-05-09T08:13:20.644234Z",
     "shell.execute_reply": "2021-05-09T08:13:20.643796Z"
    },
    "papermill": {
     "duration": 2.475729,
     "end_time": "2021-05-09T08:13:20.644344",
     "exception": false,
     "start_time": "2021-05-09T08:13:18.168615",
     "status": "completed"
    },
    "tags": []
   },
   "outputs": [],
   "source": [
    "preds = eclf.predict_proba(df_test)"
   ]
  },
  {
   "cell_type": "code",
   "execution_count": 36,
   "id": "mathematical-spirit",
   "metadata": {
    "execution": {
     "iopub.execute_input": "2021-05-09T08:13:20.735478Z",
     "iopub.status.busy": "2021-05-09T08:13:20.734777Z",
     "iopub.status.idle": "2021-05-09T08:13:20.738018Z",
     "shell.execute_reply": "2021-05-09T08:13:20.738393Z"
    },
    "papermill": {
     "duration": 0.051061,
     "end_time": "2021-05-09T08:13:20.738528",
     "exception": false,
     "start_time": "2021-05-09T08:13:20.687467",
     "status": "completed"
    },
    "tags": []
   },
   "outputs": [
    {
     "data": {
      "text/plain": [
       "array([[0.16146425, 0.55455842, 0.16296686, 0.12101047],\n",
       "       [0.16376083, 0.48263123, 0.2072142 , 0.14639374],\n",
       "       [0.16258521, 0.49997436, 0.20865423, 0.1287862 ],\n",
       "       ...,\n",
       "       [0.1306862 , 0.49360711, 0.23420706, 0.14149963],\n",
       "       [0.14355793, 0.51915703, 0.18349771, 0.15378733],\n",
       "       [0.14346034, 0.52219937, 0.18213131, 0.15220897]])"
      ]
     },
     "execution_count": 36,
     "metadata": {},
     "output_type": "execute_result"
    }
   ],
   "source": [
    "preds"
   ]
  },
  {
   "cell_type": "markdown",
   "id": "cathedral-sullivan",
   "metadata": {
    "papermill": {
     "duration": 0.042951,
     "end_time": "2021-05-09T08:13:20.825596",
     "exception": false,
     "start_time": "2021-05-09T08:13:20.782645",
     "status": "completed"
    },
    "tags": []
   },
   "source": [
    "# 7. Submission 📑"
   ]
  },
  {
   "cell_type": "code",
   "execution_count": 37,
   "id": "worthy-companion",
   "metadata": {
    "execution": {
     "iopub.execute_input": "2021-05-09T08:13:20.914092Z",
     "iopub.status.busy": "2021-05-09T08:13:20.913433Z",
     "iopub.status.idle": "2021-05-09T08:13:20.936802Z",
     "shell.execute_reply": "2021-05-09T08:13:20.936302Z"
    },
    "papermill": {
     "duration": 0.068344,
     "end_time": "2021-05-09T08:13:20.936931",
     "exception": false,
     "start_time": "2021-05-09T08:13:20.868587",
     "status": "completed"
    },
    "tags": []
   },
   "outputs": [
    {
     "data": {
      "text/html": [
       "<div>\n",
       "<style scoped>\n",
       "    .dataframe tbody tr th:only-of-type {\n",
       "        vertical-align: middle;\n",
       "    }\n",
       "\n",
       "    .dataframe tbody tr th {\n",
       "        vertical-align: top;\n",
       "    }\n",
       "\n",
       "    .dataframe thead th {\n",
       "        text-align: right;\n",
       "    }\n",
       "</style>\n",
       "<table border=\"1\" class=\"dataframe\">\n",
       "  <thead>\n",
       "    <tr style=\"text-align: right;\">\n",
       "      <th></th>\n",
       "      <th>id</th>\n",
       "      <th>Class_1</th>\n",
       "      <th>Class_2</th>\n",
       "      <th>Class_3</th>\n",
       "      <th>Class_4</th>\n",
       "    </tr>\n",
       "  </thead>\n",
       "  <tbody>\n",
       "    <tr>\n",
       "      <th>0</th>\n",
       "      <td>100000</td>\n",
       "      <td>0.161464</td>\n",
       "      <td>0.554558</td>\n",
       "      <td>0.162967</td>\n",
       "      <td>0.121010</td>\n",
       "    </tr>\n",
       "    <tr>\n",
       "      <th>1</th>\n",
       "      <td>100001</td>\n",
       "      <td>0.163761</td>\n",
       "      <td>0.482631</td>\n",
       "      <td>0.207214</td>\n",
       "      <td>0.146394</td>\n",
       "    </tr>\n",
       "    <tr>\n",
       "      <th>2</th>\n",
       "      <td>100002</td>\n",
       "      <td>0.162585</td>\n",
       "      <td>0.499974</td>\n",
       "      <td>0.208654</td>\n",
       "      <td>0.128786</td>\n",
       "    </tr>\n",
       "    <tr>\n",
       "      <th>3</th>\n",
       "      <td>100003</td>\n",
       "      <td>0.130225</td>\n",
       "      <td>0.444172</td>\n",
       "      <td>0.277227</td>\n",
       "      <td>0.148375</td>\n",
       "    </tr>\n",
       "    <tr>\n",
       "      <th>4</th>\n",
       "      <td>100004</td>\n",
       "      <td>0.151738</td>\n",
       "      <td>0.573397</td>\n",
       "      <td>0.160071</td>\n",
       "      <td>0.114794</td>\n",
       "    </tr>\n",
       "  </tbody>\n",
       "</table>\n",
       "</div>"
      ],
      "text/plain": [
       "       id   Class_1   Class_2   Class_3   Class_4\n",
       "0  100000  0.161464  0.554558  0.162967  0.121010\n",
       "1  100001  0.163761  0.482631  0.207214  0.146394\n",
       "2  100002  0.162585  0.499974  0.208654  0.128786\n",
       "3  100003  0.130225  0.444172  0.277227  0.148375\n",
       "4  100004  0.151738  0.573397  0.160071  0.114794"
      ]
     },
     "execution_count": 37,
     "metadata": {},
     "output_type": "execute_result"
    }
   ],
   "source": [
    "submission = pd.DataFrame()\n",
    "submission['id'] = test['id']\n",
    "submission['Class_1'] = preds[:, 0]\n",
    "submission['Class_2'] = preds[:, 1]\n",
    "submission['Class_3'] = preds[:, 2]\n",
    "submission['Class_4'] = preds[:, 3]\n",
    "\n",
    "submission.head()"
   ]
  },
  {
   "cell_type": "code",
   "execution_count": 38,
   "id": "rational-security",
   "metadata": {
    "execution": {
     "iopub.execute_input": "2021-05-09T08:13:21.031442Z",
     "iopub.status.busy": "2021-05-09T08:13:21.030990Z",
     "iopub.status.idle": "2021-05-09T08:13:21.314800Z",
     "shell.execute_reply": "2021-05-09T08:13:21.314304Z"
    },
    "papermill": {
     "duration": 0.332321,
     "end_time": "2021-05-09T08:13:21.314939",
     "exception": false,
     "start_time": "2021-05-09T08:13:20.982618",
     "status": "completed"
    },
    "tags": []
   },
   "outputs": [],
   "source": [
    "submission.to_csv(\"submission#7.csv\", encoding='utf-8', index=False)"
   ]
  },
  {
   "cell_type": "markdown",
   "id": "furnished-heater",
   "metadata": {
    "papermill": {
     "duration": 0.044215,
     "end_time": "2021-05-09T08:13:21.404605",
     "exception": false,
     "start_time": "2021-05-09T08:13:21.360390",
     "status": "completed"
    },
    "tags": []
   },
   "source": [
    "# Thank you!\n",
    "\n",
    "- Author: [Pratik Kumar](https://pr2tik1.github.io)<br>\n",
    "- What next?\n",
    "    - Handle Imbalance within dataset\n",
    "    - More Classifiers\n",
    "    - Better Training"
   ]
  }
 ],
 "metadata": {
  "kernelspec": {
   "display_name": "Python 3",
   "language": "python",
   "name": "python3"
  },
  "language_info": {
   "codemirror_mode": {
    "name": "ipython",
    "version": 3
   },
   "file_extension": ".py",
   "mimetype": "text/x-python",
   "name": "python",
   "nbconvert_exporter": "python",
   "pygments_lexer": "ipython3",
   "version": "3.7.10"
  },
  "papermill": {
   "default_parameters": {},
   "duration": 160.665763,
   "end_time": "2021-05-09T08:13:22.259254",
   "environment_variables": {},
   "exception": null,
   "input_path": "__notebook__.ipynb",
   "output_path": "__notebook__.ipynb",
   "parameters": {},
   "start_time": "2021-05-09T08:10:41.593491",
   "version": "2.3.3"
  }
 },
 "nbformat": 4,
 "nbformat_minor": 5
}
