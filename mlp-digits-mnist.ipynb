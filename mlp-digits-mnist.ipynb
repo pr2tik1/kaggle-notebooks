{
 "cells": [
  {
   "cell_type": "markdown",
   "metadata": {},
   "source": [
    "# Simple Neural Network using PyTorch"
   ]
  },
  {
   "cell_type": "markdown",
   "metadata": {},
   "source": [
    "\n",
    "The following code contains multi-class classication of MNIST Handwritten Digits data using simple Multi-Layered Perceptron (MLP). The MLP has 784 inputs in the input layer and 10 outputs in the output layer."
   ]
  },
  {
   "cell_type": "code",
   "execution_count": 1,
   "metadata": {
    "_cell_guid": "79c7e3d0-c299-4dcb-8224-4455121ee9b0",
    "_uuid": "d629ff2d2480ee46fbb7e2d37f6b5fab8052498a"
   },
   "outputs": [],
   "source": [
    "#Importing all libraries\n",
    "import torch\n",
    "from torch import nn\n",
    "import torch.nn.functional as F\n",
    "from torch import optim\n",
    "from collections import OrderedDict\n",
    "\n",
    "from torchvision import datasets, transforms\n",
    "from torch.utils.data import DataLoader, TensorDataset, Dataset\n",
    "from torchvision.utils import make_grid\n",
    "from torch.autograd import Variable\n",
    "\n",
    "import helper\n",
    "\n",
    "import pandas as pd\n",
    "import numpy as np\n",
    "import matplotlib.pyplot as plt\n",
    "from sklearn.model_selection import train_test_split\n",
    "%matplotlib inline"
   ]
  },
  {
   "cell_type": "markdown",
   "metadata": {},
   "source": [
    "### Importing Dataset"
   ]
  },
  {
   "cell_type": "code",
   "execution_count": 2,
   "metadata": {},
   "outputs": [],
   "source": [
    "#Import data\n",
    "train_df = pd.read_csv(\"dataset/digit-recognizer/train.csv\")\n",
    "test_df = pd.read_csv(\"dataset/digit-recognizer/test.csv\")"
   ]
  },
  {
   "cell_type": "markdown",
   "metadata": {},
   "source": [
    "## Train and Validation datasets"
   ]
  },
  {
   "cell_type": "code",
   "execution_count": 3,
   "metadata": {},
   "outputs": [],
   "source": [
    "#Labels(Targets) and Inputs\n",
    "train_labels = train_df['label'].values\n",
    "train_images = (train_df.iloc[:,1:].values).astype('float32')\n",
    "test_images = (test_df.iloc[:,:].values).astype('float32')\n",
    "\n",
    "#Training and Validation Split\n",
    "train_images, val_images, train_labels, val_labels = train_test_split(train_images, \n",
    "                                                                      train_labels,\n",
    "                                                                     stratify=train_labels, \n",
    "                                                                      random_state=302,\n",
    "                                                                     test_size=0.2)"
   ]
  },
  {
   "cell_type": "markdown",
   "metadata": {},
   "source": [
    "## Reshaping the data to make Tensors"
   ]
  },
  {
   "cell_type": "code",
   "execution_count": 4,
   "metadata": {},
   "outputs": [],
   "source": [
    "#train\n",
    "train_images_tensor = torch.tensor(train_images)/255.0\n",
    "train_labels_tensor = torch.tensor(train_labels)\n",
    "train_tensor = TensorDataset(train_images_tensor, train_labels_tensor)\n",
    "#val\n",
    "val_images_tensor = torch.tensor(val_images)/255.0\n",
    "val_labels_tensor = torch.tensor(val_labels)\n",
    "val_tensor = TensorDataset(val_images_tensor, val_labels_tensor)\n",
    "#test\n",
    "test_images_tensor = torch.tensor(test_images)/255.0"
   ]
  },
  {
   "cell_type": "markdown",
   "metadata": {},
   "source": [
    "## Viewing the Images"
   ]
  },
  {
   "cell_type": "code",
   "execution_count": 5,
   "metadata": {},
   "outputs": [
    {
     "data": {
      "image/png": "[encoded data removed]",
      "text/plain": [
       "<Figure size 864x360 with 10 Axes>"
      ]
     },
     "metadata": {
      "needs_background": "light"
     },
     "output_type": "display_data"
    }
   ],
   "source": [
    "fig, axes = plt.subplots(2,5, figsize=(12,5))\n",
    "axes = axes.flatten()\n",
    "idx = np.random.randint(0,5000,size=10)\n",
    "for i in range(10):\n",
    "    axes[i].imshow(train_images[idx[i],:].reshape(28,28), cmap='gray')\n",
    "    axes[i].axis('off') # hide the axes ticks\n",
    "    axes[i].set_title(str(int(train_labels[idx[i]])), color= 'black', fontsize=25)\n",
    "plt.show()"
   ]
  },
  {
   "cell_type": "markdown",
   "metadata": {},
   "source": [
    "## Feeding them to data loader"
   ]
  },
  {
   "cell_type": "code",
   "execution_count": 6,
   "metadata": {},
   "outputs": [],
   "source": [
    "#Dataloader\n",
    "trainloader = DataLoader(train_tensor, batch_size=16, num_workers=2, shuffle=True)\n",
    "valloader = DataLoader(val_tensor, batch_size=16, num_workers=2, shuffle=True)\n",
    "testloader = DataLoader(test_images_tensor, batch_size=16, num_workers=2, shuffle=False)"
   ]
  },
  {
   "cell_type": "markdown",
   "metadata": {},
   "source": [
    "## Defining Model Architecture"
   ]
  },
  {
   "cell_type": "code",
   "execution_count": 7,
   "metadata": {},
   "outputs": [],
   "source": [
    "model = nn.Sequential(nn.Linear(784, 512),\n",
    "                      nn.LeakyReLU(),\n",
    "                      nn.Linear(512, 512),\n",
    "                      nn.BatchNorm1d(512),\n",
    "                      nn.LeakyReLU(),\n",
    "                      nn.Linear(512, 10),\n",
    "                      nn.LogSoftmax(dim=1))\n",
    "\n",
    "criterion = nn.CrossEntropyLoss()\n",
    "optimizer = optim.SGD(model.parameters(), lr=0.01, weight_decay=2.0e-4 , momentum = 0.09)"
   ]
  },
  {
   "cell_type": "markdown",
   "metadata": {},
   "source": [
    "## Training the model over train dataset"
   ]
  },
  {
   "cell_type": "code",
   "execution_count": 8,
   "metadata": {},
   "outputs": [
    {
     "name": "stdout",
     "output_type": "stream",
     "text": [
      "Epoch: 1 | \tTraining Loss: 0.310622 | \tValidation Loss: 0.138475\n",
      "\n",
      " -----------------------Validation loss decreased (inf --> 0.138475)----------------------- \n",
      "\n",
      "Epoch: 2 | \tTraining Loss: 0.137171 | \tValidation Loss: 0.111734\n",
      "\n",
      " -----------------------Validation loss decreased (0.138475 --> 0.111734)----------------------- \n",
      "\n",
      "Epoch: 3 | \tTraining Loss: 0.088485 | \tValidation Loss: 0.084739\n",
      "\n",
      " -----------------------Validation loss decreased (0.111734 --> 0.084739)----------------------- \n",
      "\n",
      "Epoch: 4 | \tTraining Loss: 0.064746 | \tValidation Loss: 0.077363\n",
      "\n",
      " -----------------------Validation loss decreased (0.084739 --> 0.077363)----------------------- \n",
      "\n",
      "Epoch: 5 | \tTraining Loss: 0.048697 | \tValidation Loss: 0.076516\n",
      "\n",
      " -----------------------Validation loss decreased (0.077363 --> 0.076516)----------------------- \n",
      "\n",
      "Epoch: 6 | \tTraining Loss: 0.038232 | \tValidation Loss: 0.080411\n",
      "Epoch: 7 | \tTraining Loss: 0.030978 | \tValidation Loss: 0.073641\n",
      "\n",
      " -----------------------Validation loss decreased (0.076516 --> 0.073641)----------------------- \n",
      "\n",
      "Epoch: 8 | \tTraining Loss: 0.025054 | \tValidation Loss: 0.071308\n",
      "\n",
      " -----------------------Validation loss decreased (0.073641 --> 0.071308)----------------------- \n",
      "\n",
      "Epoch: 9 | \tTraining Loss: 0.020159 | \tValidation Loss: 0.068918\n",
      "\n",
      " -----------------------Validation loss decreased (0.071308 --> 0.068918)----------------------- \n",
      "\n",
      "Epoch: 10 | \tTraining Loss: 0.016120 | \tValidation Loss: 0.073151\n",
      "Epoch: 11 | \tTraining Loss: 0.013979 | \tValidation Loss: 0.074153\n",
      "Epoch: 12 | \tTraining Loss: 0.012270 | \tValidation Loss: 0.067337\n",
      "\n",
      " -----------------------Validation loss decreased (0.068918 --> 0.067337)----------------------- \n",
      "\n",
      "Epoch: 13 | \tTraining Loss: 0.008886 | \tValidation Loss: 0.066031\n",
      "\n",
      " -----------------------Validation loss decreased (0.067337 --> 0.066031)----------------------- \n",
      "\n",
      "Epoch: 14 | \tTraining Loss: 0.007862 | \tValidation Loss: 0.072799\n",
      "Epoch: 15 | \tTraining Loss: 0.010044 | \tValidation Loss: 0.075083\n",
      "Epoch: 16 | \tTraining Loss: 0.008232 | \tValidation Loss: 0.071080\n",
      "Epoch: 17 | \tTraining Loss: 0.006510 | \tValidation Loss: 0.065171\n",
      "\n",
      " -----------------------Validation loss decreased (0.066031 --> 0.065171)----------------------- \n",
      "\n",
      "Epoch: 18 | \tTraining Loss: 0.005157 | \tValidation Loss: 0.068115\n",
      "Epoch: 19 | \tTraining Loss: 0.006046 | \tValidation Loss: 0.069190\n",
      "Epoch: 20 | \tTraining Loss: 0.004837 | \tValidation Loss: 0.066368\n",
      "Epoch: 21 | \tTraining Loss: 0.005535 | \tValidation Loss: 0.067451\n",
      "Epoch: 22 | \tTraining Loss: 0.004617 | \tValidation Loss: 0.065399\n",
      "Epoch: 23 | \tTraining Loss: 0.004989 | \tValidation Loss: 0.069451\n",
      "Epoch: 24 | \tTraining Loss: 0.004546 | \tValidation Loss: 0.068068\n",
      "Epoch: 25 | \tTraining Loss: 0.003924 | \tValidation Loss: 0.070005\n",
      "Epoch: 26 | \tTraining Loss: 0.003199 | \tValidation Loss: 0.067534\n",
      "Epoch: 27 | \tTraining Loss: 0.003956 | \tValidation Loss: 0.069528\n",
      "Epoch: 28 | \tTraining Loss: 0.003367 | \tValidation Loss: 0.066279\n",
      "Epoch: 29 | \tTraining Loss: 0.003047 | \tValidation Loss: 0.062271\n",
      "\n",
      " -----------------------Validation loss decreased (0.065171 --> 0.062271)----------------------- \n",
      "\n",
      "Epoch: 30 | \tTraining Loss: 0.003728 | \tValidation Loss: 0.069572\n",
      "Epoch: 31 | \tTraining Loss: 0.003147 | \tValidation Loss: 0.075671\n",
      "Epoch: 32 | \tTraining Loss: 0.002315 | \tValidation Loss: 0.064647\n",
      "Epoch: 33 | \tTraining Loss: 0.003086 | \tValidation Loss: 0.066802\n",
      "Epoch: 34 | \tTraining Loss: 0.002158 | \tValidation Loss: 0.067613\n",
      "Epoch: 35 | \tTraining Loss: 0.003541 | \tValidation Loss: 0.068190\n",
      "Epoch: 36 | \tTraining Loss: 0.002929 | \tValidation Loss: 0.070739\n",
      "Epoch: 37 | \tTraining Loss: 0.003385 | \tValidation Loss: 0.070986\n",
      "Epoch: 38 | \tTraining Loss: 0.003068 | \tValidation Loss: 0.071290\n",
      "Epoch: 39 | \tTraining Loss: 0.002445 | \tValidation Loss: 0.064347\n",
      "Epoch: 40 | \tTraining Loss: 0.002242 | \tValidation Loss: 0.064968\n",
      "Epoch: 41 | \tTraining Loss: 0.002156 | \tValidation Loss: 0.065938\n",
      "Epoch: 42 | \tTraining Loss: 0.001453 | \tValidation Loss: 0.063675\n",
      "Epoch: 43 | \tTraining Loss: 0.001818 | \tValidation Loss: 0.069308\n",
      "Epoch: 44 | \tTraining Loss: 0.002276 | \tValidation Loss: 0.065369\n",
      "Epoch: 45 | \tTraining Loss: 0.002236 | \tValidation Loss: 0.066236\n",
      "Epoch: 46 | \tTraining Loss: 0.002074 | \tValidation Loss: 0.066839\n",
      "Epoch: 47 | \tTraining Loss: 0.001763 | \tValidation Loss: 0.066655\n",
      "Epoch: 48 | \tTraining Loss: 0.003433 | \tValidation Loss: 0.068427\n",
      "Epoch: 49 | \tTraining Loss: 0.002253 | \tValidation Loss: 0.061868\n",
      "\n",
      " -----------------------Validation loss decreased (0.062271 --> 0.061868)----------------------- \n",
      "\n",
      "Epoch: 50 | \tTraining Loss: 0.001936 | \tValidation Loss: 0.064667\n"
     ]
    }
   ],
   "source": [
    "epoch = 30\n",
    "valid_loss_min = np.Inf\n",
    "train_losses, test_losses = [], []\n",
    "\n",
    "for e in range(epoch):\n",
    "    train_loss = 0.0\n",
    "    valid_loss = 0.0\n",
    "    correct = 0.0\n",
    "    loss_values= []\n",
    "    ################# Training ###################\n",
    "    model.train()\n",
    "    for images, labels in trainloader:\n",
    "        #images, labels = images.to(device), labels.to(device)\n",
    "        images = images.view(images.shape[0], -1)# Flatten MNIST images into 784 long vector\n",
    "        optimizer.zero_grad()#Clears the gradient of optimized parameters\n",
    "        output = model(images)#Forward Pass\n",
    "        loss = criterion(output, labels)# Calculates the loss\n",
    "        loss.backward()#Backprop\n",
    "        optimizer.step()# perform a single optimization step (parameter update)\n",
    "        train_loss += loss.item()*images.size(0)\n",
    "        \n",
    "    ############# Validation ###################\n",
    "    model.eval() # prep model for evaluation\n",
    "    for data, target in valloader:\n",
    "        #data, labels = data.to(device), labels.to(device)\n",
    "        data = data.view(data.shape[0], -1)# Flatten MNIST images into a 784 long vector\n",
    "        # forward pass: compute predicted outputs by passing inputs to the model\n",
    "        output = model(data)\n",
    "        # calculate the loss\n",
    "        loss = criterion(output, target)\n",
    "        # update running validation loss \n",
    "        valid_loss += loss.item()*data.size(0)\n",
    "\n",
    "    train_loss = train_loss/len(trainloader.sampler)\n",
    "    valid_loss = valid_loss/len(valloader.sampler)\n",
    "\n",
    "    print('Epoch: {} | \\tTraining Loss: {:.6f} | \\tValidation Loss: {:.6f}'.format(\n",
    "        e+1,train_loss,valid_loss))\n",
    "    \n",
    "    train_losses.append(train_loss/len(trainloader.sampler))\n",
    "    test_losses.append(valid_loss/len(valloader.sampler))\n",
    "\n",
    "    # saving model if validation loss has decreased\n",
    "    if valid_loss <= valid_loss_min:\n",
    "        print('\\n | Validation loss decreased ({:.6f} --> {:.6f}) | \\n'.format(\n",
    "        valid_loss_min,\n",
    "        valid_loss))\n",
    "        torch.save(model.state_dict(), 'model.pt')\n",
    "        valid_loss_min = valid_loss"
   ]
  },
  {
   "cell_type": "code",
   "execution_count": 9,
   "metadata": {},
   "outputs": [
    {
     "data": {
      "text/plain": [
       "<matplotlib.legend.Legend at 0x7fd0aad1b6d0>"
      ]
     },
     "execution_count": 9,
     "metadata": {},
     "output_type": "execute_result"
    },
    {
     "data": {
      "image/png": "[encoded data removed]",
      "text/plain": [
       "<Figure size 432x288 with 1 Axes>"
      ]
     },
     "metadata": {
      "needs_background": "light"
     },
     "output_type": "display_data"
    }
   ],
   "source": [
    "plt.plot(train_losses, label='Training loss')\n",
    "plt.plot(test_losses, label='Validation loss')\n",
    "plt.legend(frameon=False)"
   ]
  },
  {
   "cell_type": "markdown",
   "metadata": {},
   "source": [
    "## Loading the saved model"
   ]
  },
  {
   "cell_type": "code",
   "execution_count": 10,
   "metadata": {},
   "outputs": [
    {
     "data": {
      "text/plain": [
       "<All keys matched successfully>"
      ]
     },
     "execution_count": 10,
     "metadata": {},
     "output_type": "execute_result"
    }
   ],
   "source": [
    "model.load_state_dict(torch.load('model.pt'))"
   ]
  },
  {
   "cell_type": "markdown",
   "metadata": {},
   "source": [
    "## Viewing the trained data images"
   ]
  },
  {
   "cell_type": "code",
   "execution_count": 11,
   "metadata": {},
   "outputs": [
    {
     "data": {
      "image/png": "[encoded data removed]",
      "text/plain": [
       "<Figure size 432x648 with 2 Axes>"
      ]
     },
     "metadata": {
      "needs_background": "light"
     },
     "output_type": "display_data"
    }
   ],
   "source": [
    "images, labels = next(iter(trainloader))\n",
    "\n",
    "img = images[0].view(1, 784)\n",
    "# Turn off gradients to speed up this part\n",
    "with torch.no_grad():\n",
    "    logps = model(img)\n",
    "\n",
    "# Output of the network are log-probabilities, need to take exponential for probabilities\n",
    "ps = torch.exp(logps)\n",
    "helper.view_classify(img.view(1, 28, 28), ps, version=\"MNIST\")"
   ]
  },
  {
   "cell_type": "markdown",
   "metadata": {},
   "source": [
    "## Evaluation"
   ]
  },
  {
   "cell_type": "code",
   "execution_count": 12,
   "metadata": {},
   "outputs": [],
   "source": [
    "def evaluate(data_loader):\n",
    "    model.eval()\n",
    "    loss = 0\n",
    "    correct = 0\n",
    "    \n",
    "    for data, target in data_loader:\n",
    "        data = data.unsqueeze(1)\n",
    "        data, target = data, target\n",
    "        data = data.view(data.size(0), -1)\n",
    "        output = model(data)\n",
    "        \n",
    "        pred = output.data.max(1, keepdim=True)[1]\n",
    "        correct += pred.eq(target.data.view_as(pred)).cpu().sum()\n",
    "                \n",
    "    print('Accuracy: {}/{} ({:.3f}%)\\n'.format(correct,\\\n",
    "                                                     len(data_loader.dataset),\n",
    "                                                     100. * correct / len(data_loader.dataset)))"
   ]
  },
  {
   "cell_type": "code",
   "execution_count": 13,
   "metadata": {},
   "outputs": [
    {
     "name": "stdout",
     "output_type": "stream",
     "text": [
      "------Validation Accuracy------\n",
      "Accuracy: 8261/8400 (98.345%)\n",
      "\n",
      "------Train Accuracy------\n",
      "Accuracy: 33600/33600 (100.000%)\n",
      "\n"
     ]
    }
   ],
   "source": [
    "print(\"------Validation Accuracy------\")\n",
    "evaluate(valloader)\n",
    "print(\"------Train Accuracy------\")\n",
    "evaluate(trainloader)"
   ]
  },
  {
   "cell_type": "markdown",
   "metadata": {},
   "source": [
    "## Prediction"
   ]
  },
  {
   "cell_type": "code",
   "execution_count": 14,
   "metadata": {},
   "outputs": [],
   "source": [
    "def make_predictions(data_loader):\n",
    "    model.eval()\n",
    "    test_preds = torch.LongTensor()\n",
    "    \n",
    "    for i, data in enumerate(data_loader):\n",
    "        data = data.unsqueeze(1)\n",
    "        data = data.view(data.size(0), -1)\n",
    "        output = model(data)\n",
    "        \n",
    "        preds = output.data.max(1, keepdim=True)[1]\n",
    "        test_preds = torch.cat((test_preds, preds), dim=0)\n",
    "        \n",
    "    return test_preds\n"
   ]
  },
  {
   "cell_type": "code",
   "execution_count": 15,
   "metadata": {},
   "outputs": [],
   "source": [
    "test_set_preds = make_predictions(testloader)\n",
    "test_new = TensorDataset(test_images_tensor, test_set_preds)\n",
    "testnew = DataLoader(test_new, batch_size=16, num_workers=2, shuffle=False)"
   ]
  },
  {
   "cell_type": "code",
   "execution_count": 25,
   "metadata": {},
   "outputs": [
    {
     "data": {
      "image/png": "[encoded data removed]",
      "text/plain": [
       "<Figure size 432x648 with 2 Axes>"
      ]
     },
     "metadata": {
      "needs_background": "light"
     },
     "output_type": "display_data"
    }
   ],
   "source": [
    "images, labels = next(iter(testnew))\n",
    "\n",
    "idx = np.random.randint(0,16)\n",
    "img = images[idx].view(1, 784)\n",
    "# Turn off gradients to speed up this part\n",
    "with torch.no_grad():\n",
    "    logps = model(img)\n",
    "\n",
    "# Output of the network are log-probabilities, need to take exponential for probabilities\n",
    "ps = torch.exp(logps)\n",
    "helper.view_classify(img.view(1, 28, 28), ps, version=\"MNIST\")"
   ]
  },
  {
   "cell_type": "markdown",
   "metadata": {},
   "source": [
    "## Submission"
   ]
  },
  {
   "cell_type": "code",
   "execution_count": null,
   "metadata": {},
   "outputs": [],
   "source": [
    "sub = pd.read_csv(\"dataset/digit-recognizer/sample_submission.csv\")\n",
    "sub['Label'] = test_set_preds.numpy().squeeze()\n",
    "sub.to_csv(\"MLP#1.csv\", index=False)\n",
    "#sub.head()"
   ]
  }
 ],
 "metadata": {
  "kernelspec": {
   "display_name": "Python 3",
   "language": "python",
   "name": "python3"
  },
  "language_info": {
   "codemirror_mode": {
    "name": "ipython",
    "version": 3
   },
   "file_extension": ".py",
   "mimetype": "text/x-python",
   "name": "python",
   "nbconvert_exporter": "python",
   "pygments_lexer": "ipython3",
   "version": "3.7.4"
  }
 },
 "nbformat": 4,
 "nbformat_minor": 4
}
