{
 "cells": [
  {
   "cell_type": "markdown",
   "id": "hawaiian-monthly",
   "metadata": {
    "papermill": {
     "duration": 0.031523,
     "end_time": "2021-04-22T07:03:52.817450",
     "exception": false,
     "start_time": "2021-04-22T07:03:52.785927",
     "status": "completed"
    },
    "tags": []
   },
   "source": [
    "# Logistic Regression using PyTorch\n",
    "---\n",
    "\n",
    "Logisitc Regression is a linear classifier, which is very simple to understand. This forms one of the reason why neural networks are used and how are they better when compared to linear classifier like Logisitc Regression. The Logisitc Regression model is \"linear\" because of its decision boundary is linear. This is good for simple datasets to classify them into multi or binary classes.\n",
    "\n",
    "It's training or learning process can be broken down to forward and backward passes. We will be using the widely used MNIST data for multi-class image classification and PyTorch to implement model from scratch.    "
   ]
  },
  {
   "cell_type": "code",
   "execution_count": 1,
   "id": "reduced-characterization",
   "metadata": {
    "execution": {
     "iopub.execute_input": "2021-04-22T07:03:52.887225Z",
     "iopub.status.busy": "2021-04-22T07:03:52.885465Z",
     "iopub.status.idle": "2021-04-22T07:03:53.989071Z",
     "shell.execute_reply": "2021-04-22T07:03:53.987751Z"
    },
    "papermill": {
     "duration": 1.139796,
     "end_time": "2021-04-22T07:03:53.989254",
     "exception": false,
     "start_time": "2021-04-22T07:03:52.849458",
     "status": "completed"
    },
    "tags": []
   },
   "outputs": [],
   "source": [
    "#Importing Libraries\n",
    "import numpy as np \n",
    "import matplotlib.pyplot as plt \n",
    "from tqdm.notebook import tqdm\n",
    "import numpy as np\n",
    "import pandas as pd\n",
    "import seaborn as sns \n",
    "\n",
    "from sklearn.model_selection import train_test_split\n",
    "%matplotlib inline"
   ]
  },
  {
   "cell_type": "code",
   "execution_count": 2,
   "id": "chemical-greeting",
   "metadata": {
    "execution": {
     "iopub.execute_input": "2021-04-22T07:03:54.055591Z",
     "iopub.status.busy": "2021-04-22T07:03:54.054936Z",
     "iopub.status.idle": "2021-04-22T07:03:55.236857Z",
     "shell.execute_reply": "2021-04-22T07:03:55.236286Z"
    },
    "papermill": {
     "duration": 1.216833,
     "end_time": "2021-04-22T07:03:55.237034",
     "exception": false,
     "start_time": "2021-04-22T07:03:54.020201",
     "status": "completed"
    },
    "tags": []
   },
   "outputs": [],
   "source": [
    "import torch \n",
    "from torchvision import datasets, transforms\n",
    "from torch.utils.data import DataLoader, TensorDataset, Dataset\n",
    "\n",
    "import torch.nn.functional as F"
   ]
  },
  {
   "cell_type": "markdown",
   "id": "split-recording",
   "metadata": {
    "papermill": {
     "duration": 0.030094,
     "end_time": "2021-04-22T07:03:55.297805",
     "exception": false,
     "start_time": "2021-04-22T07:03:55.267711",
     "status": "completed"
    },
    "tags": []
   },
   "source": [
    "## 1. Data\n",
    "\n",
    "Our dataset is not in the form of images, but is in the form of csv. We will be separating the labels values and pixel intensity values from the columns of dataframe."
   ]
  },
  {
   "cell_type": "code",
   "execution_count": 3,
   "id": "cloudy-medicine",
   "metadata": {
    "execution": {
     "iopub.execute_input": "2021-04-22T07:03:55.363917Z",
     "iopub.status.busy": "2021-04-22T07:03:55.363290Z",
     "iopub.status.idle": "2021-04-22T07:04:01.471671Z",
     "shell.execute_reply": "2021-04-22T07:04:01.472228Z"
    },
    "papermill": {
     "duration": 6.144339,
     "end_time": "2021-04-22T07:04:01.472395",
     "exception": false,
     "start_time": "2021-04-22T07:03:55.328056",
     "status": "completed"
    },
    "tags": []
   },
   "outputs": [
    {
     "data": {
      "text/plain": [
       "((42000, 785), (28000, 784))"
      ]
     },
     "execution_count": 3,
     "metadata": {},
     "output_type": "execute_result"
    }
   ],
   "source": [
    "train = pd.read_csv('/kaggle/input/digit-recognizer/train.csv')\n",
    "test = pd.read_csv('/kaggle/input/digit-recognizer/test.csv')\n",
    "train.shape, test.shape"
   ]
  },
  {
   "cell_type": "code",
   "execution_count": 4,
   "id": "closing-novel",
   "metadata": {
    "execution": {
     "iopub.execute_input": "2021-04-22T07:04:01.547624Z",
     "iopub.status.busy": "2021-04-22T07:04:01.546658Z",
     "iopub.status.idle": "2021-04-22T07:04:01.674736Z",
     "shell.execute_reply": "2021-04-22T07:04:01.674170Z"
    },
    "papermill": {
     "duration": 0.170936,
     "end_time": "2021-04-22T07:04:01.674874",
     "exception": false,
     "start_time": "2021-04-22T07:04:01.503938",
     "status": "completed"
    },
    "tags": []
   },
   "outputs": [],
   "source": [
    "#Labels(Targets) and Inputs\n",
    "train_labels = train['label'].values\n",
    "train_images = (train.iloc[:,1:].values).astype('float32')\n",
    "test_images = (test.iloc[:,:].values).astype('float32')"
   ]
  },
  {
   "cell_type": "code",
   "execution_count": 5,
   "id": "floppy-scope",
   "metadata": {
    "execution": {
     "iopub.execute_input": "2021-04-22T07:04:01.743105Z",
     "iopub.status.busy": "2021-04-22T07:04:01.741804Z",
     "iopub.status.idle": "2021-04-22T07:04:02.154491Z",
     "shell.execute_reply": "2021-04-22T07:04:02.153880Z"
    },
    "papermill": {
     "duration": 0.448773,
     "end_time": "2021-04-22T07:04:02.154692",
     "exception": false,
     "start_time": "2021-04-22T07:04:01.705919",
     "status": "completed"
    },
    "tags": []
   },
   "outputs": [],
   "source": [
    "#Training and Validation Split\n",
    "train_images, val_images, train_labels, val_labels = train_test_split(train_images, train_labels,\n",
    "                                                                     stratify=train_labels, random_state=302,\n",
    "                                                                     test_size=0.2)"
   ]
  },
  {
   "cell_type": "code",
   "execution_count": 6,
   "id": "commercial-captain",
   "metadata": {
    "execution": {
     "iopub.execute_input": "2021-04-22T07:04:02.230239Z",
     "iopub.status.busy": "2021-04-22T07:04:02.229460Z",
     "iopub.status.idle": "2021-04-22T07:04:02.440313Z",
     "shell.execute_reply": "2021-04-22T07:04:02.440902Z"
    },
    "papermill": {
     "duration": 0.255046,
     "end_time": "2021-04-22T07:04:02.441135",
     "exception": false,
     "start_time": "2021-04-22T07:04:02.186089",
     "status": "completed"
    },
    "tags": []
   },
   "outputs": [],
   "source": [
    "#train\n",
    "train_images_tensor = torch.tensor(train_images)/255.0\n",
    "train_labels_tensor = torch.tensor(train_labels)\n",
    "train_tensor = TensorDataset(train_images_tensor, train_labels_tensor)\n",
    "#val\n",
    "val_images_tensor = torch.tensor(val_images)/255.0\n",
    "val_labels_tensor = torch.tensor(val_labels)\n",
    "val_tensor = TensorDataset(val_images_tensor, val_labels_tensor)\n",
    "#test\n",
    "test_images_tensor = torch.tensor(test_images)/255.0"
   ]
  },
  {
   "cell_type": "code",
   "execution_count": 7,
   "id": "consistent-stupid",
   "metadata": {
    "execution": {
     "iopub.execute_input": "2021-04-22T07:04:02.508600Z",
     "iopub.status.busy": "2021-04-22T07:04:02.507899Z",
     "iopub.status.idle": "2021-04-22T07:04:02.512388Z",
     "shell.execute_reply": "2021-04-22T07:04:02.512910Z"
    },
    "papermill": {
     "duration": 0.039043,
     "end_time": "2021-04-22T07:04:02.513138",
     "exception": false,
     "start_time": "2021-04-22T07:04:02.474095",
     "status": "completed"
    },
    "tags": []
   },
   "outputs": [],
   "source": [
    "train_loader = DataLoader(train_tensor, batch_size = 100, shuffle=True)\n",
    "val_loader = DataLoader(val_tensor, batch_size = 100, shuffle=True)\n",
    "test_loader = DataLoader(test_images_tensor, batch_size = 100, shuffle=False)"
   ]
  },
  {
   "cell_type": "code",
   "execution_count": 8,
   "id": "assigned-terrorism",
   "metadata": {
    "execution": {
     "iopub.execute_input": "2021-04-22T07:04:02.579319Z",
     "iopub.status.busy": "2021-04-22T07:04:02.578657Z",
     "iopub.status.idle": "2021-04-22T07:04:02.583493Z",
     "shell.execute_reply": "2021-04-22T07:04:02.584078Z"
    },
    "papermill": {
     "duration": 0.039532,
     "end_time": "2021-04-22T07:04:02.584249",
     "exception": false,
     "start_time": "2021-04-22T07:04:02.544717",
     "status": "completed"
    },
    "tags": []
   },
   "outputs": [
    {
     "data": {
      "text/plain": [
       "(33600, 8400, 28000)"
      ]
     },
     "execution_count": 8,
     "metadata": {},
     "output_type": "execute_result"
    }
   ],
   "source": [
    "#Training and Test data size\n",
    "len(train_images_tensor), len(val_images_tensor), len(test_images_tensor)"
   ]
  },
  {
   "cell_type": "code",
   "execution_count": 9,
   "id": "classified-korean",
   "metadata": {
    "execution": {
     "iopub.execute_input": "2021-04-22T07:04:02.653429Z",
     "iopub.status.busy": "2021-04-22T07:04:02.652717Z",
     "iopub.status.idle": "2021-04-22T07:04:02.655464Z",
     "shell.execute_reply": "2021-04-22T07:04:02.655937Z"
    },
    "papermill": {
     "duration": 0.040092,
     "end_time": "2021-04-22T07:04:02.656127",
     "exception": false,
     "start_time": "2021-04-22T07:04:02.616035",
     "status": "completed"
    },
    "tags": []
   },
   "outputs": [
    {
     "name": "stdout",
     "output_type": "stream",
     "text": [
      "(784,)\n"
     ]
    }
   ],
   "source": [
    "#Shape of an image\n",
    "image = train_images[3,:]\n",
    "print(image.shape)"
   ]
  },
  {
   "cell_type": "code",
   "execution_count": 10,
   "id": "surrounded-nitrogen",
   "metadata": {
    "execution": {
     "iopub.execute_input": "2021-04-22T07:04:02.724557Z",
     "iopub.status.busy": "2021-04-22T07:04:02.723870Z",
     "iopub.status.idle": "2021-04-22T07:04:02.883049Z",
     "shell.execute_reply": "2021-04-22T07:04:02.882376Z"
    },
    "papermill": {
     "duration": 0.194606,
     "end_time": "2021-04-22T07:04:02.883187",
     "exception": false,
     "start_time": "2021-04-22T07:04:02.688581",
     "status": "completed"
    },
    "tags": []
   },
   "outputs": [
    {
     "name": "stdout",
     "output_type": "stream",
     "text": [
      "Image Label:  4\n"
     ]
    },
    {
     "data": {
      "image/png": "[encoded data removed]",
      "text/plain": [
       "<Figure size 432x288 with 1 Axes>"
      ]
     },
     "metadata": {
      "needs_background": "light"
     },
     "output_type": "display_data"
    }
   ],
   "source": [
    "#Plotting an image\n",
    "image = image.reshape([28,28])\n",
    "plt.imshow(image, cmap = \"gray\")\n",
    "print(\"Image Label: \", train_labels[3])"
   ]
  },
  {
   "cell_type": "markdown",
   "id": "coordinated-princeton",
   "metadata": {
    "papermill": {
     "duration": 0.033158,
     "end_time": "2021-04-22T07:04:02.951196",
     "exception": false,
     "start_time": "2021-04-22T07:04:02.918038",
     "status": "completed"
    },
    "tags": []
   },
   "source": [
    "Preprocessing the data to in torch data loaders with batches."
   ]
  },
  {
   "cell_type": "code",
   "execution_count": 11,
   "id": "optical-examination",
   "metadata": {
    "execution": {
     "iopub.execute_input": "2021-04-22T07:04:03.026714Z",
     "iopub.status.busy": "2021-04-22T07:04:03.025967Z",
     "iopub.status.idle": "2021-04-22T07:04:03.055113Z",
     "shell.execute_reply": "2021-04-22T07:04:03.054467Z"
    },
    "papermill": {
     "duration": 0.070006,
     "end_time": "2021-04-22T07:04:03.055274",
     "exception": false,
     "start_time": "2021-04-22T07:04:02.985268",
     "status": "completed"
    },
    "tags": []
   },
   "outputs": [
    {
     "name": "stdout",
     "output_type": "stream",
     "text": [
      "Images shape:  torch.Size([100, 784])\n",
      "Lables shape:  torch.Size([100])\n"
     ]
    }
   ],
   "source": [
    "data_iter = iter(train_loader)\n",
    "images, labels = next(data_iter)\n",
    "print(\"Images shape: \", images.shape)\n",
    "print(\"Lables shape: \", labels.shape)"
   ]
  },
  {
   "cell_type": "markdown",
   "id": "warming-filling",
   "metadata": {
    "papermill": {
     "duration": 0.033478,
     "end_time": "2021-04-22T07:04:03.122655",
     "exception": false,
     "start_time": "2021-04-22T07:04:03.089177",
     "status": "completed"
    },
    "tags": []
   },
   "source": [
    "## 2. Model\n",
    "\n",
    "We will be first performing one single forward pass and backpropagation, to understand what's going under the hood. This is rather very simple model. This does not involve anything 'deep'. On comparing it with neural networks we can consider neural networks as using logistic regression k-times with non-linear activation functions.  \n",
    "\n"
   ]
  },
  {
   "cell_type": "markdown",
   "id": "atmospheric-metro",
   "metadata": {
    "papermill": {
     "duration": 0.033437,
     "end_time": "2021-04-22T07:04:03.189967",
     "exception": false,
     "start_time": "2021-04-22T07:04:03.156530",
     "status": "completed"
    },
    "tags": []
   },
   "source": [
    "Initializing the parameters: Weights(W) and Biases(b),"
   ]
  },
  {
   "cell_type": "code",
   "execution_count": 12,
   "id": "secret-posting",
   "metadata": {
    "execution": {
     "iopub.execute_input": "2021-04-22T07:04:03.262676Z",
     "iopub.status.busy": "2021-04-22T07:04:03.262030Z",
     "iopub.status.idle": "2021-04-22T07:04:03.298667Z",
     "shell.execute_reply": "2021-04-22T07:04:03.298165Z"
    },
    "papermill": {
     "duration": 0.075067,
     "end_time": "2021-04-22T07:04:03.298808",
     "exception": false,
     "start_time": "2021-04-22T07:04:03.223741",
     "status": "completed"
    },
    "tags": []
   },
   "outputs": [
    {
     "data": {
      "text/plain": [
       "tensor([[ 0.0051, -0.0239, -0.0260,  ..., -0.1141,  0.0072, -0.0144],\n",
       "        [ 0.0275,  0.0189, -0.0340,  ..., -0.0207,  0.0200,  0.0068],\n",
       "        [ 0.0078,  0.0034, -0.1029,  ..., -0.0059, -0.0333,  0.0325],\n",
       "        ...,\n",
       "        [ 0.0061, -0.0588,  0.0011,  ..., -0.0226,  0.0165,  0.0249],\n",
       "        [ 0.0732, -0.0350,  0.0131,  ..., -0.0053, -0.0020, -0.0188],\n",
       "        [ 0.0030,  0.0119,  0.0346,  ...,  0.0262, -0.0050, -0.0504]],\n",
       "       requires_grad=True)"
      ]
     },
     "execution_count": 12,
     "metadata": {},
     "output_type": "execute_result"
    }
   ],
   "source": [
    "#weights and biases\n",
    "W = torch.randn(784, 10)/np.sqrt(784)\n",
    "b = torch.zeros(10, requires_grad=True)\n",
    "W.requires_grad_()"
   ]
  },
  {
   "cell_type": "markdown",
   "id": "coral-skirt",
   "metadata": {
    "papermill": {
     "duration": 0.034724,
     "end_time": "2021-04-22T07:04:03.367898",
     "exception": false,
     "start_time": "2021-04-22T07:04:03.333174",
     "status": "completed"
    },
    "tags": []
   },
   "source": [
    "The 'require_grad' is true so that both weights and biases are learned. This tells PyTorch's autograd to track gradients for these two variable and the variables depending on W and b."
   ]
  },
  {
   "cell_type": "markdown",
   "id": "advised-polymer",
   "metadata": {
    "papermill": {
     "duration": 0.034166,
     "end_time": "2021-04-22T07:04:03.437780",
     "exception": false,
     "start_time": "2021-04-22T07:04:03.403614",
     "status": "completed"
    },
    "tags": []
   },
   "source": [
    "## 3. Forward pass \n",
    "Forward Propagation is where we apply randomly initialized weights and biases. These parameters are the 'knobs' to tune our model for less loss and better prediction.\n",
    "\n",
    "\\begin{align}\n",
    "Y = X W + b \n",
    "\\end{align}\n"
   ]
  },
  {
   "cell_type": "code",
   "execution_count": 13,
   "id": "gothic-longitude",
   "metadata": {
    "execution": {
     "iopub.execute_input": "2021-04-22T07:04:03.516226Z",
     "iopub.status.busy": "2021-04-22T07:04:03.515185Z",
     "iopub.status.idle": "2021-04-22T07:04:03.519103Z",
     "shell.execute_reply": "2021-04-22T07:04:03.518506Z"
    },
    "papermill": {
     "duration": 0.04355,
     "end_time": "2021-04-22T07:04:03.519244",
     "exception": false,
     "start_time": "2021-04-22T07:04:03.475694",
     "status": "completed"
    },
    "tags": []
   },
   "outputs": [
    {
     "data": {
      "text/plain": [
       "torch.Size([100, 784])"
      ]
     },
     "execution_count": 13,
     "metadata": {},
     "output_type": "execute_result"
    }
   ],
   "source": [
    "#input shape after flattening the images \n",
    "x = images.view(-1, 28*28)\n",
    "x.shape "
   ]
  },
  {
   "cell_type": "code",
   "execution_count": 14,
   "id": "cheap-handy",
   "metadata": {
    "execution": {
     "iopub.execute_input": "2021-04-22T07:04:03.593728Z",
     "iopub.status.busy": "2021-04-22T07:04:03.593043Z",
     "iopub.status.idle": "2021-04-22T07:04:03.634251Z",
     "shell.execute_reply": "2021-04-22T07:04:03.633611Z"
    },
    "papermill": {
     "duration": 0.08029,
     "end_time": "2021-04-22T07:04:03.634403",
     "exception": false,
     "start_time": "2021-04-22T07:04:03.554113",
     "status": "completed"
    },
    "tags": []
   },
   "outputs": [
    {
     "data": {
      "text/plain": [
       "tensor([-0.0219, -0.5005,  0.0510,  0.0990, -0.0877,  0.2589, -0.2775, -0.0183,\n",
       "        -0.0543, -0.1921], grad_fn=<SliceBackward>)"
      ]
     },
     "execution_count": 14,
     "metadata": {},
     "output_type": "execute_result"
    }
   ],
   "source": [
    "#Linear Transformation\n",
    "y = torch.matmul(x, W) + b\n",
    "y[0,:]"
   ]
  },
  {
   "cell_type": "markdown",
   "id": "chemical-robert",
   "metadata": {
    "papermill": {
     "duration": 0.034797,
     "end_time": "2021-04-22T07:04:03.704558",
     "exception": false,
     "start_time": "2021-04-22T07:04:03.669761",
     "status": "completed"
    },
    "tags": []
   },
   "source": [
    "Following are the softmax implementaions that squash output of forward propagation 'y' into range of (0,1) by applying softmax activation function. This can be done by either hard-coding the softmax function or by using sotmax from the torch.nn.Functional module.\n",
    "\n",
    "\\begin{align}\n",
    "p(y_i) = \\text{softmax}(y_i) = \\frac{\\text{exp}(y_i)}{\\sum_j\\text{exp}(y_j)}\n",
    "\\end{align}"
   ]
  },
  {
   "cell_type": "code",
   "execution_count": 15,
   "id": "regional-austin",
   "metadata": {
    "execution": {
     "iopub.execute_input": "2021-04-22T07:04:03.778501Z",
     "iopub.status.busy": "2021-04-22T07:04:03.777558Z",
     "iopub.status.idle": "2021-04-22T07:04:04.034351Z",
     "shell.execute_reply": "2021-04-22T07:04:04.033785Z"
    },
    "papermill": {
     "duration": 0.294866,
     "end_time": "2021-04-22T07:04:04.034489",
     "exception": false,
     "start_time": "2021-04-22T07:04:03.739623",
     "status": "completed"
    },
    "tags": []
   },
   "outputs": [
    {
     "data": {
      "text/plain": [
       "<Figure size 432x288 with 0 Axes>"
      ]
     },
     "metadata": {},
     "output_type": "display_data"
    },
    {
     "data": {
      "image/png": "[encoded data removed]",
      "text/plain": [
       "<Figure size 864x432 with 1 Axes>"
      ]
     },
     "metadata": {
      "needs_background": "light"
     },
     "output_type": "display_data"
    }
   ],
   "source": [
    "#Loss Function\n",
    "def make_plot(x, f, name):\n",
    "    plt.figure()\n",
    "    plt.figure(figsize=(12,6))\n",
    "    plt.title(name, fontsize=20, fontweight='bold')\n",
    "    plt.xlabel('z', fontsize=15)\n",
    "    plt.ylabel('Activation function value', fontsize=15)\n",
    "    sns.set_style(\"whitegrid\")\n",
    "    plt.plot(x, f, label=\"f (z)\")\n",
    "    plt.legend(loc=4, prop={'size': 15}, frameon=True,shadow=True, facecolor=\"white\", edgecolor=\"black\")\n",
    "    plt.savefig(name + \".png\")\n",
    "    plt.show()\n",
    "\n",
    "z = np.arange(0, 10, 0.01)\n",
    "f = np.exp(z)/sum(np.exp(z))\n",
    "make_plot(z, f, \"Softmax\")"
   ]
  },
  {
   "cell_type": "code",
   "execution_count": 16,
   "id": "occupational-parking",
   "metadata": {
    "execution": {
     "iopub.execute_input": "2021-04-22T07:04:04.113697Z",
     "iopub.status.busy": "2021-04-22T07:04:04.113039Z",
     "iopub.status.idle": "2021-04-22T07:04:04.126159Z",
     "shell.execute_reply": "2021-04-22T07:04:04.125517Z"
    },
    "papermill": {
     "duration": 0.054863,
     "end_time": "2021-04-22T07:04:04.126306",
     "exception": false,
     "start_time": "2021-04-22T07:04:04.071443",
     "status": "completed"
    },
    "tags": []
   },
   "outputs": [
    {
     "data": {
      "text/plain": [
       "tensor([0.1034, 0.0641, 0.1112, 0.1167, 0.0968, 0.1369, 0.0801, 0.1037, 0.1001,\n",
       "        0.0872], grad_fn=<SelectBackward>)"
      ]
     },
     "execution_count": 16,
     "metadata": {},
     "output_type": "execute_result"
    }
   ],
   "source": [
    "#Probability of classes function from scratch\n",
    "prob_eqn = torch.exp(y)/torch.sum(torch.exp(y), dim=1, keepdim=True)\n",
    "prob_eqn[0]"
   ]
  },
  {
   "cell_type": "code",
   "execution_count": 17,
   "id": "public-vietnam",
   "metadata": {
    "execution": {
     "iopub.execute_input": "2021-04-22T07:04:04.205428Z",
     "iopub.status.busy": "2021-04-22T07:04:04.204797Z",
     "iopub.status.idle": "2021-04-22T07:04:04.213911Z",
     "shell.execute_reply": "2021-04-22T07:04:04.213305Z"
    },
    "papermill": {
     "duration": 0.050398,
     "end_time": "2021-04-22T07:04:04.214066",
     "exception": false,
     "start_time": "2021-04-22T07:04:04.163668",
     "status": "completed"
    },
    "tags": []
   },
   "outputs": [
    {
     "data": {
      "text/plain": [
       "tensor([0.1034, 0.0641, 0.1112, 0.1167, 0.0968, 0.1369, 0.0801, 0.1037, 0.1001,\n",
       "        0.0872], grad_fn=<SelectBackward>)"
      ]
     },
     "execution_count": 17,
     "metadata": {},
     "output_type": "execute_result"
    }
   ],
   "source": [
    "#Probability of classes using softmax\n",
    "probs = F.softmax(y, dim=1)\n",
    "probs[0]"
   ]
  },
  {
   "cell_type": "code",
   "execution_count": 18,
   "id": "quiet-radar",
   "metadata": {
    "execution": {
     "iopub.execute_input": "2021-04-22T07:04:04.294578Z",
     "iopub.status.busy": "2021-04-22T07:04:04.293593Z",
     "iopub.status.idle": "2021-04-22T07:04:04.297965Z",
     "shell.execute_reply": "2021-04-22T07:04:04.297354Z"
    },
    "papermill": {
     "duration": 0.04635,
     "end_time": "2021-04-22T07:04:04.298118",
     "exception": false,
     "start_time": "2021-04-22T07:04:04.251768",
     "status": "completed"
    },
    "tags": []
   },
   "outputs": [
    {
     "data": {
      "text/plain": [
       "torch.Size([100])"
      ]
     },
     "execution_count": 18,
     "metadata": {},
     "output_type": "execute_result"
    }
   ],
   "source": [
    "#Viewing the shape of labels\n",
    "labels.shape"
   ]
  },
  {
   "cell_type": "markdown",
   "id": "standard-theology",
   "metadata": {
    "papermill": {
     "duration": 0.038201,
     "end_time": "2021-04-22T07:04:04.374684",
     "exception": false,
     "start_time": "2021-04-22T07:04:04.336483",
     "status": "completed"
    },
    "tags": []
   },
   "source": [
    "Loss Function/Cost Function- Cross Entropy which is suitable for multi-class classification tasks.\n",
    "\n",
    "\\begin{align}\n",
    "H_{y'}(y)=-\\sum_i y'_i \\text{log}(y_i)\n",
    "\\end{align}\n"
   ]
  },
  {
   "cell_type": "code",
   "execution_count": 19,
   "id": "running-organic",
   "metadata": {
    "execution": {
     "iopub.execute_input": "2021-04-22T07:04:04.459385Z",
     "iopub.status.busy": "2021-04-22T07:04:04.458728Z",
     "iopub.status.idle": "2021-04-22T07:04:04.468446Z",
     "shell.execute_reply": "2021-04-22T07:04:04.467802Z"
    },
    "papermill": {
     "duration": 0.054347,
     "end_time": "2021-04-22T07:04:04.468585",
     "exception": false,
     "start_time": "2021-04-22T07:04:04.414238",
     "status": "completed"
    },
    "tags": []
   },
   "outputs": [
    {
     "data": {
      "text/plain": [
       "tensor(2.3402, grad_fn=<NllLossBackward>)"
      ]
     },
     "execution_count": 19,
     "metadata": {},
     "output_type": "execute_result"
    }
   ],
   "source": [
    "#Loss Function: Cross Entropy Loss\n",
    "loss = F.cross_entropy(y, labels)\n",
    "loss"
   ]
  },
  {
   "cell_type": "markdown",
   "id": "unable-reasoning",
   "metadata": {
    "papermill": {
     "duration": 0.038488,
     "end_time": "2021-04-22T07:04:04.546286",
     "exception": false,
     "start_time": "2021-04-22T07:04:04.507798",
     "status": "completed"
    },
    "tags": []
   },
   "source": [
    "## 4. Backprop\n",
    "\n",
    "We have forward propagation and loss, now we need to update weights that is measured by penalising the models's output from forward propagation using loss function. The updating of weights while going backwards in the model is what we call training process. This updating of weights needs an updating rule or 'optimization function' like gradient functions. We will be using SGD- Stochastic Gradient Descent. \n",
    "\n",
    "\n",
    "\\begin{align}\n",
    "\\theta_{t+1} = \\theta_t - \\alpha \\nabla_\\theta \\mathcal{L}\n",
    "\\end{align}\n",
    "\n",
    "where $\\theta$ is a parameter, $\\alpha$ is our learning rate (step size), and $\\nabla_\\theta \\mathcal{L}$ is the gradient of our loss with respect to $\\theta$."
   ]
  },
  {
   "cell_type": "code",
   "execution_count": 20,
   "id": "acceptable-pleasure",
   "metadata": {
    "execution": {
     "iopub.execute_input": "2021-04-22T07:04:04.629090Z",
     "iopub.status.busy": "2021-04-22T07:04:04.628443Z",
     "iopub.status.idle": "2021-04-22T07:04:04.631255Z",
     "shell.execute_reply": "2021-04-22T07:04:04.630703Z"
    },
    "papermill": {
     "duration": 0.046322,
     "end_time": "2021-04-22T07:04:04.631393",
     "exception": false,
     "start_time": "2021-04-22T07:04:04.585071",
     "status": "completed"
    },
    "tags": []
   },
   "outputs": [],
   "source": [
    "#Update Rule\n",
    "optimizer = torch.optim.SGD([W,b], lr=0.1)"
   ]
  },
  {
   "cell_type": "markdown",
   "id": "affiliated-bridge",
   "metadata": {
    "papermill": {
     "duration": 0.0386,
     "end_time": "2021-04-22T07:04:04.709397",
     "exception": false,
     "start_time": "2021-04-22T07:04:04.670797",
     "status": "completed"
    },
    "tags": []
   },
   "source": [
    "To compute the gradients for W and b we need to call the backward() finction on the cross entropy loss function(loss)."
   ]
  },
  {
   "cell_type": "code",
   "execution_count": 21,
   "id": "official-click",
   "metadata": {
    "execution": {
     "iopub.execute_input": "2021-04-22T07:04:04.793224Z",
     "iopub.status.busy": "2021-04-22T07:04:04.792598Z",
     "iopub.status.idle": "2021-04-22T07:04:04.799900Z",
     "shell.execute_reply": "2021-04-22T07:04:04.800373Z"
    },
    "papermill": {
     "duration": 0.052444,
     "end_time": "2021-04-22T07:04:04.800550",
     "exception": false,
     "start_time": "2021-04-22T07:04:04.748106",
     "status": "completed"
    },
    "tags": []
   },
   "outputs": [],
   "source": [
    "loss.backward()"
   ]
  },
  {
   "cell_type": "markdown",
   "id": "competent-gasoline",
   "metadata": {
    "papermill": {
     "duration": 0.038883,
     "end_time": "2021-04-22T07:04:04.878478",
     "exception": false,
     "start_time": "2021-04-22T07:04:04.839595",
     "status": "completed"
    },
    "tags": []
   },
   "source": [
    "Now the variables that required gradients have now accumulated gradients. For example,"
   ]
  },
  {
   "cell_type": "code",
   "execution_count": 22,
   "id": "direct-hindu",
   "metadata": {
    "execution": {
     "iopub.execute_input": "2021-04-22T07:04:04.961825Z",
     "iopub.status.busy": "2021-04-22T07:04:04.961199Z",
     "iopub.status.idle": "2021-04-22T07:04:04.965069Z",
     "shell.execute_reply": "2021-04-22T07:04:04.965614Z"
    },
    "papermill": {
     "duration": 0.048099,
     "end_time": "2021-04-22T07:04:04.965771",
     "exception": false,
     "start_time": "2021-04-22T07:04:04.917672",
     "status": "completed"
    },
    "tags": []
   },
   "outputs": [
    {
     "data": {
      "text/plain": [
       "tensor([-0.0134, -0.0648,  0.0116,  0.0242,  0.0488,  0.0383, -0.0190, -0.0049,\n",
       "         0.0111, -0.0319])"
      ]
     },
     "execution_count": 22,
     "metadata": {},
     "output_type": "execute_result"
    }
   ],
   "source": [
    "b.grad"
   ]
  },
  {
   "cell_type": "markdown",
   "id": "copyrighted-regard",
   "metadata": {
    "papermill": {
     "duration": 0.039865,
     "end_time": "2021-04-22T07:04:05.045361",
     "exception": false,
     "start_time": "2021-04-22T07:04:05.005496",
     "status": "completed"
    },
    "tags": []
   },
   "source": [
    "To apply gradient to update W and b we use the updation rule, i.e., our optimizer function. "
   ]
  },
  {
   "cell_type": "code",
   "execution_count": 23,
   "id": "comparative-tutorial",
   "metadata": {
    "execution": {
     "iopub.execute_input": "2021-04-22T07:04:05.127871Z",
     "iopub.status.busy": "2021-04-22T07:04:05.127281Z",
     "iopub.status.idle": "2021-04-22T07:04:05.131014Z",
     "shell.execute_reply": "2021-04-22T07:04:05.131518Z"
    },
    "papermill": {
     "duration": 0.046516,
     "end_time": "2021-04-22T07:04:05.131671",
     "exception": false,
     "start_time": "2021-04-22T07:04:05.085155",
     "status": "completed"
    },
    "tags": []
   },
   "outputs": [],
   "source": [
    "optimizer.step()"
   ]
  },
  {
   "cell_type": "markdown",
   "id": "silver-raising",
   "metadata": {
    "papermill": {
     "duration": 0.039586,
     "end_time": "2021-04-22T07:04:05.211292",
     "exception": false,
     "start_time": "2021-04-22T07:04:05.171706",
     "status": "completed"
    },
    "tags": []
   },
   "source": [
    "Our learning rate is 0.1 so b is now updated by -0.1*b.grad,"
   ]
  },
  {
   "cell_type": "code",
   "execution_count": 24,
   "id": "distant-emerald",
   "metadata": {
    "execution": {
     "iopub.execute_input": "2021-04-22T07:04:05.294500Z",
     "iopub.status.busy": "2021-04-22T07:04:05.293887Z",
     "iopub.status.idle": "2021-04-22T07:04:05.299167Z",
     "shell.execute_reply": "2021-04-22T07:04:05.299693Z"
    },
    "papermill": {
     "duration": 0.047989,
     "end_time": "2021-04-22T07:04:05.299851",
     "exception": false,
     "start_time": "2021-04-22T07:04:05.251862",
     "status": "completed"
    },
    "tags": []
   },
   "outputs": [
    {
     "data": {
      "text/plain": [
       "tensor([ 0.0013,  0.0065, -0.0012, -0.0024, -0.0049, -0.0038,  0.0019,  0.0005,\n",
       "        -0.0011,  0.0032], requires_grad=True)"
      ]
     },
     "execution_count": 24,
     "metadata": {},
     "output_type": "execute_result"
    }
   ],
   "source": [
    "b"
   ]
  },
  {
   "cell_type": "markdown",
   "id": "mighty-bailey",
   "metadata": {
    "papermill": {
     "duration": 0.039961,
     "end_time": "2021-04-22T07:04:05.379900",
     "exception": false,
     "start_time": "2021-04-22T07:04:05.339939",
     "status": "completed"
    },
    "tags": []
   },
   "source": [
    "We've now successfully trained on a minibatch! However, one minibatch probably isn't enough. At this point, we've trained the model on 100 examples out of the 60000 in the training set. We're going to need to repeat this process, for more of the data.\n",
    "\n",
    "One more thing to keep in mind though: gradients calculated by backward() don't override the old values; instead, they accumulate. Therefore, we'll need to clear the gradient buffers before you compute gradients for the next minibatch."
   ]
  },
  {
   "cell_type": "code",
   "execution_count": 25,
   "id": "forced-dominant",
   "metadata": {
    "execution": {
     "iopub.execute_input": "2021-04-22T07:04:05.465536Z",
     "iopub.status.busy": "2021-04-22T07:04:05.464895Z",
     "iopub.status.idle": "2021-04-22T07:04:05.471343Z",
     "shell.execute_reply": "2021-04-22T07:04:05.471830Z"
    },
    "papermill": {
     "duration": 0.050808,
     "end_time": "2021-04-22T07:04:05.472006",
     "exception": false,
     "start_time": "2021-04-22T07:04:05.421198",
     "status": "completed"
    },
    "tags": []
   },
   "outputs": [
    {
     "name": "stdout",
     "output_type": "stream",
     "text": [
      "b.grad before zero_grad(): tensor([-0.0134, -0.0648,  0.0116,  0.0242,  0.0488,  0.0383, -0.0190, -0.0049,\n",
      "         0.0111, -0.0319])\n",
      "b.grad after zero_grad(): tensor([0., 0., 0., 0., 0., 0., 0., 0., 0., 0.])\n"
     ]
    }
   ],
   "source": [
    "print(\"b.grad before zero_grad(): {}\".format(b.grad))\n",
    "optimizer.zero_grad()\n",
    "print(\"b.grad after zero_grad(): {}\".format(b.grad))"
   ]
  },
  {
   "cell_type": "markdown",
   "id": "great-settlement",
   "metadata": {
    "papermill": {
     "duration": 0.040254,
     "end_time": "2021-04-22T07:04:05.552739",
     "exception": false,
     "start_time": "2021-04-22T07:04:05.512485",
     "status": "completed"
    },
    "tags": []
   },
   "source": [
    "Let's have a look on Weights for this training(1 minibatch). It looks messy! But our model will learn and we will check again at last. "
   ]
  },
  {
   "cell_type": "code",
   "execution_count": 26,
   "id": "collectible-alloy",
   "metadata": {
    "execution": {
     "iopub.execute_input": "2021-04-22T07:04:05.640105Z",
     "iopub.status.busy": "2021-04-22T07:04:05.639413Z",
     "iopub.status.idle": "2021-04-22T07:04:06.959260Z",
     "shell.execute_reply": "2021-04-22T07:04:06.959769Z"
    },
    "papermill": {
     "duration": 1.366714,
     "end_time": "2021-04-22T07:04:06.960090",
     "exception": false,
     "start_time": "2021-04-22T07:04:05.593376",
     "status": "completed"
    },
    "tags": []
   },
   "outputs": [
    {
     "data": {
      "image/png": "[encoded data removed]",
      "text/plain": [
       "<Figure size 1440x144 with 10 Axes>"
      ]
     },
     "metadata": {},
     "output_type": "display_data"
    }
   ],
   "source": [
    "fig, ax = plt.subplots(1,10, figsize =(20,2))\n",
    "\n",
    "for d in range(10):\n",
    "    ax[d].imshow(W[:, d].detach().view(28,28), cmap='gray')"
   ]
  },
  {
   "cell_type": "markdown",
   "id": "geographic-quarter",
   "metadata": {
    "papermill": {
     "duration": 0.043497,
     "end_time": "2021-04-22T07:04:07.047277",
     "exception": false,
     "start_time": "2021-04-22T07:04:07.003780",
     "status": "completed"
    },
    "tags": []
   },
   "source": [
    "## 5. Training\n",
    "\n",
    "Training on complete dataset. "
   ]
  },
  {
   "cell_type": "code",
   "execution_count": 27,
   "id": "comfortable-criticism",
   "metadata": {
    "execution": {
     "iopub.execute_input": "2021-04-22T07:04:07.136301Z",
     "iopub.status.busy": "2021-04-22T07:04:07.135620Z",
     "iopub.status.idle": "2021-04-22T07:04:07.695921Z",
     "shell.execute_reply": "2021-04-22T07:04:07.695346Z"
    },
    "papermill": {
     "duration": 0.605438,
     "end_time": "2021-04-22T07:04:07.696106",
     "exception": false,
     "start_time": "2021-04-22T07:04:07.090668",
     "status": "completed"
    },
    "tags": []
   },
   "outputs": [
    {
     "data": {
      "application/vnd.jupyter.widget-view+json": {
       "model_id": "8d827af0c6f14d6d8654ef098c1dd739",
       "version_major": 2,
       "version_minor": 0
      },
      "text/plain": [
       "  0%|          | 0/336 [00:00<?, ?it/s]"
      ]
     },
     "metadata": {},
     "output_type": "display_data"
    }
   ],
   "source": [
    "for images, labels in tqdm(train_loader):\n",
    "    optimizer.zero_grad() #Resetting the gradients to zero\n",
    "    \n",
    "    #Forward Propagation\n",
    "    x = images.view(-1, 28*28) #Flattening the images\n",
    "    y = torch.matmul(x, W) + b #Linear Transformation\n",
    "    loss = F.cross_entropy(y, labels)\n",
    "\n",
    "    #Back propagation\n",
    "    loss.backward()\n",
    "    optimizer.step()"
   ]
  },
  {
   "cell_type": "markdown",
   "id": "based-foundation",
   "metadata": {
    "papermill": {
     "duration": 0.043409,
     "end_time": "2021-04-22T07:04:07.784330",
     "exception": false,
     "start_time": "2021-04-22T07:04:07.740921",
     "status": "completed"
    },
    "tags": []
   },
   "source": [
    "## 6. Validation \n",
    "\n",
    "Validating our model,"
   ]
  },
  {
   "cell_type": "code",
   "execution_count": 28,
   "id": "false-potential",
   "metadata": {
    "execution": {
     "iopub.execute_input": "2021-04-22T07:04:07.901440Z",
     "iopub.status.busy": "2021-04-22T07:04:07.900785Z",
     "iopub.status.idle": "2021-04-22T07:04:08.021444Z",
     "shell.execute_reply": "2021-04-22T07:04:08.022083Z"
    },
    "papermill": {
     "duration": 0.195063,
     "end_time": "2021-04-22T07:04:08.022280",
     "exception": false,
     "start_time": "2021-04-22T07:04:07.827217",
     "status": "completed"
    },
    "tags": []
   },
   "outputs": [
    {
     "data": {
      "application/vnd.jupyter.widget-view+json": {
       "model_id": "84e71ebc730e4c4d85ceae5fefc04206",
       "version_major": 2,
       "version_minor": 0
      },
      "text/plain": [
       "  0%|          | 0/84 [00:00<?, ?it/s]"
      ]
     },
     "metadata": {},
     "output_type": "display_data"
    }
   ],
   "source": [
    "correct = 0\n",
    "with torch.no_grad():\n",
    "    for images, labels in tqdm(val_loader):\n",
    "        x = images.view(-1, 28*28)\n",
    "        y = torch.matmul(x, W)+b\n",
    "\n",
    "        prediction = torch.argmax(y, dim=1)\n",
    "        correct += torch.sum(prediction==labels).float()"
   ]
  },
  {
   "cell_type": "code",
   "execution_count": 29,
   "id": "asian-canon",
   "metadata": {
    "execution": {
     "iopub.execute_input": "2021-04-22T07:04:08.114595Z",
     "iopub.status.busy": "2021-04-22T07:04:08.113980Z",
     "iopub.status.idle": "2021-04-22T07:04:08.120385Z",
     "shell.execute_reply": "2021-04-22T07:04:08.119842Z"
    },
    "papermill": {
     "duration": 0.052765,
     "end_time": "2021-04-22T07:04:08.120519",
     "exception": false,
     "start_time": "2021-04-22T07:04:08.067754",
     "status": "completed"
    },
    "tags": []
   },
   "outputs": [
    {
     "name": "stdout",
     "output_type": "stream",
     "text": [
      "Validation Accuracy : 88.11904907226562\n"
     ]
    }
   ],
   "source": [
    "print('Validation Accuracy : {}'.format(100*(correct/len(val_images_tensor))) )"
   ]
  },
  {
   "cell_type": "markdown",
   "id": "compressed-absolute",
   "metadata": {
    "papermill": {
     "duration": 0.043833,
     "end_time": "2021-04-22T07:04:08.208446",
     "exception": false,
     "start_time": "2021-04-22T07:04:08.164613",
     "status": "completed"
    },
    "tags": []
   },
   "source": [
    "## 7. Plotting the learned weights\n",
    "\n",
    "The following plots are what our logistic regression model has learned. These parameters are what our model 'sees' and classifies them into the classes of digits."
   ]
  },
  {
   "cell_type": "code",
   "execution_count": 30,
   "id": "elegant-version",
   "metadata": {
    "execution": {
     "iopub.execute_input": "2021-04-22T07:04:08.299801Z",
     "iopub.status.busy": "2021-04-22T07:04:08.299144Z",
     "iopub.status.idle": "2021-04-22T07:04:09.465604Z",
     "shell.execute_reply": "2021-04-22T07:04:09.466136Z"
    },
    "papermill": {
     "duration": 1.213621,
     "end_time": "2021-04-22T07:04:09.466361",
     "exception": false,
     "start_time": "2021-04-22T07:04:08.252740",
     "status": "completed"
    },
    "tags": []
   },
   "outputs": [
    {
     "data": {
      "image/png": "[encoded data removed]",
      "text/plain": [
       "<Figure size 1440x144 with 10 Axes>"
      ]
     },
     "metadata": {},
     "output_type": "display_data"
    }
   ],
   "source": [
    "fig, ax = plt.subplots(1,10, figsize =(20,2))\n",
    "\n",
    "for d in range(10):\n",
    "    ax[d].imshow(W[:, d].detach().view(28,28), cmap='gray')"
   ]
  },
  {
   "cell_type": "markdown",
   "id": "compliant-theater",
   "metadata": {
    "papermill": {
     "duration": 0.045611,
     "end_time": "2021-04-22T07:04:09.557685",
     "exception": false,
     "start_time": "2021-04-22T07:04:09.512074",
     "status": "completed"
    },
    "tags": []
   },
   "source": [
    "## Predictions\n",
    "\n",
    "Finally predicting and submitting the results."
   ]
  },
  {
   "cell_type": "code",
   "execution_count": 31,
   "id": "classified-mapping",
   "metadata": {
    "execution": {
     "iopub.execute_input": "2021-04-22T07:04:09.651968Z",
     "iopub.status.busy": "2021-04-22T07:04:09.651368Z",
     "iopub.status.idle": "2021-04-22T07:04:09.919862Z",
     "shell.execute_reply": "2021-04-22T07:04:09.920379Z"
    },
    "papermill": {
     "duration": 0.317247,
     "end_time": "2021-04-22T07:04:09.920577",
     "exception": false,
     "start_time": "2021-04-22T07:04:09.603330",
     "status": "completed"
    },
    "tags": []
   },
   "outputs": [
    {
     "data": {
      "application/vnd.jupyter.widget-view+json": {
       "model_id": "94dda89d627d41ecb923e4bda386f186",
       "version_major": 2,
       "version_minor": 0
      },
      "text/plain": [
       "  0%|          | 0/280 [00:00<?, ?it/s]"
      ]
     },
     "metadata": {},
     "output_type": "display_data"
    }
   ],
   "source": [
    "test_preds = torch.LongTensor()\n",
    "for images in tqdm(test_loader):\n",
    "    x = images.view(-1, 28*28)\n",
    "    y = torch.matmul(x, W)+b\n",
    "\n",
    "    prediction = torch.argmax(y, dim=1)\n",
    "    test_preds = torch.cat((test_preds, prediction), dim=0)"
   ]
  },
  {
   "cell_type": "code",
   "execution_count": 32,
   "id": "occupational-browser",
   "metadata": {
    "execution": {
     "iopub.execute_input": "2021-04-22T07:04:10.023667Z",
     "iopub.status.busy": "2021-04-22T07:04:10.022981Z",
     "iopub.status.idle": "2021-04-22T07:04:10.112766Z",
     "shell.execute_reply": "2021-04-22T07:04:10.112133Z"
    },
    "papermill": {
     "duration": 0.142177,
     "end_time": "2021-04-22T07:04:10.112905",
     "exception": false,
     "start_time": "2021-04-22T07:04:09.970728",
     "status": "completed"
    },
    "tags": []
   },
   "outputs": [
    {
     "data": {
      "text/html": [
       "<div>\n",
       "<style scoped>\n",
       "    .dataframe tbody tr th:only-of-type {\n",
       "        vertical-align: middle;\n",
       "    }\n",
       "\n",
       "    .dataframe tbody tr th {\n",
       "        vertical-align: top;\n",
       "    }\n",
       "\n",
       "    .dataframe thead th {\n",
       "        text-align: right;\n",
       "    }\n",
       "</style>\n",
       "<table border=\"1\" class=\"dataframe\">\n",
       "  <thead>\n",
       "    <tr style=\"text-align: right;\">\n",
       "      <th></th>\n",
       "      <th>ImageId</th>\n",
       "      <th>Label</th>\n",
       "    </tr>\n",
       "  </thead>\n",
       "  <tbody>\n",
       "    <tr>\n",
       "      <th>0</th>\n",
       "      <td>1</td>\n",
       "      <td>2</td>\n",
       "    </tr>\n",
       "    <tr>\n",
       "      <th>1</th>\n",
       "      <td>2</td>\n",
       "      <td>0</td>\n",
       "    </tr>\n",
       "    <tr>\n",
       "      <th>2</th>\n",
       "      <td>3</td>\n",
       "      <td>9</td>\n",
       "    </tr>\n",
       "    <tr>\n",
       "      <th>3</th>\n",
       "      <td>4</td>\n",
       "      <td>7</td>\n",
       "    </tr>\n",
       "    <tr>\n",
       "      <th>4</th>\n",
       "      <td>5</td>\n",
       "      <td>3</td>\n",
       "    </tr>\n",
       "  </tbody>\n",
       "</table>\n",
       "</div>"
      ],
      "text/plain": [
       "   ImageId  Label\n",
       "0        1      2\n",
       "1        2      0\n",
       "2        3      9\n",
       "3        4      7\n",
       "4        5      3"
      ]
     },
     "execution_count": 32,
     "metadata": {},
     "output_type": "execute_result"
    }
   ],
   "source": [
    "sub = pd.read_csv(\"../input/digit-recognizer/sample_submission.csv\")\n",
    "sub['Label'] = test_preds.numpy().squeeze()\n",
    "sub.to_csv(\"results.csv\", index=False)\n",
    "sub.head()"
   ]
  },
  {
   "cell_type": "markdown",
   "id": "sealed-saturday",
   "metadata": {
    "papermill": {
     "duration": 0.047483,
     "end_time": "2021-04-22T07:04:10.207866",
     "exception": false,
     "start_time": "2021-04-22T07:04:10.160383",
     "status": "completed"
    },
    "tags": []
   },
   "source": [
    "# Thank you!\n",
    "\n",
    "Author: [Pratik Kumar](https://pr2tik1.github.io)<br>\n",
    "References: [fastai](https://www.fast.ai), [Coursera](https://coursera.org/share/ea5cc945df9fab563eb9bc9de3089eb9)"
   ]
  }
 ],
 "metadata": {
  "kernelspec": {
   "display_name": "Python 3",
   "language": "python",
   "name": "python3"
  },
  "language_info": {
   "codemirror_mode": {
    "name": "ipython",
    "version": 3
   },
   "file_extension": ".py",
   "mimetype": "text/x-python",
   "name": "python",
   "nbconvert_exporter": "python",
   "pygments_lexer": "ipython3",
   "version": "3.7.9"
  },
  "papermill": {
   "default_parameters": {},
   "duration": 24.546298,
   "end_time": "2021-04-22T07:04:11.066643",
   "environment_variables": {},
   "exception": null,
   "input_path": "__notebook__.ipynb",
   "output_path": "__notebook__.ipynb",
   "parameters": {},
   "start_time": "2021-04-22T07:03:46.520345",
   "version": "2.3.2"
  },
  "widgets": {
   "application/vnd.jupyter.widget-state+json": {
    "state": {
     "0c8fad05c2f84bacbc5208615bb3c930": {
      "model_module": "@jupyter-widgets/base",
      "model_module_version": "1.2.0",
      "model_name": "LayoutModel",
      "state": {
       "_model_module": "@jupyter-widgets/base",
       "_model_module_version": "1.2.0",
       "_model_name": "LayoutModel",
       "_view_count": null,
       "_view_module": "@jupyter-widgets/base",
       "_view_module_version": "1.2.0",
       "_view_name": "LayoutView",
       "align_content": null,
       "align_items": null,
       "align_self": null,
       "border": null,
       "bottom": null,
       "display": null,
       "flex": null,
       "flex_flow": null,
       "grid_area": null,
       "grid_auto_columns": null,
       "grid_auto_flow": null,
       "grid_auto_rows": null,
       "grid_column": null,
       "grid_gap": null,
       "grid_row": null,
       "grid_template_areas": null,
       "grid_template_columns": null,
       "grid_template_rows": null,
       "height": null,
       "justify_content": null,
       "justify_items": null,
       "left": null,
       "margin": null,
       "max_height": null,
       "max_width": null,
       "min_height": null,
       "min_width": null,
       "object_fit": null,
       "object_position": null,
       "order": null,
       "overflow": null,
       "overflow_x": null,
       "overflow_y": null,
       "padding": null,
       "right": null,
       "top": null,
       "visibility": null,
       "width": null
      }
     },
     "11315674288540e3bc8aed46fbc89d12": {
      "model_module": "@jupyter-widgets/controls",
      "model_module_version": "1.5.0",
      "model_name": "HTMLModel",
      "state": {
       "_dom_classes": [],
       "_model_module": "@jupyter-widgets/controls",
       "_model_module_version": "1.5.0",
       "_model_name": "HTMLModel",
       "_view_count": null,
       "_view_module": "@jupyter-widgets/controls",
       "_view_module_version": "1.5.0",
       "_view_name": "HTMLView",
       "description": "",
       "description_tooltip": null,
       "layout": "IPY_MODEL_70742293433c430bb439de4fd80ad1cf",
       "placeholder": "​",
       "style": "IPY_MODEL_8a28508dabb945aca46eb2afa7bcfa59",
       "value": "100%"
      }
     },
     "1becf367a4494a3fb4270b952bd19c48": {
      "model_module": "@jupyter-widgets/base",
      "model_module_version": "1.2.0",
      "model_name": "LayoutModel",
      "state": {
       "_model_module": "@jupyter-widgets/base",
       "_model_module_version": "1.2.0",
       "_model_name": "LayoutModel",
       "_view_count": null,
       "_view_module": "@jupyter-widgets/base",
       "_view_module_version": "1.2.0",
       "_view_name": "LayoutView",
       "align_content": null,
       "align_items": null,
       "align_self": null,
       "border": null,
       "bottom": null,
       "display": null,
       "flex": null,
       "flex_flow": null,
       "grid_area": null,
       "grid_auto_columns": null,
       "grid_auto_flow": null,
       "grid_auto_rows": null,
       "grid_column": null,
       "grid_gap": null,
       "grid_row": null,
       "grid_template_areas": null,
       "grid_template_columns": null,
       "grid_template_rows": null,
       "height": null,
       "justify_content": null,
       "justify_items": null,
       "left": null,
       "margin": null,
       "max_height": null,
       "max_width": null,
       "min_height": null,
       "min_width": null,
       "object_fit": null,
       "object_position": null,
       "order": null,
       "overflow": null,
       "overflow_x": null,
       "overflow_y": null,
       "padding": null,
       "right": null,
       "top": null,
       "visibility": null,
       "width": null
      }
     },
     "212f88de209f4b0eb7cce6a1389669f2": {
      "model_module": "@jupyter-widgets/controls",
      "model_module_version": "1.5.0",
      "model_name": "HTMLModel",
      "state": {
       "_dom_classes": [],
       "_model_module": "@jupyter-widgets/controls",
       "_model_module_version": "1.5.0",
       "_model_name": "HTMLModel",
       "_view_count": null,
       "_view_module": "@jupyter-widgets/controls",
       "_view_module_version": "1.5.0",
       "_view_name": "HTMLView",
       "description": "",
       "description_tooltip": null,
       "layout": "IPY_MODEL_0c8fad05c2f84bacbc5208615bb3c930",
       "placeholder": "​",
       "style": "IPY_MODEL_9058e9f2df6b4f0681cf4d3cd1887d21",
       "value": " 280/280 [00:00&lt;00:00, 1076.20it/s]"
      }
     },
     "2c11e9f909534ce19ec101045d9d1dbe": {
      "model_module": "@jupyter-widgets/base",
      "model_module_version": "1.2.0",
      "model_name": "LayoutModel",
      "state": {
       "_model_module": "@jupyter-widgets/base",
       "_model_module_version": "1.2.0",
       "_model_name": "LayoutModel",
       "_view_count": null,
       "_view_module": "@jupyter-widgets/base",
       "_view_module_version": "1.2.0",
       "_view_name": "LayoutView",
       "align_content": null,
       "align_items": null,
       "align_self": null,
       "border": null,
       "bottom": null,
       "display": null,
       "flex": null,
       "flex_flow": null,
       "grid_area": null,
       "grid_auto_columns": null,
       "grid_auto_flow": null,
       "grid_auto_rows": null,
       "grid_column": null,
       "grid_gap": null,
       "grid_row": null,
       "grid_template_areas": null,
       "grid_template_columns": null,
       "grid_template_rows": null,
       "height": null,
       "justify_content": null,
       "justify_items": null,
       "left": null,
       "margin": null,
       "max_height": null,
       "max_width": null,
       "min_height": null,
       "min_width": null,
       "object_fit": null,
       "object_position": null,
       "order": null,
       "overflow": null,
       "overflow_x": null,
       "overflow_y": null,
       "padding": null,
       "right": null,
       "top": null,
       "visibility": null,
       "width": null
      }
     },
     "4769680d64dd48f88a0577cf1af5b445": {
      "model_module": "@jupyter-widgets/controls",
      "model_module_version": "1.5.0",
      "model_name": "HTMLModel",
      "state": {
       "_dom_classes": [],
       "_model_module": "@jupyter-widgets/controls",
       "_model_module_version": "1.5.0",
       "_model_name": "HTMLModel",
       "_view_count": null,
       "_view_module": "@jupyter-widgets/controls",
       "_view_module_version": "1.5.0",
       "_view_name": "HTMLView",
       "description": "",
       "description_tooltip": null,
       "layout": "IPY_MODEL_6383348540894c0e92f71a4015bfd674",
       "placeholder": "​",
       "style": "IPY_MODEL_e79bf2fbff584664a29befa6ee627da4",
       "value": "100%"
      }
     },
     "5e3172017b944f388ec6d1d64a4018cf": {
      "model_module": "@jupyter-widgets/controls",
      "model_module_version": "1.5.0",
      "model_name": "DescriptionStyleModel",
      "state": {
       "_model_module": "@jupyter-widgets/controls",
       "_model_module_version": "1.5.0",
       "_model_name": "DescriptionStyleModel",
       "_view_count": null,
       "_view_module": "@jupyter-widgets/base",
       "_view_module_version": "1.2.0",
       "_view_name": "StyleView",
       "description_width": ""
      }
     },
     "5fce17a800ea4714aa51aca08b28ce19": {
      "model_module": "@jupyter-widgets/controls",
      "model_module_version": "1.5.0",
      "model_name": "DescriptionStyleModel",
      "state": {
       "_model_module": "@jupyter-widgets/controls",
       "_model_module_version": "1.5.0",
       "_model_name": "DescriptionStyleModel",
       "_view_count": null,
       "_view_module": "@jupyter-widgets/base",
       "_view_module_version": "1.2.0",
       "_view_name": "StyleView",
       "description_width": ""
      }
     },
     "6383348540894c0e92f71a4015bfd674": {
      "model_module": "@jupyter-widgets/base",
      "model_module_version": "1.2.0",
      "model_name": "LayoutModel",
      "state": {
       "_model_module": "@jupyter-widgets/base",
       "_model_module_version": "1.2.0",
       "_model_name": "LayoutModel",
       "_view_count": null,
       "_view_module": "@jupyter-widgets/base",
       "_view_module_version": "1.2.0",
       "_view_name": "LayoutView",
       "align_content": null,
       "align_items": null,
       "align_self": null,
       "border": null,
       "bottom": null,
       "display": null,
       "flex": null,
       "flex_flow": null,
       "grid_area": null,
       "grid_auto_columns": null,
       "grid_auto_flow": null,
       "grid_auto_rows": null,
       "grid_column": null,
       "grid_gap": null,
       "grid_row": null,
       "grid_template_areas": null,
       "grid_template_columns": null,
       "grid_template_rows": null,
       "height": null,
       "justify_content": null,
       "justify_items": null,
       "left": null,
       "margin": null,
       "max_height": null,
       "max_width": null,
       "min_height": null,
       "min_width": null,
       "object_fit": null,
       "object_position": null,
       "order": null,
       "overflow": null,
       "overflow_x": null,
       "overflow_y": null,
       "padding": null,
       "right": null,
       "top": null,
       "visibility": null,
       "width": null
      }
     },
     "6ae966091f8340999ccddf4893fe339d": {
      "model_module": "@jupyter-widgets/controls",
      "model_module_version": "1.5.0",
      "model_name": "DescriptionStyleModel",
      "state": {
       "_model_module": "@jupyter-widgets/controls",
       "_model_module_version": "1.5.0",
       "_model_name": "DescriptionStyleModel",
       "_view_count": null,
       "_view_module": "@jupyter-widgets/base",
       "_view_module_version": "1.2.0",
       "_view_name": "StyleView",
       "description_width": ""
      }
     },
     "70742293433c430bb439de4fd80ad1cf": {
      "model_module": "@jupyter-widgets/base",
      "model_module_version": "1.2.0",
      "model_name": "LayoutModel",
      "state": {
       "_model_module": "@jupyter-widgets/base",
       "_model_module_version": "1.2.0",
       "_model_name": "LayoutModel",
       "_view_count": null,
       "_view_module": "@jupyter-widgets/base",
       "_view_module_version": "1.2.0",
       "_view_name": "LayoutView",
       "align_content": null,
       "align_items": null,
       "align_self": null,
       "border": null,
       "bottom": null,
       "display": null,
       "flex": null,
       "flex_flow": null,
       "grid_area": null,
       "grid_auto_columns": null,
       "grid_auto_flow": null,
       "grid_auto_rows": null,
       "grid_column": null,
       "grid_gap": null,
       "grid_row": null,
       "grid_template_areas": null,
       "grid_template_columns": null,
       "grid_template_rows": null,
       "height": null,
       "justify_content": null,
       "justify_items": null,
       "left": null,
       "margin": null,
       "max_height": null,
       "max_width": null,
       "min_height": null,
       "min_width": null,
       "object_fit": null,
       "object_position": null,
       "order": null,
       "overflow": null,
       "overflow_x": null,
       "overflow_y": null,
       "padding": null,
       "right": null,
       "top": null,
       "visibility": null,
       "width": null
      }
     },
     "739124c2004e4a048fe5a3fd17b0c00c": {
      "model_module": "@jupyter-widgets/base",
      "model_module_version": "1.2.0",
      "model_name": "LayoutModel",
      "state": {
       "_model_module": "@jupyter-widgets/base",
       "_model_module_version": "1.2.0",
       "_model_name": "LayoutModel",
       "_view_count": null,
       "_view_module": "@jupyter-widgets/base",
       "_view_module_version": "1.2.0",
       "_view_name": "LayoutView",
       "align_content": null,
       "align_items": null,
       "align_self": null,
       "border": null,
       "bottom": null,
       "display": null,
       "flex": null,
       "flex_flow": null,
       "grid_area": null,
       "grid_auto_columns": null,
       "grid_auto_flow": null,
       "grid_auto_rows": null,
       "grid_column": null,
       "grid_gap": null,
       "grid_row": null,
       "grid_template_areas": null,
       "grid_template_columns": null,
       "grid_template_rows": null,
       "height": null,
       "justify_content": null,
       "justify_items": null,
       "left": null,
       "margin": null,
       "max_height": null,
       "max_width": null,
       "min_height": null,
       "min_width": null,
       "object_fit": null,
       "object_position": null,
       "order": null,
       "overflow": null,
       "overflow_x": null,
       "overflow_y": null,
       "padding": null,
       "right": null,
       "top": null,
       "visibility": null,
       "width": null
      }
     },
     "810c1baeaa7e4c0e99a591b5dc1500dc": {
      "model_module": "@jupyter-widgets/base",
      "model_module_version": "1.2.0",
      "model_name": "LayoutModel",
      "state": {
       "_model_module": "@jupyter-widgets/base",
       "_model_module_version": "1.2.0",
       "_model_name": "LayoutModel",
       "_view_count": null,
       "_view_module": "@jupyter-widgets/base",
       "_view_module_version": "1.2.0",
       "_view_name": "LayoutView",
       "align_content": null,
       "align_items": null,
       "align_self": null,
       "border": null,
       "bottom": null,
       "display": null,
       "flex": null,
       "flex_flow": null,
       "grid_area": null,
       "grid_auto_columns": null,
       "grid_auto_flow": null,
       "grid_auto_rows": null,
       "grid_column": null,
       "grid_gap": null,
       "grid_row": null,
       "grid_template_areas": null,
       "grid_template_columns": null,
       "grid_template_rows": null,
       "height": null,
       "justify_content": null,
       "justify_items": null,
       "left": null,
       "margin": null,
       "max_height": null,
       "max_width": null,
       "min_height": null,
       "min_width": null,
       "object_fit": null,
       "object_position": null,
       "order": null,
       "overflow": null,
       "overflow_x": null,
       "overflow_y": null,
       "padding": null,
       "right": null,
       "top": null,
       "visibility": null,
       "width": null
      }
     },
     "81a4ea80d15e4a2aa00bfc30a76da35f": {
      "model_module": "@jupyter-widgets/base",
      "model_module_version": "1.2.0",
      "model_name": "LayoutModel",
      "state": {
       "_model_module": "@jupyter-widgets/base",
       "_model_module_version": "1.2.0",
       "_model_name": "LayoutModel",
       "_view_count": null,
       "_view_module": "@jupyter-widgets/base",
       "_view_module_version": "1.2.0",
       "_view_name": "LayoutView",
       "align_content": null,
       "align_items": null,
       "align_self": null,
       "border": null,
       "bottom": null,
       "display": null,
       "flex": null,
       "flex_flow": null,
       "grid_area": null,
       "grid_auto_columns": null,
       "grid_auto_flow": null,
       "grid_auto_rows": null,
       "grid_column": null,
       "grid_gap": null,
       "grid_row": null,
       "grid_template_areas": null,
       "grid_template_columns": null,
       "grid_template_rows": null,
       "height": null,
       "justify_content": null,
       "justify_items": null,
       "left": null,
       "margin": null,
       "max_height": null,
       "max_width": null,
       "min_height": null,
       "min_width": null,
       "object_fit": null,
       "object_position": null,
       "order": null,
       "overflow": null,
       "overflow_x": null,
       "overflow_y": null,
       "padding": null,
       "right": null,
       "top": null,
       "visibility": null,
       "width": null
      }
     },
     "84e71ebc730e4c4d85ceae5fefc04206": {
      "model_module": "@jupyter-widgets/controls",
      "model_module_version": "1.5.0",
      "model_name": "HBoxModel",
      "state": {
       "_dom_classes": [],
       "_model_module": "@jupyter-widgets/controls",
       "_model_module_version": "1.5.0",
       "_model_name": "HBoxModel",
       "_view_count": null,
       "_view_module": "@jupyter-widgets/controls",
       "_view_module_version": "1.5.0",
       "_view_name": "HBoxView",
       "box_style": "",
       "children": [
        "IPY_MODEL_4769680d64dd48f88a0577cf1af5b445",
        "IPY_MODEL_b4a99684274d4396bfe9471387a339cc",
        "IPY_MODEL_be0c0c7aeea34f8c8f5c296e52a69eeb"
       ],
       "layout": "IPY_MODEL_2c11e9f909534ce19ec101045d9d1dbe"
      }
     },
     "8a28508dabb945aca46eb2afa7bcfa59": {
      "model_module": "@jupyter-widgets/controls",
      "model_module_version": "1.5.0",
      "model_name": "DescriptionStyleModel",
      "state": {
       "_model_module": "@jupyter-widgets/controls",
       "_model_module_version": "1.5.0",
       "_model_name": "DescriptionStyleModel",
       "_view_count": null,
       "_view_module": "@jupyter-widgets/base",
       "_view_module_version": "1.2.0",
       "_view_name": "StyleView",
       "description_width": ""
      }
     },
     "8d827af0c6f14d6d8654ef098c1dd739": {
      "model_module": "@jupyter-widgets/controls",
      "model_module_version": "1.5.0",
      "model_name": "HBoxModel",
      "state": {
       "_dom_classes": [],
       "_model_module": "@jupyter-widgets/controls",
       "_model_module_version": "1.5.0",
       "_model_name": "HBoxModel",
       "_view_count": null,
       "_view_module": "@jupyter-widgets/controls",
       "_view_module_version": "1.5.0",
       "_view_name": "HBoxView",
       "box_style": "",
       "children": [
        "IPY_MODEL_11315674288540e3bc8aed46fbc89d12",
        "IPY_MODEL_976ec3b4b128427f867edb61637f04c3",
        "IPY_MODEL_f8822259ac384a3e87d9dae9a0fa0ffd"
       ],
       "layout": "IPY_MODEL_739124c2004e4a048fe5a3fd17b0c00c"
      }
     },
     "8f21456a145242ae9c847058499506e5": {
      "model_module": "@jupyter-widgets/base",
      "model_module_version": "1.2.0",
      "model_name": "LayoutModel",
      "state": {
       "_model_module": "@jupyter-widgets/base",
       "_model_module_version": "1.2.0",
       "_model_name": "LayoutModel",
       "_view_count": null,
       "_view_module": "@jupyter-widgets/base",
       "_view_module_version": "1.2.0",
       "_view_name": "LayoutView",
       "align_content": null,
       "align_items": null,
       "align_self": null,
       "border": null,
       "bottom": null,
       "display": null,
       "flex": null,
       "flex_flow": null,
       "grid_area": null,
       "grid_auto_columns": null,
       "grid_auto_flow": null,
       "grid_auto_rows": null,
       "grid_column": null,
       "grid_gap": null,
       "grid_row": null,
       "grid_template_areas": null,
       "grid_template_columns": null,
       "grid_template_rows": null,
       "height": null,
       "justify_content": null,
       "justify_items": null,
       "left": null,
       "margin": null,
       "max_height": null,
       "max_width": null,
       "min_height": null,
       "min_width": null,
       "object_fit": null,
       "object_position": null,
       "order": null,
       "overflow": null,
       "overflow_x": null,
       "overflow_y": null,
       "padding": null,
       "right": null,
       "top": null,
       "visibility": null,
       "width": null
      }
     },
     "9058e9f2df6b4f0681cf4d3cd1887d21": {
      "model_module": "@jupyter-widgets/controls",
      "model_module_version": "1.5.0",
      "model_name": "DescriptionStyleModel",
      "state": {
       "_model_module": "@jupyter-widgets/controls",
       "_model_module_version": "1.5.0",
       "_model_name": "DescriptionStyleModel",
       "_view_count": null,
       "_view_module": "@jupyter-widgets/base",
       "_view_module_version": "1.2.0",
       "_view_name": "StyleView",
       "description_width": ""
      }
     },
     "94dda89d627d41ecb923e4bda386f186": {
      "model_module": "@jupyter-widgets/controls",
      "model_module_version": "1.5.0",
      "model_name": "HBoxModel",
      "state": {
       "_dom_classes": [],
       "_model_module": "@jupyter-widgets/controls",
       "_model_module_version": "1.5.0",
       "_model_name": "HBoxModel",
       "_view_count": null,
       "_view_module": "@jupyter-widgets/controls",
       "_view_module_version": "1.5.0",
       "_view_name": "HBoxView",
       "box_style": "",
       "children": [
        "IPY_MODEL_fd71ef42804e47fab974c039c9e25a48",
        "IPY_MODEL_e8ba07c224b541a3a1bb2f533695d48b",
        "IPY_MODEL_212f88de209f4b0eb7cce6a1389669f2"
       ],
       "layout": "IPY_MODEL_81a4ea80d15e4a2aa00bfc30a76da35f"
      }
     },
     "976ec3b4b128427f867edb61637f04c3": {
      "model_module": "@jupyter-widgets/controls",
      "model_module_version": "1.5.0",
      "model_name": "FloatProgressModel",
      "state": {
       "_dom_classes": [],
       "_model_module": "@jupyter-widgets/controls",
       "_model_module_version": "1.5.0",
       "_model_name": "FloatProgressModel",
       "_view_count": null,
       "_view_module": "@jupyter-widgets/controls",
       "_view_module_version": "1.5.0",
       "_view_name": "ProgressView",
       "bar_style": "success",
       "description": "",
       "description_tooltip": null,
       "layout": "IPY_MODEL_8f21456a145242ae9c847058499506e5",
       "max": 336.0,
       "min": 0.0,
       "orientation": "horizontal",
       "style": "IPY_MODEL_e3b3319ab0294afc964c06d79673d4b3",
       "value": 336.0
      }
     },
     "b4a99684274d4396bfe9471387a339cc": {
      "model_module": "@jupyter-widgets/controls",
      "model_module_version": "1.5.0",
      "model_name": "FloatProgressModel",
      "state": {
       "_dom_classes": [],
       "_model_module": "@jupyter-widgets/controls",
       "_model_module_version": "1.5.0",
       "_model_name": "FloatProgressModel",
       "_view_count": null,
       "_view_module": "@jupyter-widgets/controls",
       "_view_module_version": "1.5.0",
       "_view_name": "ProgressView",
       "bar_style": "success",
       "description": "",
       "description_tooltip": null,
       "layout": "IPY_MODEL_b68a931892eb4c6ba9273f71f9ed581f",
       "max": 84.0,
       "min": 0.0,
       "orientation": "horizontal",
       "style": "IPY_MODEL_f9d45d2b9e7241398196e8a5f68c9d16",
       "value": 84.0
      }
     },
     "b68a931892eb4c6ba9273f71f9ed581f": {
      "model_module": "@jupyter-widgets/base",
      "model_module_version": "1.2.0",
      "model_name": "LayoutModel",
      "state": {
       "_model_module": "@jupyter-widgets/base",
       "_model_module_version": "1.2.0",
       "_model_name": "LayoutModel",
       "_view_count": null,
       "_view_module": "@jupyter-widgets/base",
       "_view_module_version": "1.2.0",
       "_view_name": "LayoutView",
       "align_content": null,
       "align_items": null,
       "align_self": null,
       "border": null,
       "bottom": null,
       "display": null,
       "flex": null,
       "flex_flow": null,
       "grid_area": null,
       "grid_auto_columns": null,
       "grid_auto_flow": null,
       "grid_auto_rows": null,
       "grid_column": null,
       "grid_gap": null,
       "grid_row": null,
       "grid_template_areas": null,
       "grid_template_columns": null,
       "grid_template_rows": null,
       "height": null,
       "justify_content": null,
       "justify_items": null,
       "left": null,
       "margin": null,
       "max_height": null,
       "max_width": null,
       "min_height": null,
       "min_width": null,
       "object_fit": null,
       "object_position": null,
       "order": null,
       "overflow": null,
       "overflow_x": null,
       "overflow_y": null,
       "padding": null,
       "right": null,
       "top": null,
       "visibility": null,
       "width": null
      }
     },
     "be0c0c7aeea34f8c8f5c296e52a69eeb": {
      "model_module": "@jupyter-widgets/controls",
      "model_module_version": "1.5.0",
      "model_name": "HTMLModel",
      "state": {
       "_dom_classes": [],
       "_model_module": "@jupyter-widgets/controls",
       "_model_module_version": "1.5.0",
       "_model_name": "HTMLModel",
       "_view_count": null,
       "_view_module": "@jupyter-widgets/controls",
       "_view_module_version": "1.5.0",
       "_view_name": "HTMLView",
       "description": "",
       "description_tooltip": null,
       "layout": "IPY_MODEL_d1ae516d90a54930b973ded4e8456ec9",
       "placeholder": "​",
       "style": "IPY_MODEL_6ae966091f8340999ccddf4893fe339d",
       "value": " 84/84 [00:00&lt;00:00, 529.76it/s]"
      }
     },
     "d1ae516d90a54930b973ded4e8456ec9": {
      "model_module": "@jupyter-widgets/base",
      "model_module_version": "1.2.0",
      "model_name": "LayoutModel",
      "state": {
       "_model_module": "@jupyter-widgets/base",
       "_model_module_version": "1.2.0",
       "_model_name": "LayoutModel",
       "_view_count": null,
       "_view_module": "@jupyter-widgets/base",
       "_view_module_version": "1.2.0",
       "_view_name": "LayoutView",
       "align_content": null,
       "align_items": null,
       "align_self": null,
       "border": null,
       "bottom": null,
       "display": null,
       "flex": null,
       "flex_flow": null,
       "grid_area": null,
       "grid_auto_columns": null,
       "grid_auto_flow": null,
       "grid_auto_rows": null,
       "grid_column": null,
       "grid_gap": null,
       "grid_row": null,
       "grid_template_areas": null,
       "grid_template_columns": null,
       "grid_template_rows": null,
       "height": null,
       "justify_content": null,
       "justify_items": null,
       "left": null,
       "margin": null,
       "max_height": null,
       "max_width": null,
       "min_height": null,
       "min_width": null,
       "object_fit": null,
       "object_position": null,
       "order": null,
       "overflow": null,
       "overflow_x": null,
       "overflow_y": null,
       "padding": null,
       "right": null,
       "top": null,
       "visibility": null,
       "width": null
      }
     },
     "d2e87e316781459689793c3026957792": {
      "model_module": "@jupyter-widgets/base",
      "model_module_version": "1.2.0",
      "model_name": "LayoutModel",
      "state": {
       "_model_module": "@jupyter-widgets/base",
       "_model_module_version": "1.2.0",
       "_model_name": "LayoutModel",
       "_view_count": null,
       "_view_module": "@jupyter-widgets/base",
       "_view_module_version": "1.2.0",
       "_view_name": "LayoutView",
       "align_content": null,
       "align_items": null,
       "align_self": null,
       "border": null,
       "bottom": null,
       "display": null,
       "flex": null,
       "flex_flow": null,
       "grid_area": null,
       "grid_auto_columns": null,
       "grid_auto_flow": null,
       "grid_auto_rows": null,
       "grid_column": null,
       "grid_gap": null,
       "grid_row": null,
       "grid_template_areas": null,
       "grid_template_columns": null,
       "grid_template_rows": null,
       "height": null,
       "justify_content": null,
       "justify_items": null,
       "left": null,
       "margin": null,
       "max_height": null,
       "max_width": null,
       "min_height": null,
       "min_width": null,
       "object_fit": null,
       "object_position": null,
       "order": null,
       "overflow": null,
       "overflow_x": null,
       "overflow_y": null,
       "padding": null,
       "right": null,
       "top": null,
       "visibility": null,
       "width": null
      }
     },
     "d62f902810994f03bbc811eafb377f61": {
      "model_module": "@jupyter-widgets/controls",
      "model_module_version": "1.5.0",
      "model_name": "ProgressStyleModel",
      "state": {
       "_model_module": "@jupyter-widgets/controls",
       "_model_module_version": "1.5.0",
       "_model_name": "ProgressStyleModel",
       "_view_count": null,
       "_view_module": "@jupyter-widgets/base",
       "_view_module_version": "1.2.0",
       "_view_name": "StyleView",
       "bar_color": null,
       "description_width": ""
      }
     },
     "e3b3319ab0294afc964c06d79673d4b3": {
      "model_module": "@jupyter-widgets/controls",
      "model_module_version": "1.5.0",
      "model_name": "ProgressStyleModel",
      "state": {
       "_model_module": "@jupyter-widgets/controls",
       "_model_module_version": "1.5.0",
       "_model_name": "ProgressStyleModel",
       "_view_count": null,
       "_view_module": "@jupyter-widgets/base",
       "_view_module_version": "1.2.0",
       "_view_name": "StyleView",
       "bar_color": null,
       "description_width": ""
      }
     },
     "e79bf2fbff584664a29befa6ee627da4": {
      "model_module": "@jupyter-widgets/controls",
      "model_module_version": "1.5.0",
      "model_name": "DescriptionStyleModel",
      "state": {
       "_model_module": "@jupyter-widgets/controls",
       "_model_module_version": "1.5.0",
       "_model_name": "DescriptionStyleModel",
       "_view_count": null,
       "_view_module": "@jupyter-widgets/base",
       "_view_module_version": "1.2.0",
       "_view_name": "StyleView",
       "description_width": ""
      }
     },
     "e8ba07c224b541a3a1bb2f533695d48b": {
      "model_module": "@jupyter-widgets/controls",
      "model_module_version": "1.5.0",
      "model_name": "FloatProgressModel",
      "state": {
       "_dom_classes": [],
       "_model_module": "@jupyter-widgets/controls",
       "_model_module_version": "1.5.0",
       "_model_name": "FloatProgressModel",
       "_view_count": null,
       "_view_module": "@jupyter-widgets/controls",
       "_view_module_version": "1.5.0",
       "_view_name": "ProgressView",
       "bar_style": "success",
       "description": "",
       "description_tooltip": null,
       "layout": "IPY_MODEL_810c1baeaa7e4c0e99a591b5dc1500dc",
       "max": 280.0,
       "min": 0.0,
       "orientation": "horizontal",
       "style": "IPY_MODEL_d62f902810994f03bbc811eafb377f61",
       "value": 280.0
      }
     },
     "f8822259ac384a3e87d9dae9a0fa0ffd": {
      "model_module": "@jupyter-widgets/controls",
      "model_module_version": "1.5.0",
      "model_name": "HTMLModel",
      "state": {
       "_dom_classes": [],
       "_model_module": "@jupyter-widgets/controls",
       "_model_module_version": "1.5.0",
       "_model_name": "HTMLModel",
       "_view_count": null,
       "_view_module": "@jupyter-widgets/controls",
       "_view_module_version": "1.5.0",
       "_view_name": "HTMLView",
       "description": "",
       "description_tooltip": null,
       "layout": "IPY_MODEL_1becf367a4494a3fb4270b952bd19c48",
       "placeholder": "​",
       "style": "IPY_MODEL_5e3172017b944f388ec6d1d64a4018cf",
       "value": " 336/336 [00:00&lt;00:00, 632.65it/s]"
      }
     },
     "f9d45d2b9e7241398196e8a5f68c9d16": {
      "model_module": "@jupyter-widgets/controls",
      "model_module_version": "1.5.0",
      "model_name": "ProgressStyleModel",
      "state": {
       "_model_module": "@jupyter-widgets/controls",
       "_model_module_version": "1.5.0",
       "_model_name": "ProgressStyleModel",
       "_view_count": null,
       "_view_module": "@jupyter-widgets/base",
       "_view_module_version": "1.2.0",
       "_view_name": "StyleView",
       "bar_color": null,
       "description_width": ""
      }
     },
     "fd71ef42804e47fab974c039c9e25a48": {
      "model_module": "@jupyter-widgets/controls",
      "model_module_version": "1.5.0",
      "model_name": "HTMLModel",
      "state": {
       "_dom_classes": [],
       "_model_module": "@jupyter-widgets/controls",
       "_model_module_version": "1.5.0",
       "_model_name": "HTMLModel",
       "_view_count": null,
       "_view_module": "@jupyter-widgets/controls",
       "_view_module_version": "1.5.0",
       "_view_name": "HTMLView",
       "description": "",
       "description_tooltip": null,
       "layout": "IPY_MODEL_d2e87e316781459689793c3026957792",
       "placeholder": "​",
       "style": "IPY_MODEL_5fce17a800ea4714aa51aca08b28ce19",
       "value": "100%"
      }
     }
    },
    "version_major": 2,
    "version_minor": 0
   }
  }
 },
 "nbformat": 4,
 "nbformat_minor": 5
}
