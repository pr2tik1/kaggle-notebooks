{
 "cells": [
  {
   "cell_type": "markdown",
   "id": "educated-snake",
   "metadata": {
    "papermill": {
     "duration": 0.021907,
     "end_time": "2021-04-21T19:31:30.092203",
     "exception": false,
     "start_time": "2021-04-21T19:31:30.070296",
     "status": "completed"
    },
    "tags": []
   },
   "source": [
    "# Digit Recognition using MLP in PyTorch\n",
    "\n",
    "In this competition, our goal is to correctly identify digits from a dataset of tens of thousands of handwritten images using custom multi-layered perceptron."
   ]
  },
  {
   "cell_type": "markdown",
   "id": "premium-import",
   "metadata": {
    "papermill": {
     "duration": 0.020234,
     "end_time": "2021-04-21T19:31:30.132837",
     "exception": false,
     "start_time": "2021-04-21T19:31:30.112603",
     "status": "completed"
    },
    "tags": []
   },
   "source": [
    "## 1. Importing Libraries\n",
    "---"
   ]
  },
  {
   "cell_type": "code",
   "execution_count": 1,
   "id": "chicken-converter",
   "metadata": {
    "_cell_guid": "79c7e3d0-c299-4dcb-8224-4455121ee9b0",
    "_uuid": "d629ff2d2480ee46fbb7e2d37f6b5fab8052498a",
    "execution": {
     "iopub.execute_input": "2021-04-21T19:31:30.182049Z",
     "iopub.status.busy": "2021-04-21T19:31:30.180005Z",
     "iopub.status.idle": "2021-04-21T19:31:33.059949Z",
     "shell.execute_reply": "2021-04-21T19:31:33.058473Z"
    },
    "papermill": {
     "duration": 2.905942,
     "end_time": "2021-04-21T19:31:33.060145",
     "exception": false,
     "start_time": "2021-04-21T19:31:30.154203",
     "status": "completed"
    },
    "tags": []
   },
   "outputs": [],
   "source": [
    "#Importing all libraries\n",
    "import torch\n",
    "from torch import nn\n",
    "import torch.nn.functional as F\n",
    "from torch import optim\n",
    "\n",
    "from torchvision import datasets, transforms\n",
    "from torch.utils.data import DataLoader, TensorDataset, Dataset\n",
    "from torchvision.utils import make_grid\n",
    "from torch.autograd import Variable\n",
    "\n",
    "import time\n",
    "import helper\n",
    "from tqdm import tqdm\n",
    "\n",
    "import pandas as pd\n",
    "import numpy as np\n",
    "import matplotlib.pyplot as plt\n",
    "from sklearn.model_selection import train_test_split\n",
    "%matplotlib inline"
   ]
  },
  {
   "cell_type": "markdown",
   "id": "tender-draft",
   "metadata": {
    "papermill": {
     "duration": 0.021958,
     "end_time": "2021-04-21T19:31:33.103255",
     "exception": false,
     "start_time": "2021-04-21T19:31:33.081297",
     "status": "completed"
    },
    "tags": []
   },
   "source": [
    "## 2. Importing Dataset\n",
    "---"
   ]
  },
  {
   "cell_type": "code",
   "execution_count": 2,
   "id": "gorgeous-sentence",
   "metadata": {
    "execution": {
     "iopub.execute_input": "2021-04-21T19:31:33.151974Z",
     "iopub.status.busy": "2021-04-21T19:31:33.151254Z",
     "iopub.status.idle": "2021-04-21T19:31:40.531685Z",
     "shell.execute_reply": "2021-04-21T19:31:40.530016Z"
    },
    "papermill": {
     "duration": 7.407805,
     "end_time": "2021-04-21T19:31:40.531840",
     "exception": false,
     "start_time": "2021-04-21T19:31:33.124035",
     "status": "completed"
    },
    "tags": []
   },
   "outputs": [],
   "source": [
    "#Import data\n",
    "train_df = pd.read_csv('../input/digit-recognizer/train.csv')\n",
    "test_df = pd.read_csv('../input/digit-recognizer/test.csv')"
   ]
  },
  {
   "cell_type": "markdown",
   "id": "latest-organic",
   "metadata": {
    "papermill": {
     "duration": 0.021314,
     "end_time": "2021-04-21T19:31:40.574344",
     "exception": false,
     "start_time": "2021-04-21T19:31:40.553030",
     "status": "completed"
    },
    "tags": []
   },
   "source": [
    "## 3. Train and Validation datasets\n",
    "---\n",
    "Splitting dataset into train and validation. Also converting them to float values."
   ]
  },
  {
   "cell_type": "code",
   "execution_count": 3,
   "id": "demographic-pension",
   "metadata": {
    "execution": {
     "iopub.execute_input": "2021-04-21T19:31:40.628258Z",
     "iopub.status.busy": "2021-04-21T19:31:40.627193Z",
     "iopub.status.idle": "2021-04-21T19:31:41.108765Z",
     "shell.execute_reply": "2021-04-21T19:31:41.108085Z"
    },
    "papermill": {
     "duration": 0.513455,
     "end_time": "2021-04-21T19:31:41.108941",
     "exception": false,
     "start_time": "2021-04-21T19:31:40.595486",
     "status": "completed"
    },
    "tags": []
   },
   "outputs": [],
   "source": [
    "#Labels(Targets) and Inputs\n",
    "train_labels = train_df['label'].values\n",
    "train_images = (train_df.iloc[:,1:].values).astype('float32')\n",
    "test_images = (test_df.iloc[:,:].values).astype('float32')\n",
    "\n",
    "#Training and Validation Split\n",
    "train_images, val_images, train_labels, val_labels = train_test_split(train_images, \n",
    "                                                                      train_labels,\n",
    "                                                                      stratify=train_labels, \n",
    "                                                                      random_state=302,\n",
    "                                                                      test_size=0.2)"
   ]
  },
  {
   "cell_type": "markdown",
   "id": "worthy-paragraph",
   "metadata": {
    "papermill": {
     "duration": 0.021334,
     "end_time": "2021-04-21T19:31:41.152213",
     "exception": false,
     "start_time": "2021-04-21T19:31:41.130879",
     "status": "completed"
    },
    "tags": []
   },
   "source": [
    "## 4. Reshaping the data to make Tensors\n",
    "---"
   ]
  },
  {
   "cell_type": "code",
   "execution_count": 4,
   "id": "sustained-responsibility",
   "metadata": {
    "execution": {
     "iopub.execute_input": "2021-04-21T19:31:41.209115Z",
     "iopub.status.busy": "2021-04-21T19:31:41.208330Z",
     "iopub.status.idle": "2021-04-21T19:31:41.524132Z",
     "shell.execute_reply": "2021-04-21T19:31:41.523549Z"
    },
    "papermill": {
     "duration": 0.350236,
     "end_time": "2021-04-21T19:31:41.524278",
     "exception": false,
     "start_time": "2021-04-21T19:31:41.174042",
     "status": "completed"
    },
    "tags": []
   },
   "outputs": [],
   "source": [
    "#train\n",
    "train_images_tensor = torch.tensor(train_images)/255.0\n",
    "train_labels_tensor = torch.tensor(train_labels)\n",
    "train_tensor = TensorDataset(train_images_tensor, train_labels_tensor)\n",
    "#val\n",
    "val_images_tensor = torch.tensor(val_images)/255.0\n",
    "val_labels_tensor = torch.tensor(val_labels)\n",
    "val_tensor = TensorDataset(val_images_tensor, val_labels_tensor)\n",
    "#test\n",
    "test_images_tensor = torch.tensor(test_images)/255.0"
   ]
  },
  {
   "cell_type": "code",
   "execution_count": 5,
   "id": "three-handle",
   "metadata": {
    "execution": {
     "iopub.execute_input": "2021-04-21T19:31:41.576187Z",
     "iopub.status.busy": "2021-04-21T19:31:41.575292Z",
     "iopub.status.idle": "2021-04-21T19:31:41.580534Z",
     "shell.execute_reply": "2021-04-21T19:31:41.581075Z"
    },
    "papermill": {
     "duration": 0.035729,
     "end_time": "2021-04-21T19:31:41.581221",
     "exception": false,
     "start_time": "2021-04-21T19:31:41.545492",
     "status": "completed"
    },
    "tags": []
   },
   "outputs": [
    {
     "data": {
      "text/plain": [
       "(torch.Size([33600, 784]), torch.Size([33600]))"
      ]
     },
     "execution_count": 5,
     "metadata": {},
     "output_type": "execute_result"
    }
   ],
   "source": [
    "#View Tensor shapes \n",
    "train_images_tensor.shape, train_labels_tensor.shape "
   ]
  },
  {
   "cell_type": "markdown",
   "id": "suspended-mobility",
   "metadata": {
    "papermill": {
     "duration": 0.022082,
     "end_time": "2021-04-21T19:31:41.625282",
     "exception": false,
     "start_time": "2021-04-21T19:31:41.603200",
     "status": "completed"
    },
    "tags": []
   },
   "source": [
    "## 5. Viewing the Images\n",
    "---"
   ]
  },
  {
   "cell_type": "code",
   "execution_count": 6,
   "id": "bright-australia",
   "metadata": {
    "execution": {
     "iopub.execute_input": "2021-04-21T19:31:41.695239Z",
     "iopub.status.busy": "2021-04-21T19:31:41.694425Z",
     "iopub.status.idle": "2021-04-21T19:31:42.379076Z",
     "shell.execute_reply": "2021-04-21T19:31:42.378461Z"
    },
    "papermill": {
     "duration": 0.731891,
     "end_time": "2021-04-21T19:31:42.379221",
     "exception": false,
     "start_time": "2021-04-21T19:31:41.647330",
     "status": "completed"
    },
    "tags": []
   },
   "outputs": [
    {
     "data": {
      "image/png": "[encoded data removed]",
      "text/plain": [
       "<Figure size 864x432 with 10 Axes>"
      ]
     },
     "metadata": {
      "needs_background": "light"
     },
     "output_type": "display_data"
    }
   ],
   "source": [
    "fig, axes = plt.subplots(2,5, figsize=(12,6))\n",
    "axes = axes.flatten()\n",
    "idx = np.random.randint(0,5000,size=10)\n",
    "for i in range(10):\n",
    "    axes[i].imshow(train_images[idx[i],:].reshape(28,28), cmap='gray')\n",
    "    axes[i].axis('off') # hide the axes ticks\n",
    "    axes[i].set_title(str(int(train_labels[idx[i]])), color= 'black', fontsize=25)\n",
    "plt.show()"
   ]
  },
  {
   "cell_type": "markdown",
   "id": "absolute-gateway",
   "metadata": {
    "papermill": {
     "duration": 0.023294,
     "end_time": "2021-04-21T19:31:42.426247",
     "exception": false,
     "start_time": "2021-04-21T19:31:42.402953",
     "status": "completed"
    },
    "tags": []
   },
   "source": [
    "## 6. Feeding tensors to data loader\n",
    "---"
   ]
  },
  {
   "cell_type": "code",
   "execution_count": 7,
   "id": "undefined-forum",
   "metadata": {
    "execution": {
     "iopub.execute_input": "2021-04-21T19:31:42.484362Z",
     "iopub.status.busy": "2021-04-21T19:31:42.482332Z",
     "iopub.status.idle": "2021-04-21T19:31:42.485231Z",
     "shell.execute_reply": "2021-04-21T19:31:42.485816Z"
    },
    "papermill": {
     "duration": 0.035053,
     "end_time": "2021-04-21T19:31:42.486028",
     "exception": false,
     "start_time": "2021-04-21T19:31:42.450975",
     "status": "completed"
    },
    "tags": []
   },
   "outputs": [],
   "source": [
    "#Dataloader\n",
    "train_loader = DataLoader(train_tensor, batch_size = 64, num_workers=2, shuffle=True)\n",
    "val_loader = DataLoader(val_tensor, batch_size = 64, num_workers=2, shuffle=True)\n",
    "test_loader = DataLoader(test_images_tensor, batch_size = 32, num_workers=2, shuffle=False)"
   ]
  },
  {
   "cell_type": "code",
   "execution_count": 8,
   "id": "bigger-retirement",
   "metadata": {
    "execution": {
     "iopub.execute_input": "2021-04-21T19:31:42.542406Z",
     "iopub.status.busy": "2021-04-21T19:31:42.540681Z",
     "iopub.status.idle": "2021-04-21T19:31:42.545834Z",
     "shell.execute_reply": "2021-04-21T19:31:42.545249Z"
    },
    "papermill": {
     "duration": 0.035729,
     "end_time": "2021-04-21T19:31:42.546004",
     "exception": false,
     "start_time": "2021-04-21T19:31:42.510275",
     "status": "completed"
    },
    "tags": []
   },
   "outputs": [
    {
     "data": {
      "text/plain": [
       "525"
      ]
     },
     "execution_count": 8,
     "metadata": {},
     "output_type": "execute_result"
    }
   ],
   "source": [
    "len(train_loader)"
   ]
  },
  {
   "cell_type": "markdown",
   "id": "prerequisite-omega",
   "metadata": {
    "papermill": {
     "duration": 0.023652,
     "end_time": "2021-04-21T19:31:42.592828",
     "exception": false,
     "start_time": "2021-04-21T19:31:42.569176",
     "status": "completed"
    },
    "tags": []
   },
   "source": [
    "## 7. Defining Model Architecture\n",
    "---"
   ]
  },
  {
   "cell_type": "code",
   "execution_count": 9,
   "id": "reliable-queens",
   "metadata": {
    "execution": {
     "iopub.execute_input": "2021-04-21T19:31:42.646949Z",
     "iopub.status.busy": "2021-04-21T19:31:42.646114Z",
     "iopub.status.idle": "2021-04-21T19:31:43.287932Z",
     "shell.execute_reply": "2021-04-21T19:31:43.287302Z"
    },
    "papermill": {
     "duration": 0.671723,
     "end_time": "2021-04-21T19:31:43.288083",
     "exception": false,
     "start_time": "2021-04-21T19:31:42.616360",
     "status": "completed"
    },
    "tags": []
   },
   "outputs": [
    {
     "data": {
      "text/plain": [
       "device(type='cuda')"
      ]
     },
     "execution_count": 9,
     "metadata": {},
     "output_type": "execute_result"
    }
   ],
   "source": [
    "model = nn.Sequential(nn.Linear(784, 512),\n",
    "                      nn.LeakyReLU(),\n",
    "                      nn.Linear(512, 256),\n",
    "                      nn.BatchNorm1d(256),\n",
    "                      nn.LeakyReLU(),\n",
    "                      nn.Linear(256, 10),\n",
    "                      nn.LogSoftmax(dim=1))\n",
    "\n",
    "criterion = nn.CrossEntropyLoss()\n",
    "optimizer = optim.Adam(model.parameters(), lr=1e-5)\n",
    "device = torch.device(\"cuda\" if torch.cuda.is_available() else \"cpu\" )\n",
    "device"
   ]
  },
  {
   "cell_type": "code",
   "execution_count": 10,
   "id": "organic-seminar",
   "metadata": {
    "execution": {
     "iopub.execute_input": "2021-04-21T19:31:43.347177Z",
     "iopub.status.busy": "2021-04-21T19:31:43.346398Z",
     "iopub.status.idle": "2021-04-21T19:31:48.163633Z",
     "shell.execute_reply": "2021-04-21T19:31:48.162596Z"
    },
    "papermill": {
     "duration": 4.850897,
     "end_time": "2021-04-21T19:31:48.163780",
     "exception": false,
     "start_time": "2021-04-21T19:31:43.312883",
     "status": "completed"
    },
    "tags": []
   },
   "outputs": [
    {
     "data": {
      "text/plain": [
       "Sequential(\n",
       "  (0): Linear(in_features=784, out_features=512, bias=True)\n",
       "  (1): LeakyReLU(negative_slope=0.01)\n",
       "  (2): Linear(in_features=512, out_features=256, bias=True)\n",
       "  (3): BatchNorm1d(256, eps=1e-05, momentum=0.1, affine=True, track_running_stats=True)\n",
       "  (4): LeakyReLU(negative_slope=0.01)\n",
       "  (5): Linear(in_features=256, out_features=10, bias=True)\n",
       "  (6): LogSoftmax(dim=1)\n",
       ")"
      ]
     },
     "execution_count": 10,
     "metadata": {},
     "output_type": "execute_result"
    }
   ],
   "source": [
    "model.to(device)\n",
    "model"
   ]
  },
  {
   "cell_type": "markdown",
   "id": "consolidated-mobility",
   "metadata": {
    "papermill": {
     "duration": 0.026747,
     "end_time": "2021-04-21T19:31:48.216704",
     "exception": false,
     "start_time": "2021-04-21T19:31:48.189957",
     "status": "completed"
    },
    "tags": []
   },
   "source": [
    "## 8. Functions for training and evaluation\n",
    "---"
   ]
  },
  {
   "cell_type": "code",
   "execution_count": 11,
   "id": "intended-williams",
   "metadata": {
    "execution": {
     "iopub.execute_input": "2021-04-21T19:31:48.276226Z",
     "iopub.status.busy": "2021-04-21T19:31:48.275551Z",
     "iopub.status.idle": "2021-04-21T19:31:48.496154Z",
     "shell.execute_reply": "2021-04-21T19:31:48.494792Z"
    },
    "papermill": {
     "duration": 0.252343,
     "end_time": "2021-04-21T19:31:48.496325",
     "exception": false,
     "start_time": "2021-04-21T19:31:48.243982",
     "status": "completed"
    },
    "tags": []
   },
   "outputs": [],
   "source": [
    "from utility import train_model, cal_accuracy"
   ]
  },
  {
   "cell_type": "markdown",
   "id": "collaborative-empire",
   "metadata": {
    "papermill": {
     "duration": 0.02747,
     "end_time": "2021-04-21T19:31:48.551587",
     "exception": false,
     "start_time": "2021-04-21T19:31:48.524117",
     "status": "completed"
    },
    "tags": []
   },
   "source": [
    "## 9. Training the model over train dataset\n",
    "---"
   ]
  },
  {
   "cell_type": "code",
   "execution_count": 12,
   "id": "fluid-supply",
   "metadata": {
    "execution": {
     "iopub.execute_input": "2021-04-21T19:31:48.615650Z",
     "iopub.status.busy": "2021-04-21T19:31:48.614736Z",
     "iopub.status.idle": "2021-04-21T19:33:13.757375Z",
     "shell.execute_reply": "2021-04-21T19:33:13.756626Z"
    },
    "papermill": {
     "duration": 85.177894,
     "end_time": "2021-04-21T19:33:13.757592",
     "exception": false,
     "start_time": "2021-04-21T19:31:48.579698",
     "status": "completed"
    },
    "tags": []
   },
   "outputs": [
    {
     "name": "stdout",
     "output_type": "stream",
     "text": [
      "Epoch: 1 \tTraining Loss: 0.020788 \tValidation Loss: 0.012994\n",
      "Validation loss decreased (inf --> 0.012994).  Saving model ...\n",
      "Epoch: 2 \tTraining Loss: 0.010866 \tValidation Loss: 0.009041\n",
      "Validation loss decreased (0.012994 --> 0.009041).  Saving model ...\n",
      "Epoch: 3 \tTraining Loss: 0.008085 \tValidation Loss: 0.007061\n",
      "Validation loss decreased (0.009041 --> 0.007061).  Saving model ...\n",
      "Epoch: 4 \tTraining Loss: 0.006538 \tValidation Loss: 0.005877\n",
      "Validation loss decreased (0.007061 --> 0.005877).  Saving model ...\n",
      "Epoch: 5 \tTraining Loss: 0.005517 \tValidation Loss: 0.005019\n",
      "Validation loss decreased (0.005877 --> 0.005019).  Saving model ...\n",
      "Epoch: 6 \tTraining Loss: 0.004754 \tValidation Loss: 0.004408\n",
      "Validation loss decreased (0.005019 --> 0.004408).  Saving model ...\n",
      "Epoch: 7 \tTraining Loss: 0.004139 \tValidation Loss: 0.003930\n",
      "Validation loss decreased (0.004408 --> 0.003930).  Saving model ...\n",
      "Epoch: 8 \tTraining Loss: 0.003649 \tValidation Loss: 0.003583\n",
      "Validation loss decreased (0.003930 --> 0.003583).  Saving model ...\n",
      "Epoch: 9 \tTraining Loss: 0.003227 \tValidation Loss: 0.003206\n",
      "Validation loss decreased (0.003583 --> 0.003206).  Saving model ...\n",
      "Epoch: 10 \tTraining Loss: 0.002909 \tValidation Loss: 0.002949\n",
      "Validation loss decreased (0.003206 --> 0.002949).  Saving model ...\n",
      "Epoch: 11 \tTraining Loss: 0.002621 \tValidation Loss: 0.002726\n",
      "Validation loss decreased (0.002949 --> 0.002726).  Saving model ...\n",
      "Epoch: 12 \tTraining Loss: 0.002370 \tValidation Loss: 0.002541\n",
      "Validation loss decreased (0.002726 --> 0.002541).  Saving model ...\n",
      "Epoch: 13 \tTraining Loss: 0.002157 \tValidation Loss: 0.002389\n",
      "Validation loss decreased (0.002541 --> 0.002389).  Saving model ...\n",
      "Epoch: 14 \tTraining Loss: 0.001955 \tValidation Loss: 0.002247\n",
      "Validation loss decreased (0.002389 --> 0.002247).  Saving model ...\n",
      "Epoch: 15 \tTraining Loss: 0.001807 \tValidation Loss: 0.002140\n",
      "Validation loss decreased (0.002247 --> 0.002140).  Saving model ...\n",
      "Epoch: 16 \tTraining Loss: 0.001665 \tValidation Loss: 0.002017\n",
      "Validation loss decreased (0.002140 --> 0.002017).  Saving model ...\n",
      "Epoch: 17 \tTraining Loss: 0.001521 \tValidation Loss: 0.001947\n",
      "Validation loss decreased (0.002017 --> 0.001947).  Saving model ...\n",
      "Epoch: 18 \tTraining Loss: 0.001393 \tValidation Loss: 0.001869\n",
      "Validation loss decreased (0.001947 --> 0.001869).  Saving model ...\n",
      "Epoch: 19 \tTraining Loss: 0.001277 \tValidation Loss: 0.001815\n",
      "Validation loss decreased (0.001869 --> 0.001815).  Saving model ...\n",
      "Epoch: 20 \tTraining Loss: 0.001196 \tValidation Loss: 0.001744\n",
      "Validation loss decreased (0.001815 --> 0.001744).  Saving model ...\n"
     ]
    }
   ],
   "source": [
    "train_l, valid_l, train_a, valid_a= train_model(model, 20, train_loader, val_loader, \n",
    "            optimizer, criterion, device, model_save=True, model_name=\"model.pt\")"
   ]
  },
  {
   "cell_type": "code",
   "execution_count": 13,
   "id": "possible-madness",
   "metadata": {
    "execution": {
     "iopub.execute_input": "2021-04-21T19:33:13.854782Z",
     "iopub.status.busy": "2021-04-21T19:33:13.853663Z",
     "iopub.status.idle": "2021-04-21T19:33:14.064176Z",
     "shell.execute_reply": "2021-04-21T19:33:14.063634Z"
    },
    "papermill": {
     "duration": 0.272167,
     "end_time": "2021-04-21T19:33:14.064325",
     "exception": false,
     "start_time": "2021-04-21T19:33:13.792158",
     "status": "completed"
    },
    "tags": []
   },
   "outputs": [
    {
     "data": {
      "text/plain": [
       "<matplotlib.legend.Legend at 0x7fec62d541d0>"
      ]
     },
     "execution_count": 13,
     "metadata": {},
     "output_type": "execute_result"
    },
    {
     "data": {
      "image/png": "[encoded data removed]",
      "text/plain": [
       "<Figure size 432x288 with 1 Axes>"
      ]
     },
     "metadata": {
      "needs_background": "light"
     },
     "output_type": "display_data"
    }
   ],
   "source": [
    "plt.plot(train_l, label='Training loss')\n",
    "plt.plot(valid_l, label='Validation loss')\n",
    "plt.legend(frameon=False)"
   ]
  },
  {
   "cell_type": "code",
   "execution_count": 14,
   "id": "sticky-brighton",
   "metadata": {
    "execution": {
     "iopub.execute_input": "2021-04-21T19:33:14.174544Z",
     "iopub.status.busy": "2021-04-21T19:33:14.172797Z",
     "iopub.status.idle": "2021-04-21T19:33:14.352936Z",
     "shell.execute_reply": "2021-04-21T19:33:14.352061Z"
    },
    "papermill": {
     "duration": 0.252394,
     "end_time": "2021-04-21T19:33:14.353082",
     "exception": false,
     "start_time": "2021-04-21T19:33:14.100688",
     "status": "completed"
    },
    "tags": []
   },
   "outputs": [
    {
     "data": {
      "text/plain": [
       "<matplotlib.legend.Legend at 0x7fec84e03250>"
      ]
     },
     "execution_count": 14,
     "metadata": {},
     "output_type": "execute_result"
    },
    {
     "data": {
      "image/png": "[encoded data removed]",
      "text/plain": [
       "<Figure size 432x288 with 1 Axes>"
      ]
     },
     "metadata": {
      "needs_background": "light"
     },
     "output_type": "display_data"
    }
   ],
   "source": [
    "plt.plot(train_a, label='Training Acc')\n",
    "plt.plot(valid_a, label='Validation Acc')\n",
    "plt.legend(frameon=False)"
   ]
  },
  {
   "cell_type": "markdown",
   "id": "colonial-fifth",
   "metadata": {
    "papermill": {
     "duration": 0.038232,
     "end_time": "2021-04-21T19:33:14.428426",
     "exception": false,
     "start_time": "2021-04-21T19:33:14.390194",
     "status": "completed"
    },
    "tags": []
   },
   "source": [
    "## 10. Loading the saved model\n",
    "---"
   ]
  },
  {
   "cell_type": "code",
   "execution_count": 15,
   "id": "delayed-momentum",
   "metadata": {
    "execution": {
     "iopub.execute_input": "2021-04-21T19:33:14.511433Z",
     "iopub.status.busy": "2021-04-21T19:33:14.510535Z",
     "iopub.status.idle": "2021-04-21T19:33:14.523729Z",
     "shell.execute_reply": "2021-04-21T19:33:14.522995Z"
    },
    "papermill": {
     "duration": 0.05752,
     "end_time": "2021-04-21T19:33:14.523926",
     "exception": false,
     "start_time": "2021-04-21T19:33:14.466406",
     "status": "completed"
    },
    "tags": []
   },
   "outputs": [
    {
     "data": {
      "text/plain": [
       "<All keys matched successfully>"
      ]
     },
     "execution_count": 15,
     "metadata": {},
     "output_type": "execute_result"
    }
   ],
   "source": [
    "model.load_state_dict(torch.load('model.pt'))"
   ]
  },
  {
   "cell_type": "markdown",
   "id": "accomplished-prince",
   "metadata": {
    "papermill": {
     "duration": 0.038355,
     "end_time": "2021-04-21T19:33:14.600681",
     "exception": false,
     "start_time": "2021-04-21T19:33:14.562326",
     "status": "completed"
    },
    "tags": []
   },
   "source": [
    "## 11. Prediction\n",
    "---"
   ]
  },
  {
   "cell_type": "code",
   "execution_count": 16,
   "id": "recognized-charter",
   "metadata": {
    "execution": {
     "iopub.execute_input": "2021-04-21T19:33:14.686922Z",
     "iopub.status.busy": "2021-04-21T19:33:14.686026Z",
     "iopub.status.idle": "2021-04-21T19:33:14.691510Z",
     "shell.execute_reply": "2021-04-21T19:33:14.690473Z"
    },
    "papermill": {
     "duration": 0.052645,
     "end_time": "2021-04-21T19:33:14.691691",
     "exception": false,
     "start_time": "2021-04-21T19:33:14.639046",
     "status": "completed"
    },
    "tags": []
   },
   "outputs": [],
   "source": [
    "def make_predictions(data_loader):\n",
    "    model.eval()\n",
    "    test_preds = torch.LongTensor()\n",
    "    \n",
    "    for i, data in enumerate(data_loader):\n",
    "        data = data.view(-1, 28*28).to(device)\n",
    "        output = model(data)\n",
    "        preds = output.data.max(1, keepdim=True)[1]\n",
    "        test_preds = torch.cat((test_preds.to(device), preds.to(device)), dim=0)\n",
    "    return test_preds"
   ]
  },
  {
   "cell_type": "code",
   "execution_count": 17,
   "id": "unlike-psychology",
   "metadata": {
    "execution": {
     "iopub.execute_input": "2021-04-21T19:33:14.776612Z",
     "iopub.status.busy": "2021-04-21T19:33:14.775454Z",
     "iopub.status.idle": "2021-04-21T19:33:16.931467Z",
     "shell.execute_reply": "2021-04-21T19:33:16.930045Z"
    },
    "papermill": {
     "duration": 2.201581,
     "end_time": "2021-04-21T19:33:16.931661",
     "exception": false,
     "start_time": "2021-04-21T19:33:14.730080",
     "status": "completed"
    },
    "tags": []
   },
   "outputs": [],
   "source": [
    "test_set_preds = make_predictions(test_loader)"
   ]
  },
  {
   "cell_type": "markdown",
   "id": "arranged-blast",
   "metadata": {
    "papermill": {
     "duration": 0.037205,
     "end_time": "2021-04-21T19:33:17.004442",
     "exception": false,
     "start_time": "2021-04-21T19:33:16.967237",
     "status": "completed"
    },
    "tags": []
   },
   "source": [
    "## 12. Submission\n",
    "---"
   ]
  },
  {
   "cell_type": "code",
   "execution_count": 18,
   "id": "gentle-mason",
   "metadata": {
    "execution": {
     "iopub.execute_input": "2021-04-21T19:33:17.091619Z",
     "iopub.status.busy": "2021-04-21T19:33:17.090781Z",
     "iopub.status.idle": "2021-04-21T19:33:17.363057Z",
     "shell.execute_reply": "2021-04-21T19:33:17.361742Z"
    },
    "papermill": {
     "duration": 0.321376,
     "end_time": "2021-04-21T19:33:17.363310",
     "exception": false,
     "start_time": "2021-04-21T19:33:17.041934",
     "status": "completed"
    },
    "tags": []
   },
   "outputs": [
    {
     "data": {
      "text/html": [
       "<div>\n",
       "<style scoped>\n",
       "    .dataframe tbody tr th:only-of-type {\n",
       "        vertical-align: middle;\n",
       "    }\n",
       "\n",
       "    .dataframe tbody tr th {\n",
       "        vertical-align: top;\n",
       "    }\n",
       "\n",
       "    .dataframe thead th {\n",
       "        text-align: right;\n",
       "    }\n",
       "</style>\n",
       "<table border=\"1\" class=\"dataframe\">\n",
       "  <thead>\n",
       "    <tr style=\"text-align: right;\">\n",
       "      <th></th>\n",
       "      <th>ImageId</th>\n",
       "      <th>Label</th>\n",
       "    </tr>\n",
       "  </thead>\n",
       "  <tbody>\n",
       "    <tr>\n",
       "      <th>0</th>\n",
       "      <td>1</td>\n",
       "      <td>2</td>\n",
       "    </tr>\n",
       "    <tr>\n",
       "      <th>1</th>\n",
       "      <td>2</td>\n",
       "      <td>0</td>\n",
       "    </tr>\n",
       "    <tr>\n",
       "      <th>2</th>\n",
       "      <td>3</td>\n",
       "      <td>9</td>\n",
       "    </tr>\n",
       "    <tr>\n",
       "      <th>3</th>\n",
       "      <td>4</td>\n",
       "      <td>4</td>\n",
       "    </tr>\n",
       "    <tr>\n",
       "      <th>4</th>\n",
       "      <td>5</td>\n",
       "      <td>3</td>\n",
       "    </tr>\n",
       "  </tbody>\n",
       "</table>\n",
       "</div>"
      ],
      "text/plain": [
       "   ImageId  Label\n",
       "0        1      2\n",
       "1        2      0\n",
       "2        3      9\n",
       "3        4      4\n",
       "4        5      3"
      ]
     },
     "execution_count": 18,
     "metadata": {},
     "output_type": "execute_result"
    }
   ],
   "source": [
    "sub = pd.read_csv(\"../input/digit-recognizer/sample_submission.csv\")\n",
    "sub['Label'] = test_set_preds.cpu().numpy().squeeze()\n",
    "sub.to_csv(\"MLP#1.csv\", index=False)\n",
    "sub.head()"
   ]
  },
  {
   "cell_type": "markdown",
   "id": "arranged-insider",
   "metadata": {
    "papermill": {
     "duration": 0.037802,
     "end_time": "2021-04-21T19:33:17.439347",
     "exception": false,
     "start_time": "2021-04-21T19:33:17.401545",
     "status": "completed"
    },
    "tags": []
   },
   "source": [
    "# Thank you!\n",
    "\n",
    "Author: Pratik Kumar"
   ]
  }
 ],
 "metadata": {
  "kernelspec": {
   "display_name": "Python 3",
   "language": "python",
   "name": "python3"
  },
  "language_info": {
   "codemirror_mode": {
    "name": "ipython",
    "version": 3
   },
   "file_extension": ".py",
   "mimetype": "text/x-python",
   "name": "python",
   "nbconvert_exporter": "python",
   "pygments_lexer": "ipython3",
   "version": "3.7.9"
  },
  "papermill": {
   "default_parameters": {},
   "duration": 116.004385,
   "end_time": "2021-04-21T19:33:19.904443",
   "environment_variables": {},
   "exception": null,
   "input_path": "__notebook__.ipynb",
   "output_path": "__notebook__.ipynb",
   "parameters": {},
   "start_time": "2021-04-21T19:31:23.900058",
   "version": "2.3.2"
  }
 },
 "nbformat": 4,
 "nbformat_minor": 5
}
